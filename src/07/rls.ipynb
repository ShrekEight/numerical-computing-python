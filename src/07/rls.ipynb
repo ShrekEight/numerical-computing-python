{
 "cells": [
  {
   "cell_type": "markdown",
   "metadata": {},
   "source": [
    "# Least squres regression with regularization\n",
    "\n",
    "Main point: to reduce the influences of outliers"
   ]
  },
  {
   "cell_type": "code",
   "execution_count": 1,
   "metadata": {},
   "outputs": [],
   "source": [
    "%matplotlib inline\n",
    "import numpy as np\n",
    "import matplotlib.pyplot as plt\n",
    "import h5py"
   ]
  },
  {
   "cell_type": "code",
   "execution_count": 2,
   "metadata": {},
   "outputs": [],
   "source": [
    "d = h5py.File('rls-data.h5', 'r')\n",
    "X = d['x'][:]\n",
    "Y = d['y'][:]"
   ]
  },
  {
   "cell_type": "code",
   "execution_count": 3,
   "metadata": {},
   "outputs": [
    {
     "data": {
      "text/plain": [
       "[<matplotlib.lines.Line2D at 0x7f2a17680e10>]"
      ]
     },
     "execution_count": 3,
     "metadata": {},
     "output_type": "execute_result"
    },
    {
     "data": {
      "image/png": "[encoded data removed]",
      "text/plain": [
       "<Figure size 432x288 with 1 Axes>"
      ]
     },
     "metadata": {
      "needs_background": "light"
     },
     "output_type": "display_data"
    }
   ],
   "source": [
    "plt.plot(X,Y,'ko')"
   ]
  },
  {
   "cell_type": "code",
   "execution_count": 4,
   "metadata": {},
   "outputs": [],
   "source": [
    "# least square fitting"
   ]
  },
  {
   "cell_type": "code",
   "execution_count": 5,
   "metadata": {},
   "outputs": [
    {
     "data": {
      "text/plain": [
       "array([[0.        , 0.51020408, 0.6122449 , 0.81632653, 0.91836735,\n",
       "        1.32653061, 1.42857143, 1.53061224, 1.63265306, 1.63265306,\n",
       "        1.73469388, 1.93877551, 2.34693878, 2.34693878, 2.34693878,\n",
       "        2.65306122, 2.85714286, 3.06122449, 3.06122449, 3.16326531,\n",
       "        3.46938776, 3.57142857, 3.67346939, 3.97959184, 4.18367347,\n",
       "        4.18367347, 4.28571429, 4.28571429, 4.79591837, 4.79591837],\n",
       "       [1.        , 1.        , 1.        , 1.        , 1.        ,\n",
       "        1.        , 1.        , 1.        , 1.        , 1.        ,\n",
       "        1.        , 1.        , 1.        , 1.        , 1.        ,\n",
       "        1.        , 1.        , 1.        , 1.        , 1.        ,\n",
       "        1.        , 1.        , 1.        , 1.        , 1.        ,\n",
       "        1.        , 1.        , 1.        , 1.        , 1.        ]])"
      ]
     },
     "execution_count": 5,
     "metadata": {},
     "output_type": "execute_result"
    }
   ],
   "source": [
    "np.vstack((X, np.ones(X.shape)))"
   ]
  },
  {
   "cell_type": "code",
   "execution_count": 6,
   "metadata": {},
   "outputs": [
    {
     "data": {
      "text/plain": [
       "array([[0.        , 1.        ],\n",
       "       [0.51020408, 1.        ],\n",
       "       [0.6122449 , 1.        ],\n",
       "       [0.81632653, 1.        ],\n",
       "       [0.91836735, 1.        ],\n",
       "       [1.32653061, 1.        ],\n",
       "       [1.42857143, 1.        ],\n",
       "       [1.53061224, 1.        ],\n",
       "       [1.63265306, 1.        ],\n",
       "       [1.63265306, 1.        ],\n",
       "       [1.73469388, 1.        ],\n",
       "       [1.93877551, 1.        ],\n",
       "       [2.34693878, 1.        ],\n",
       "       [2.34693878, 1.        ],\n",
       "       [2.34693878, 1.        ],\n",
       "       [2.65306122, 1.        ],\n",
       "       [2.85714286, 1.        ],\n",
       "       [3.06122449, 1.        ],\n",
       "       [3.06122449, 1.        ],\n",
       "       [3.16326531, 1.        ],\n",
       "       [3.46938776, 1.        ],\n",
       "       [3.57142857, 1.        ],\n",
       "       [3.67346939, 1.        ],\n",
       "       [3.97959184, 1.        ],\n",
       "       [4.18367347, 1.        ],\n",
       "       [4.18367347, 1.        ],\n",
       "       [4.28571429, 1.        ],\n",
       "       [4.28571429, 1.        ],\n",
       "       [4.79591837, 1.        ],\n",
       "       [4.79591837, 1.        ]])"
      ]
     },
     "execution_count": 6,
     "metadata": {},
     "output_type": "execute_result"
    }
   ],
   "source": [
    "A = np.vstack((X, np.ones(X.shape))).T\n",
    "A"
   ]
  },
  {
   "cell_type": "code",
   "execution_count": 7,
   "metadata": {},
   "outputs": [
    {
     "data": {
      "text/plain": [
       "(array([0.56254629, 1.64155068]),\n",
       " array([55.95615884]),\n",
       " 2,\n",
       " array([16.63842323,  2.42711812]))"
      ]
     },
     "execution_count": 7,
     "metadata": {},
     "output_type": "execute_result"
    }
   ],
   "source": [
    "np.linalg.lstsq(A, Y, rcond=None)"
   ]
  },
  {
   "cell_type": "code",
   "execution_count": 8,
   "metadata": {},
   "outputs": [],
   "source": [
    "theta = np.linalg.lstsq(A, Y, rcond=None)[0]"
   ]
  },
  {
   "cell_type": "code",
   "execution_count": 9,
   "metadata": {},
   "outputs": [
    {
     "data": {
      "text/plain": [
       "array([0.56254629, 1.64155068])"
      ]
     },
     "execution_count": 9,
     "metadata": {},
     "output_type": "execute_result"
    }
   ],
   "source": [
    "theta"
   ]
  },
  {
   "cell_type": "code",
   "execution_count": 10,
   "metadata": {},
   "outputs": [
    {
     "data": {
      "text/plain": [
       "[<matplotlib.lines.Line2D at 0x7f2a175d4750>]"
      ]
     },
     "execution_count": 10,
     "metadata": {},
     "output_type": "execute_result"
    },
    {
     "data": {
      "image/png": "[encoded data removed]",
      "text/plain": [
       "<Figure size 432x288 with 1 Axes>"
      ]
     },
     "metadata": {
      "needs_background": "light"
     },
     "output_type": "display_data"
    }
   ],
   "source": [
    "xp = np.linspace(0, 6, 3)\n",
    "plt.plot(xp, theta[0]*xp + theta[1], 'b--')\n",
    "plt.plot(X,Y,'ro')"
   ]
  },
  {
   "cell_type": "code",
   "execution_count": 11,
   "metadata": {},
   "outputs": [],
   "source": [
    "# regularized least squares"
   ]
  },
  {
   "cell_type": "code",
   "execution_count": 12,
   "metadata": {},
   "outputs": [
    {
     "data": {
      "text/plain": [
       "(30, 30)"
      ]
     },
     "execution_count": 12,
     "metadata": {},
     "output_type": "execute_result"
    }
   ],
   "source": [
    "len(X), len(Y)"
   ]
  },
  {
   "cell_type": "code",
   "execution_count": 13,
   "metadata": {},
   "outputs": [],
   "source": [
    "import scipy.sparse.linalg as sla"
   ]
  },
  {
   "cell_type": "code",
   "execution_count": 14,
   "metadata": {},
   "outputs": [],
   "source": [
    "theta2 = sla.lsmr(A, Y, damp=5)[0]"
   ]
  },
  {
   "cell_type": "code",
   "execution_count": 15,
   "metadata": {},
   "outputs": [
    {
     "data": {
      "text/plain": [
       "[<matplotlib.lines.Line2D at 0x7f2a16494d50>]"
      ]
     },
     "execution_count": 15,
     "metadata": {},
     "output_type": "execute_result"
    },
    {
     "data": {
      "image/png": "[encoded data removed]",
      "text/plain": [
       "<Figure size 432x288 with 1 Axes>"
      ]
     },
     "metadata": {
      "needs_background": "light"
     },
     "output_type": "display_data"
    }
   ],
   "source": [
    "plt.plot(xp, theta2[0]*xp + theta2[1], 'r-')\n",
    "plt.plot(xp, theta[0]*xp + theta[1], 'b--')\n",
    "plt.plot(X, Y, 'ko')"
   ]
  },
  {
   "cell_type": "code",
   "execution_count": 16,
   "metadata": {},
   "outputs": [],
   "source": [
    "# excluding the outliers"
   ]
  },
  {
   "cell_type": "code",
   "execution_count": 17,
   "metadata": {},
   "outputs": [
    {
     "data": {
      "text/plain": [
       "[<matplotlib.lines.Line2D at 0x7f2a16404dd0>]"
      ]
     },
     "execution_count": 17,
     "metadata": {},
     "output_type": "execute_result"
    },
    {
     "data": {
      "image/png": "[encoded data removed]",
      "text/plain": [
       "<Figure size 432x288 with 1 Axes>"
      ]
     },
     "metadata": {
      "needs_background": "light"
     },
     "output_type": "display_data"
    }
   ],
   "source": [
    "idx = Y < 5\n",
    "x3 = X[idx]\n",
    "y3 = Y[idx]\n",
    "plt.plot(x3,y3,'ko')"
   ]
  },
  {
   "cell_type": "code",
   "execution_count": 18,
   "metadata": {},
   "outputs": [],
   "source": [
    "A3 = np.vstack((x3, np.ones(x3.shape))).T\n",
    "theta3 = np.linalg.lstsq(A3, y3, rcond=None)[0]"
   ]
  },
  {
   "cell_type": "code",
   "execution_count": 19,
   "metadata": {},
   "outputs": [
    {
     "data": {
      "text/plain": [
       "<matplotlib.legend.Legend at 0x7f2a16380050>"
      ]
     },
     "execution_count": 19,
     "metadata": {},
     "output_type": "execute_result"
    },
    {
     "data": {
      "image/png": "[encoded data removed]",
      "text/plain": [
       "<Figure size 432x288 with 1 Axes>"
      ]
     },
     "metadata": {
      "needs_background": "light"
     },
     "output_type": "display_data"
    }
   ],
   "source": [
    "plt.plot(xp, theta2[0]*xp + theta2[1], 'r-', label='regularized LS')\n",
    "plt.plot(xp, theta[0]*xp + theta[1], 'b--', label='standard LS')\n",
    "plt.plot(xp, theta3[0]*xp + theta3[1], 'g--', label='standard LS without outliers') \n",
    "plt.plot(X, Y, 'ko', label='data')\n",
    "plt.legend()"
   ]
  },
  {
   "cell_type": "code",
   "execution_count": 20,
   "metadata": {},
   "outputs": [],
   "source": [
    "# interactive plot"
   ]
  },
  {
   "cell_type": "code",
   "execution_count": 21,
   "metadata": {},
   "outputs": [],
   "source": [
    "from ipywidgets import interactive, fixed"
   ]
  },
  {
   "cell_type": "code",
   "execution_count": 22,
   "metadata": {},
   "outputs": [
    {
     "data": {
      "application/vnd.jupyter.widget-view+json": {
       "model_id": "6cb284c73668496999d4421f3572114e",
       "version_major": 2,
       "version_minor": 0
      },
      "text/plain": [
       "interactive(children=(IntSlider(value=10, description='d', max=20), Output()), _dom_classes=('widget-interact'…"
      ]
     },
     "metadata": {},
     "output_type": "display_data"
    }
   ],
   "source": [
    "def rlq(d, At, Yt):\n",
    "    theta = sla.lsmr(At, Yt, damp=d)[0]\n",
    "    plt.plot(xp, theta[0]*xp + theta[1], 'r--', label='RLS')\n",
    "    plt.plot(X, Y, 'ko', label='data')\n",
    "    plt.text(4, 2, 'd={}'.format(d))\n",
    "    plt.legend(loc='lower right')\n",
    "    \n",
    "interactive(rlq, d=(0,20), At=fixed(A), Yt=fixed(Y))"
   ]
  },
  {
   "cell_type": "code",
   "execution_count": null,
   "metadata": {},
   "outputs": [],
   "source": []
  }
 ],
 "metadata": {
  "kernelspec": {
   "display_name": "Python 3",
   "language": "python",
   "name": "python3"
  },
  "language_info": {
   "codemirror_mode": {
    "name": "ipython",
    "version": 3
   },
   "file_extension": ".py",
   "mimetype": "text/x-python",
   "name": "python",
   "nbconvert_exporter": "python",
   "pygments_lexer": "ipython3",
   "version": "3.7.6"
  }
 },
 "nbformat": 4,
 "nbformat_minor": 4
}
