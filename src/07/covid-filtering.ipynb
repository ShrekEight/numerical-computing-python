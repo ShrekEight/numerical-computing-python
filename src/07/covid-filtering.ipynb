{
 "cells": [
  {
   "cell_type": "markdown",
   "metadata": {},
   "source": [
    "# Filtering (smoothing) the COVID-19 data\n",
    "\n",
    "Reference: https://github.com/CSSEGISandData/COVID-19/tree/master/csse_covid_19_data/csse_covid_19_daily_reports_us"
   ]
  },
  {
   "cell_type": "code",
   "execution_count": 1,
   "metadata": {},
   "outputs": [],
   "source": [
    "%matplotlib inline\n",
    "import pandas as pd\n",
    "import numpy as np\n",
    "import glob\n",
    "import matplotlib.pyplot as plt"
   ]
  },
  {
   "cell_type": "code",
   "execution_count": 2,
   "metadata": {},
   "outputs": [
    {
     "data": {
      "text/plain": [
       "['data/covid19/08-01-2020.csv',\n",
       " 'data/covid19/08-02-2020.csv',\n",
       " 'data/covid19/08-03-2020.csv',\n",
       " 'data/covid19/08-04-2020.csv',\n",
       " 'data/covid19/08-05-2020.csv']"
      ]
     },
     "execution_count": 2,
     "metadata": {},
     "output_type": "execute_result"
    }
   ],
   "source": [
    "flist=glob.glob('data/covid19/*.csv')\n",
    "flist=sorted(flist)\n",
    "flist[-5:]"
   ]
  },
  {
   "cell_type": "code",
   "execution_count": 3,
   "metadata": {},
   "outputs": [],
   "source": [
    "df_list = []\n",
    "for f in flist:\n",
    "    df = pd.read_csv(f)\n",
    "    ca = df[df['Province_State']=='California'][['Province_State', 'Last_Update', 'Confirmed', 'Deaths']]\n",
    "    df_list.append(ca)"
   ]
  },
  {
   "cell_type": "code",
   "execution_count": 4,
   "metadata": {},
   "outputs": [
    {
     "data": {
      "text/html": [
       "<div>\n",
       "<style scoped>\n",
       "    .dataframe tbody tr th:only-of-type {\n",
       "        vertical-align: middle;\n",
       "    }\n",
       "\n",
       "    .dataframe tbody tr th {\n",
       "        vertical-align: top;\n",
       "    }\n",
       "\n",
       "    .dataframe thead th {\n",
       "        text-align: right;\n",
       "    }\n",
       "</style>\n",
       "<table border=\"1\" class=\"dataframe\">\n",
       "  <thead>\n",
       "    <tr style=\"text-align: right;\">\n",
       "      <th></th>\n",
       "      <th>Province_State</th>\n",
       "      <th>Last_Update</th>\n",
       "      <th>Confirmed</th>\n",
       "      <th>Deaths</th>\n",
       "    </tr>\n",
       "  </thead>\n",
       "  <tbody>\n",
       "    <tr>\n",
       "      <th>5</th>\n",
       "      <td>California</td>\n",
       "      <td>2020-08-02 04:35:05</td>\n",
       "      <td>506613</td>\n",
       "      <td>9345</td>\n",
       "    </tr>\n",
       "    <tr>\n",
       "      <th>5</th>\n",
       "      <td>California</td>\n",
       "      <td>2020-08-03 04:34:47</td>\n",
       "      <td>512175</td>\n",
       "      <td>9396</td>\n",
       "    </tr>\n",
       "    <tr>\n",
       "      <th>5</th>\n",
       "      <td>California</td>\n",
       "      <td>2020-08-04 04:42:12</td>\n",
       "      <td>516851</td>\n",
       "      <td>9441</td>\n",
       "    </tr>\n",
       "    <tr>\n",
       "      <th>5</th>\n",
       "      <td>California</td>\n",
       "      <td>2020-08-05 04:34:56</td>\n",
       "      <td>526685</td>\n",
       "      <td>9684</td>\n",
       "    </tr>\n",
       "    <tr>\n",
       "      <th>5</th>\n",
       "      <td>California</td>\n",
       "      <td>2020-08-06 04:35:14</td>\n",
       "      <td>530606</td>\n",
       "      <td>9808</td>\n",
       "    </tr>\n",
       "  </tbody>\n",
       "</table>\n",
       "</div>"
      ],
      "text/plain": [
       "  Province_State          Last_Update  Confirmed  Deaths\n",
       "5     California  2020-08-02 04:35:05     506613    9345\n",
       "5     California  2020-08-03 04:34:47     512175    9396\n",
       "5     California  2020-08-04 04:42:12     516851    9441\n",
       "5     California  2020-08-05 04:34:56     526685    9684\n",
       "5     California  2020-08-06 04:35:14     530606    9808"
      ]
     },
     "execution_count": 4,
     "metadata": {},
     "output_type": "execute_result"
    }
   ],
   "source": [
    "df2 = pd.concat(df_list)\n",
    "df2[-5:]"
   ]
  },
  {
   "cell_type": "code",
   "execution_count": 5,
   "metadata": {},
   "outputs": [],
   "source": [
    "date_of_first_day = df2.iloc[0]['Last_Update'].split()[0]"
   ]
  },
  {
   "cell_type": "code",
   "execution_count": 6,
   "metadata": {},
   "outputs": [
    {
     "data": {
      "text/plain": [
       "4    22795\n",
       "5    23931\n",
       "5    25356\n",
       "5    26686\n",
       "5    27677\n",
       "Name: Confirmed, dtype: int64"
      ]
     },
     "execution_count": 6,
     "metadata": {},
     "output_type": "execute_result"
    }
   ],
   "source": [
    "c = df2['Confirmed']\n",
    "c.head()"
   ]
  },
  {
   "cell_type": "code",
   "execution_count": 7,
   "metadata": {},
   "outputs": [
    {
     "data": {
      "text/plain": [
       "Text(0, 0.5, 'Number of confirmed cases')"
      ]
     },
     "execution_count": 7,
     "metadata": {},
     "output_type": "execute_result"
    },
    {
     "data": {
      "image/png": "[encoded data removed]",
      "text/plain": [
       "<Figure size 864x288 with 1 Axes>"
      ]
     },
     "metadata": {
      "needs_background": "light"
     },
     "output_type": "display_data"
    }
   ],
   "source": [
    "# visualize the number of confirmed cases\n",
    "plt.figure(figsize=(12,4))\n",
    "plt.bar(np.arange(c.shape[0]), c)\n",
    "plt.xlabel('Number of days after {}'.format(date_of_first_day))\n",
    "plt.ylabel('Number of confirmed cases')"
   ]
  },
  {
   "cell_type": "code",
   "execution_count": 8,
   "metadata": {},
   "outputs": [
    {
     "data": {
      "text/plain": [
       "array([ 1136,  1425,  1330,   991,  1480,  1334,   940,  2255,  1779,\n",
       "        1879,  2217,  1794,  1013,  1190,  1408,  1198,  2583,  1383,\n",
       "        1896,  1321,  1556,   981,  2572,  2160,  1532,  1631,  2779,\n",
       "        1042,  1729,  1649,  1820,  2073,  1822,  2032,  1441,  1291,\n",
       "        2295,  2245,  2034,  2221,  2287,  1481,  2380,  2987,  1663,\n",
       "        2763,  2809,  3273,  2056,  2782,  2482,  2133,  2820,  3570,\n",
       "        2855,  2022,  3201,  2825,  3074,  3662,  3282,  3359,  2282,\n",
       "        3426,  3235,  3837,  4288,  3776,  4351,  3333,  6219,  6712,\n",
       "        4448,  5187,  5732,  3740,  4712,  8350,  7586,  7449,  7869,\n",
       "        3964,  2381, 11786,  6354, 12977,  8548,  9924,  8401,  7876,\n",
       "        5782,  8814, 12854,  8674,  9821,  8553,  7486,  6161, 10964,\n",
       "       11435, 11981,  9487,  9412,  6267,  5836,  5833, 12641, 14151,\n",
       "        8021,  7622,  6057,  5562,  4676,  9834,  3921])"
      ]
     },
     "execution_count": 8,
     "metadata": {},
     "output_type": "execute_result"
    }
   ],
   "source": [
    "# compute the daily values: daily(n) = f(n+1) - f(n)\n",
    "c2 = c[1:].values - c[:-1].values\n",
    "c2"
   ]
  },
  {
   "cell_type": "code",
   "execution_count": 9,
   "metadata": {},
   "outputs": [
    {
     "data": {
      "text/plain": [
       "(1136, 1425)"
      ]
     },
     "execution_count": 9,
     "metadata": {},
     "output_type": "execute_result"
    }
   ],
   "source": [
    "# for example, the daily values for the first two days\n",
    "c.iloc[1] - c.iloc[0], c.iloc[2]-c.iloc[1]"
   ]
  },
  {
   "cell_type": "code",
   "execution_count": 10,
   "metadata": {},
   "outputs": [
    {
     "data": {
      "text/plain": [
       "Text(0, 0.5, 'Number of daily confirmed cases')"
      ]
     },
     "execution_count": 10,
     "metadata": {},
     "output_type": "execute_result"
    },
    {
     "data": {
      "image/png": "[encoded data removed]",
      "text/plain": [
       "<Figure size 864x288 with 1 Axes>"
      ]
     },
     "metadata": {
      "needs_background": "light"
     },
     "output_type": "display_data"
    }
   ],
   "source": [
    "plt.figure(figsize=(12,4))\n",
    "plt.bar(np.arange(c2.shape[0]), c2)\n",
    "plt.xlabel('Number of days after {}'.format(date_of_first_day))\n",
    "plt.ylabel('Number of daily confirmed cases')"
   ]
  },
  {
   "cell_type": "code",
   "execution_count": 11,
   "metadata": {},
   "outputs": [],
   "source": [
    "# average the past 7 days\n",
    "cavg = (c2[0:-7] + c2[1:-6] + c2[2:-5] + c2[3:-4] + c2[4:-3] + c2[5:-2] + c2[6:-1])/7"
   ]
  },
  {
   "cell_type": "code",
   "execution_count": 13,
   "metadata": {},
   "outputs": [
    {
     "data": {
      "text/plain": [
       "<matplotlib.legend.Legend at 0x7f76c93b8c90>"
      ]
     },
     "execution_count": 13,
     "metadata": {},
     "output_type": "execute_result"
    },
    {
     "data": {
      "image/png": "[encoded data removed]",
      "text/plain": [
       "<Figure size 864x288 with 1 Axes>"
      ]
     },
     "metadata": {
      "needs_background": "light"
     },
     "output_type": "display_data"
    }
   ],
   "source": [
    "plt.figure(figsize=(12,4))\n",
    "plt.bar(np.arange(c2.shape[0]), c2, label='daily data', color='lightgray')\n",
    "plt.plot(np.arange(cavg.shape[0])+7, cavg, 'r-', label='past-7-day average')\n",
    "plt.ylabel('Number of confirmed cases')\n",
    "plt.xlabel('Number of days after {}'.format(date_of_first_day))\n",
    "plt.legend(frameon=False)"
   ]
  },
  {
   "cell_type": "markdown",
   "metadata": {},
   "source": [
    "## Exercise\n",
    "\n",
    "1. Plot the 7-day average of the number of daily deaths.\n",
    "\n",
    "2. Instead of using the average of the past 7 days, filter the data such that the present day average is computed from the average of the past 3 days, the present day, and the next 3 days (i.e. a 7-day window). Plot your results with the results of past-7-day-average and the daily data.\n",
    "\n",
    "3. Organize your code that the size of the averaging window is an input parameter, so you can easily plot the results of, say, 5-day or 14-day averages."
   ]
  },
  {
   "cell_type": "code",
   "execution_count": null,
   "metadata": {},
   "outputs": [],
   "source": []
  }
 ],
 "metadata": {
  "kernelspec": {
   "display_name": "Python 3",
   "language": "python",
   "name": "python3"
  },
  "language_info": {
   "codemirror_mode": {
    "name": "ipython",
    "version": 3
   },
   "file_extension": ".py",
   "mimetype": "text/x-python",
   "name": "python",
   "nbconvert_exporter": "python",
   "pygments_lexer": "ipython3",
   "version": "3.7.6"
  }
 },
 "nbformat": 4,
 "nbformat_minor": 4
}
