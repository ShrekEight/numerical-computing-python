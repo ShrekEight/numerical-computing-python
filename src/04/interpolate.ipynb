{
 "cells": [
  {
   "cell_type": "markdown",
   "metadata": {},
   "source": [
    "# Interpolation\n",
    "\n",
    "Fitting functions from experiment (measurement) data and evaluating the function at points where there are no measurement data."
   ]
  },
  {
   "cell_type": "code",
   "execution_count": null,
   "metadata": {},
   "outputs": [],
   "source": [
    "%matplotlib inline\n",
    "import numpy as np\n",
    "import matplotlib.pyplot as plt"
   ]
  },
  {
   "cell_type": "markdown",
   "metadata": {},
   "source": [
    "Consider the experimental data $X$:"
   ]
  },
  {
   "cell_type": "code",
   "execution_count": null,
   "metadata": {},
   "outputs": [],
   "source": [
    "N = 10\n",
    "t = np.linspace(0, 1, N)\n",
    "noise = (np.random.random(N) * 2 - 1) * 0.1\n",
    "data = np.sin(2*np.pi*t) + noise\n",
    "plt.plot(t, data, 'o-')\n",
    "plt.xlabel('t')\n",
    "plt.ylabel('data')"
   ]
  },
  {
   "cell_type": "code",
   "execution_count": null,
   "metadata": {},
   "outputs": [],
   "source": [
    "from scipy.interpolate import interp1d"
   ]
  },
  {
   "cell_type": "markdown",
   "metadata": {},
   "source": [
    "## 1D linear interpolation"
   ]
  },
  {
   "cell_type": "code",
   "execution_count": null,
   "metadata": {},
   "outputs": [],
   "source": [
    "linear_interp = interp1d(t, data, kind='linear')  # linear_interp is an interp1d object\n",
    "linear_interp"
   ]
  },
  {
   "cell_type": "markdown",
   "metadata": {},
   "source": [
    "We can evaluate linear_interp at, e.g. t = 0.15 (where no measurement exist)"
   ]
  },
  {
   "cell_type": "code",
   "execution_count": null,
   "metadata": {},
   "outputs": [],
   "source": [
    "t_eval = [0.15]\n",
    "interp_eval = linear_interp([0.15])\n",
    "interp_eval"
   ]
  },
  {
   "cell_type": "code",
   "execution_count": null,
   "metadata": {},
   "outputs": [],
   "source": [
    "plt.plot(t, data, 'o-')\n",
    "plt.plot(t_eval, interp_eval, 'o')"
   ]
  },
  {
   "cell_type": "markdown",
   "metadata": {},
   "source": [
    "## 1D cubic interpolation\n",
    "\n",
    "Cubic fits piecewise third-order polynomials on every 4-point window with smooth vairation across the windows"
   ]
  },
  {
   "cell_type": "code",
   "execution_count": null,
   "metadata": {},
   "outputs": [],
   "source": [
    "cubic_interp = interp1d(t, data, kind='cubic')"
   ]
  },
  {
   "cell_type": "code",
   "execution_count": null,
   "metadata": {},
   "outputs": [],
   "source": [
    "# to plot the cubic-spline fit, we will use dense grid to show the smooth curve\n",
    "\n",
    "td = np.linspace(0, 1, 100)\n",
    "cubic_plt = cubic_interp(td)\n",
    "plt.plot(td, cubic_plt, '-', label='cubic')\n",
    "plt.plot(t, data, 'ko', label='data')\n",
    "plt.legend(frameon=False)"
   ]
  },
  {
   "cell_type": "markdown",
   "metadata": {},
   "source": [
    "We can evaluate points where no measurements exist, e.g."
   ]
  },
  {
   "cell_type": "code",
   "execution_count": null,
   "metadata": {},
   "outputs": [],
   "source": [
    "t_eval = [0.15, 0.3, 0.6]\n",
    "cubic_eval = cubic_interp(t_eval)\n",
    "\n",
    "plt.plot(td, cubic_plt, '-', label='cubic')\n",
    "plt.plot(t, data, 'ko', label='data')\n",
    "plt.plot(t_eval, cubic_eval, 'ro', label='eval. pts')\n",
    "plt.legend(frameon=False)"
   ]
  },
  {
   "cell_type": "code",
   "execution_count": null,
   "metadata": {},
   "outputs": [],
   "source": []
  }
 ],
 "metadata": {
  "kernelspec": {
   "display_name": "Python 3",
   "language": "python",
   "name": "python3"
  },
  "language_info": {
   "codemirror_mode": {
    "name": "ipython",
    "version": 3
   },
   "file_extension": ".py",
   "mimetype": "text/x-python",
   "name": "python",
   "nbconvert_exporter": "python",
   "pygments_lexer": "ipython3",
   "version": "3.7.6"
  }
 },
 "nbformat": 4,
 "nbformat_minor": 4
}
