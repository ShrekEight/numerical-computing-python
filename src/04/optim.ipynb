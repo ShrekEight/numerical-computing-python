{
 "cells": [
  {
   "cell_type": "markdown",
   "metadata": {},
   "source": [
    "# Optimization and fit"
   ]
  },
  {
   "cell_type": "code",
   "execution_count": null,
   "metadata": {},
   "outputs": [],
   "source": [
    "%matplotlib inline\n",
    "import numpy as np\n",
    "import matplotlib.pyplot as plt\n",
    "\n",
    "from scipy import optimize"
   ]
  },
  {
   "cell_type": "markdown",
   "metadata": {},
   "source": [
    "## Curve fitting\n",
    "\n",
    "**Key point**: In a curve fitting, the functional form of the curve is assumed, and the curve does not necessarily pass through the data points. The curve is best fit (or \"optimized\") by minimizing certain error criterion."
   ]
  },
  {
   "cell_type": "markdown",
   "metadata": {},
   "source": [
    "Consider the following data sets: $X$ and $Y$, and let's pretend we don't know how the data was generated:"
   ]
  },
  {
   "cell_type": "code",
   "execution_count": null,
   "metadata": {},
   "outputs": [],
   "source": [
    "N = 50\n",
    "X = np.linspace(-5, 5, N)\n",
    "Y = 2.9 * np.sin(1.5 * X) + np.random.normal(size=N)"
   ]
  },
  {
   "cell_type": "code",
   "execution_count": null,
   "metadata": {},
   "outputs": [],
   "source": [
    "plt.plot(X,Y, 'ko')\n",
    "plt.xlabel('x')\n",
    "plt.ylabel('y')"
   ]
  },
  {
   "cell_type": "markdown",
   "metadata": {},
   "source": [
    "The data plotted above looks like a sine wave, but we don't know the amplitude and frequency. Let's assume the data follow this function: $ f(x) = a \\sin (b x) $, where $a$ is the amplitude and $b$ is the frequency. $a$ and $b$ are unknown at this point. Let's define this function in Python as:"
   ]
  },
  {
   "cell_type": "code",
   "execution_count": null,
   "metadata": {},
   "outputs": [],
   "source": [
    "def test_func(x, a, b):\n",
    "    return a * np.sin(b * x)"
   ]
  },
  {
   "cell_type": "markdown",
   "metadata": {},
   "source": [
    "Now we use fit the function to the data $X$ and $Y$ using `curve_fit`. The \"initial guess\" for $a$ and $b$ are passed in the `p0` parameter."
   ]
  },
  {
   "cell_type": "code",
   "execution_count": null,
   "metadata": {},
   "outputs": [],
   "source": [
    "params, parms_cov = optimize.curve_fit(test_func, X, Y, p0=[2, 2])"
   ]
  },
  {
   "cell_type": "markdown",
   "metadata": {},
   "source": [
    "The curve_fit function returns two sets of results:\n",
    "\n",
    "`params` are the $a$ and $b$ values:"
   ]
  },
  {
   "cell_type": "code",
   "execution_count": null,
   "metadata": {},
   "outputs": [],
   "source": [
    "params"
   ]
  },
  {
   "cell_type": "markdown",
   "metadata": {},
   "source": [
    "`params_cov` are the covariance - the diagonals provide the variance of the parameter estimate (the smaller the better)."
   ]
  },
  {
   "cell_type": "code",
   "execution_count": null,
   "metadata": {},
   "outputs": [],
   "source": [
    "parms_cov"
   ]
  },
  {
   "cell_type": "markdown",
   "metadata": {},
   "source": [
    "Now we can plot the curve_fit results on top of the original data $X$, $Y$."
   ]
  },
  {
   "cell_type": "code",
   "execution_count": null,
   "metadata": {},
   "outputs": [],
   "source": [
    "a, b = params\n",
    "a, b"
   ]
  },
  {
   "cell_type": "code",
   "execution_count": null,
   "metadata": {},
   "outputs": [],
   "source": [
    "# use dense grid to plot smooth sine curve\n",
    "\n",
    "plt.figure()\n",
    "t = np.linspace(-5,5, 100)\n",
    "plt.plot(t, test_func(t, a, b), 'r-', label='curve fit')\n",
    "plt.plot(X,Y, 'ko', label='data')\n",
    "plt.legend()"
   ]
  },
  {
   "cell_type": "markdown",
   "metadata": {},
   "source": [
    "## Example: fitting the temperature data\n",
    "\n",
    "The monthly Alaska temperature extremes in degrees Celcius, starting in January, are:\n",
    "\n",
    "```\n",
    "max:  17,  19,  21,  28,  33,  38, 37,  37,  31,  23,  19,  18\n",
    "min: -62, -59, -56, -46, -32, -18, -9, -13, -25, -46, -52, -58\n",
    "```"
   ]
  },
  {
   "cell_type": "markdown",
   "metadata": {},
   "source": [
    "Let's first visualize the data:"
   ]
  },
  {
   "cell_type": "code",
   "execution_count": null,
   "metadata": {},
   "outputs": [],
   "source": [
    "H = np.array([17,  19,  21,  28,  33,  38, 37,  37,  31,  23,  19,  18])\n",
    "L = np.array([-62, -59, -56, -46, -32, -18, -9, -13, -25, -46, -52, -58])\n",
    "months = np.arange(12)\n",
    "plt.plot(months, H, 'ro', label='high')\n",
    "plt.plot(months, L, 'bo', label='low')\n",
    "plt.xlabel('month')\n",
    "plt.ylabel('temperature')\n",
    "plt.legend()"
   ]
  },
  {
   "cell_type": "markdown",
   "metadata": {},
   "source": [
    "The distribution looks like a cosine function. Let's assume the function form of the temperature variable is a scaled, shifted cosine function:\n",
    "\n",
    "$$avg + amp* cos[ 2\\pi(t + s)/t_{max}]$$\n",
    "\n",
    "Note the use of $s$ to shift the peak of the cosine function, and $t_{max}$ to normalize the range of the independent variable (recall the period of the cosine function is $2\\pi$)."
   ]
  },
  {
   "cell_type": "code",
   "execution_count": null,
   "metadata": {},
   "outputs": [],
   "source": [
    "def test_func(t, avg, amp, s):\n",
    "    return avg + amp * np.cos( 2* np.pi * (t + s) / t.max())"
   ]
  },
  {
   "cell_type": "code",
   "execution_count": null,
   "metadata": {},
   "outputs": [],
   "source": [
    "# fit the high temperature (H)\n",
    "\n",
    "params_max, cov_max = optimize.curve_fit(test_func, months, H, [20, 10, 0])\n",
    "\n",
    "days = np.linspace(0, 12, 365)\n",
    "plt.plot(days, test_func(days, *params_max), 'k--')\n",
    "plt.plot(months, H, 'ro')"
   ]
  },
  {
   "cell_type": "code",
   "execution_count": null,
   "metadata": {},
   "outputs": [],
   "source": [
    "cov_max"
   ]
  },
  {
   "cell_type": "code",
   "execution_count": null,
   "metadata": {},
   "outputs": [],
   "source": [
    "# fit the low temperature (L) using the same test_func()\n",
    "\n",
    "params_min, cov_min = optimize.curve_fit(test_func, months, L, [-40, 20, 0])\n",
    "\n",
    "plt.plot(days, test_func(days, *params_min), 'k--')\n",
    "plt.plot(months, L, 'bo')\n",
    "\n",
    "# also plot the high temperatures\n",
    "plt.plot(days, test_func(days, *params_max), 'k--')\n",
    "plt.plot(months, H, 'ro')\n",
    "plt.ylabel('temperature')\n",
    "plt.xlabel('month')"
   ]
  },
  {
   "cell_type": "markdown",
   "metadata": {},
   "source": [
    "## Finding the minimum of a function"
   ]
  },
  {
   "cell_type": "markdown",
   "metadata": {},
   "source": [
    "Consider the function: $ x^2 + 10\\sin(x) $"
   ]
  },
  {
   "cell_type": "code",
   "execution_count": null,
   "metadata": {},
   "outputs": [],
   "source": [
    "def func(x):\n",
    "    return 10*np.sin(x) + x**2\n",
    "\n",
    "# plot the function\n",
    "x = np.linspace(-10,10,201)\n",
    "plt.plot(x,func(x),'k-')\n",
    "plt.xlabel(r'$x$')\n",
    "plt.ylabel(r'$f(x)$')"
   ]
  },
  {
   "cell_type": "code",
   "execution_count": null,
   "metadata": {},
   "outputs": [],
   "source": [
    "# find the minimum, starting from x=x0 (initial guess)\n",
    "xinit = np.array([2.5])\n",
    "res = optimize.minimize(func, x0=xinit)\n",
    "\n",
    "# plot the results\n",
    "plt.plot(x,func(x),'k-')\n",
    "plt.plot(xinit, func(xinit), 'go', label='initial guess')\n",
    "plt.plot(res.x, func(res.x), 'ro', label='minimum')\n",
    "plt.legend()"
   ]
  },
  {
   "cell_type": "code",
   "execution_count": null,
   "metadata": {},
   "outputs": [],
   "source": [
    "# the optimization result object\n",
    "res"
   ]
  },
  {
   "cell_type": "markdown",
   "metadata": {},
   "source": [
    "Exercise:\n",
    "    \n",
    "Change the value of `xinit` (initial guess) and observe the final minimum point. For example, set `xinit` to 2.5."
   ]
  },
  {
   "cell_type": "markdown",
   "metadata": {},
   "source": [
    "## Local minimum vs global minimum\n",
    "\n",
    "The default method of `optimize.minimize()` is `BFGS` which can only find local minimum, i.e. the solution may depend on the initial guess, as observed above. We need to use another routine `basinhopping()` to find the global minimum.\n",
    "\n",
    "Ref: https://docs.scipy.org/doc/scipy/reference/generated/scipy.optimize.minimize.html#scipy.optimize.minimize"
   ]
  },
  {
   "cell_type": "code",
   "execution_count": null,
   "metadata": {},
   "outputs": [],
   "source": [
    "# find global minimum\n",
    "\n",
    "xinit = np.array([5])\n",
    "res = optimize.basinhopping(func, xinit, stepsize=2)"
   ]
  },
  {
   "cell_type": "code",
   "execution_count": null,
   "metadata": {},
   "outputs": [],
   "source": [
    "plt.plot(x,func(x),'k-')\n",
    "plt.plot(xinit, func(xinit), 'go', label='initial guess')\n",
    "plt.plot(res.x, func(res.x), 'ro', label='minimum')\n",
    "plt.legend()"
   ]
  },
  {
   "cell_type": "code",
   "execution_count": null,
   "metadata": {},
   "outputs": [],
   "source": [
    "# the optimization result object contains information about the iterative optimization process\n",
    "res"
   ]
  },
  {
   "cell_type": "code",
   "execution_count": null,
   "metadata": {},
   "outputs": [],
   "source": [
    "x_glomin = res.x\n",
    "x_glomin"
   ]
  },
  {
   "cell_type": "markdown",
   "metadata": {},
   "source": [
    "**Note:** `basinhopping()` is not bullet-proof, e.g. if the parameters are not set correct, it can still miss the global minimum. For example:"
   ]
  },
  {
   "cell_type": "code",
   "execution_count": null,
   "metadata": {},
   "outputs": [],
   "source": [
    "# Too small stepsize in basinhopping() results in finding local minimum that is not global minimum\n",
    "xinit = np.array([5])\n",
    "res = optimize.basinhopping(func, xinit, stepsize=1)\n",
    "plt.plot(x,func(x),'k-')\n",
    "plt.plot(xinit, func(xinit), 'go', label='initial guess')\n",
    "plt.plot(res.x, func(res.x), 'ro', label='minimum')\n",
    "plt.plot(x_glomin, func(x_glomin), 'ko', label='global min.')\n",
    "plt.legend()"
   ]
  },
  {
   "cell_type": "markdown",
   "metadata": {},
   "source": [
    "## Constrained optimization\n",
    "\n",
    "We can limit the range of the independent variable (e.g. $x$) when finding the minimum.\n",
    "\n",
    "Consider finding the minimum in the interval $x \\in [0,10]$.\n",
    "\n",
    "Note that the `bounds` parameter is a list of `(min, max)` pairs."
   ]
  },
  {
   "cell_type": "code",
   "execution_count": null,
   "metadata": {},
   "outputs": [],
   "source": [
    "xinit = np.array([1])\n",
    "bd = (0, 7)\n",
    "res = optimize.minimize(func, x0=xinit, bounds=[bd])\n",
    "res.x"
   ]
  },
  {
   "cell_type": "code",
   "execution_count": null,
   "metadata": {},
   "outputs": [],
   "source": [
    "fig, ax = plt.subplots()\n",
    "plt.plot(x,func(x),'k-')\n",
    "plt.plot(xinit, func(xinit), 'go', label='initial guess')\n",
    "plt.plot(res.x, func(res.x), 'ro', label='minimum')\n",
    "ax.axvspan(bd[0], bd[1], alpha=0.1, color='green')\n",
    "plt.legend()"
   ]
  },
  {
   "cell_type": "markdown",
   "metadata": {},
   "source": [
    "**Quiz:** Why is the minimum at $x=0$, which is not a local minimum of the function?"
   ]
  },
  {
   "cell_type": "markdown",
   "metadata": {},
   "source": [
    "## Minimum of 2D functions\n",
    "\n",
    "Consider $ f(x,y) = (4 - 2.1x^2 + \\frac{x^4}{3})x^2 + xy + (4y^2 - 4)y^2 $"
   ]
  },
  {
   "cell_type": "code",
   "execution_count": null,
   "metadata": {},
   "outputs": [],
   "source": [
    "# note: x is a 2-vector representing (x,y) coordinates\n",
    "\n",
    "def func(x):\n",
    "    f = (4 - 2.1*x[0]**2 + x[0]**4 / 3.) * x[0]**2 + x[0] * x[1] + (-4 + 4*x[1]**2) * x[1] **2\n",
    "    return f"
   ]
  },
  {
   "cell_type": "code",
   "execution_count": null,
   "metadata": {},
   "outputs": [],
   "source": [
    "x = np.linspace(-2,2,101)\n",
    "y = np.linspace(-1,1,101)\n",
    "xg,yg = np.meshgrid(x,y)\n",
    "plt.figure()\n",
    "plt.imshow(func([xg,yg]), extent=[-2,2,-1,1], origin='lower')\n",
    "plt.colorbar()"
   ]
  },
  {
   "cell_type": "code",
   "execution_count": null,
   "metadata": {},
   "outputs": [],
   "source": [
    "# 3D view of the function\n",
    "\n",
    "from mpl_toolkits.mplot3d import Axes3D\n",
    "fig = plt.figure(figsize=(12,6))\n",
    "ax = fig.add_subplot(111, projection='3d')\n",
    "surf = ax.plot_surface(xg, yg, func([xg, yg]), rstride=1, cstride=1,\n",
    "                       cmap=plt.cm.jet, linewidth=0, antialiased=False)\n",
    "ax.set_xlabel('x')\n",
    "ax.set_ylabel('y')\n",
    "ax.set_zlabel('f(x, y)')"
   ]
  },
  {
   "cell_type": "code",
   "execution_count": null,
   "metadata": {},
   "outputs": [],
   "source": [
    "xinit = np.array([-0.5,-0.5])\n",
    "res = optimize.minimize(func, xinit)\n",
    "\n",
    "# plot\n",
    "plt.figure()\n",
    "# Show the function in 2D\n",
    "plt.imshow(func([xg, yg]), extent=[-2, 2, -1, 1], origin=\"lower\")\n",
    "plt.colorbar()\n",
    "plt.scatter(xinit[0], xinit[1], color='red', label='initial guess')\n",
    "plt.scatter(res.x[0], res.x[1], color='green', label='minimum found')\n",
    "plt.legend()"
   ]
  },
  {
   "cell_type": "code",
   "execution_count": null,
   "metadata": {},
   "outputs": [],
   "source": [
    "# another way to plot\n",
    "\n",
    "x = np.linspace(-2,2,101)\n",
    "y = np.linspace(-1,1,101)\n",
    "xg,yg = np.meshgrid(x,y)\n",
    "z = func([xg, yg])\n",
    "fig,ax = plt.subplots(1,1)\n",
    "cp = ax.contourf(xg, yg, z, [-1,-0.5, 0,1,2,3,4], alpha=0.5)\n",
    "ax.contour(cp, colors='black', alpha=0.6)\n",
    "plt.scatter(xinit[0], xinit[1], color='red', label='initial guess')\n",
    "plt.scatter(res.x[0], res.x[1], color='green', label='minimum found')\n",
    "plt.legend(frameon=True, facecolor='white', edgecolor='black', framealpha=1)"
   ]
  },
  {
   "cell_type": "code",
   "execution_count": null,
   "metadata": {},
   "outputs": [],
   "source": [
    "res"
   ]
  },
  {
   "cell_type": "markdown",
   "metadata": {},
   "source": [
    "## Finding the roots\n",
    "\n",
    "The intersection of the function $f(x)$ and the $y=0$ line.\n",
    "\n",
    "Consider the same function as before: $ f(x) = 10\\sin(x) + x^2$. We want to find $x$ where $f(x)=0$."
   ]
  },
  {
   "cell_type": "code",
   "execution_count": null,
   "metadata": {},
   "outputs": [],
   "source": [
    "def func(x):\n",
    "    return 10*np.sin(x) + x**2"
   ]
  },
  {
   "cell_type": "code",
   "execution_count": null,
   "metadata": {},
   "outputs": [],
   "source": [
    "xinit = np.array([-2])  # try: -2, 1\n",
    "root = optimize.root(func, x0=xinit)\n",
    "\n",
    "# plot the function and the root\n",
    "\n",
    "x = np.linspace(-10,10,201)\n",
    "plt.plot(x,func(x),'k-')\n",
    "plt.plot(root.x, func(root.x), 'ro')\n",
    "plt.xlim([-5,5])\n",
    "plt.ylim([-10,20])\n",
    "plt.hlines(0, plt.xlim()[0], plt.xlim()[1], colors='gray', linestyles='--', alpha=0.5)"
   ]
  },
  {
   "cell_type": "code",
   "execution_count": null,
   "metadata": {},
   "outputs": [],
   "source": []
  }
 ],
 "metadata": {
  "kernelspec": {
   "display_name": "Python 3",
   "language": "python",
   "name": "python3"
  },
  "language_info": {
   "codemirror_mode": {
    "name": "ipython",
    "version": 3
   },
   "file_extension": ".py",
   "mimetype": "text/x-python",
   "name": "python",
   "nbconvert_exporter": "python",
   "pygments_lexer": "ipython3",
   "version": "3.7.6"
  }
 },
 "nbformat": 4,
 "nbformat_minor": 4
}
