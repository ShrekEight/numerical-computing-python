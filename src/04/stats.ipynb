{
 "cells": [
  {
   "cell_type": "markdown",
   "metadata": {},
   "source": [
    "# Statistics and random numbers"
   ]
  },
  {
   "cell_type": "code",
   "execution_count": null,
   "metadata": {},
   "outputs": [],
   "source": [
    "%matplotlib inline\n",
    "import numpy as np\n",
    "from scipy import stats\n",
    "import matplotlib.pyplot as plt"
   ]
  },
  {
   "cell_type": "markdown",
   "metadata": {},
   "source": [
    "## Distribution and histogram"
   ]
  },
  {
   "cell_type": "code",
   "execution_count": null,
   "metadata": {},
   "outputs": [],
   "source": [
    "# Draw random samples from a normal (Gaussian) distribution\n",
    "N = 1000\n",
    "X = np.random.normal(size=N)\n",
    "X[:10]"
   ]
  },
  {
   "cell_type": "code",
   "execution_count": null,
   "metadata": {},
   "outputs": [],
   "source": [
    "plt.figure(figsize=(10,3))\n",
    "plt.plot(X, 'ko', markersize=2)\n",
    "plt.ylim([-5,5])\n",
    "plt.xlim([0,N])\n",
    "plt.hlines(0, 0, N, color='red', linestyles='--')\n",
    "plt.xlabel('sample ID')\n",
    "plt.ylabel('value')"
   ]
  },
  {
   "cell_type": "markdown",
   "metadata": {},
   "source": [
    "Observe the plot above. Do you observe a slight clustering of points toward $y=0$?"
   ]
  },
  {
   "cell_type": "code",
   "execution_count": null,
   "metadata": {},
   "outputs": [],
   "source": [
    "# visualize the histogram\n",
    "bins = np.linspace(-4, 4, 9)\n",
    "bins"
   ]
  },
  {
   "cell_type": "markdown",
   "metadata": {},
   "source": [
    "The `density` parameter in the `histogram` function controls whether the result is normalized or not. \n",
    "See https://numpy.org/doc/stable/reference/generated/numpy.histogram.html"
   ]
  },
  {
   "cell_type": "code",
   "execution_count": null,
   "metadata": {},
   "outputs": [],
   "source": [
    "hist = np.histogram(X, bins=bins, density=True)[0]\n",
    "\n",
    "# mid-points of bins for plotting\n",
    "binsp = 0.5*(bins[1:] + bins[:-1])\n",
    "print(binsp)\n",
    "plt.plot(binsp, hist, 'ko')\n",
    "\n",
    "bins2 = np.linspace(-4,4,51)\n",
    "pdf = stats.norm.pdf(bins2)\n",
    "plt.plot(bins2, pdf, 'r-')"
   ]
  },
  {
   "cell_type": "markdown",
   "metadata": {},
   "source": [
    "**Exercise** Try different values of sample size $N$. For example, compare the results of $N=100$ and $N=1000$. Why does the result look \"bad\" (not falling on the red pdf curve of normal distribution) when $N$ is small?"
   ]
  },
  {
   "cell_type": "markdown",
   "metadata": {},
   "source": [
    "We can also perform a maximum-likelihood fit of the data to estimate the parameters of the underlying distribution."
   ]
  },
  {
   "cell_type": "code",
   "execution_count": null,
   "metadata": {},
   "outputs": [],
   "source": [
    "N = 1000\n",
    "X = np.random.normal(size=N) + 1\n"
   ]
  },
  {
   "cell_type": "markdown",
   "metadata": {},
   "source": [
    "Note this data set is **not** clustered around $y=0$:"
   ]
  },
  {
   "cell_type": "code",
   "execution_count": null,
   "metadata": {},
   "outputs": [],
   "source": [
    "plt.figure(figsize=(10,3))\n",
    "plt.plot(X, 'ko', markersize=2)\n",
    "plt.ylim([-5,5])\n",
    "plt.xlim([0,N])\n",
    "plt.hlines(0, 0, N, color='red')\n",
    "plt.xlabel('sample ID')\n",
    "plt.ylabel('value')"
   ]
  },
  {
   "cell_type": "markdown",
   "metadata": {},
   "source": [
    "Estimate the normal distribution parameters:"
   ]
  },
  {
   "cell_type": "code",
   "execution_count": null,
   "metadata": {},
   "outputs": [],
   "source": [
    "loc, std = stats.norm.fit(X)\n",
    "loc, std"
   ]
  },
  {
   "cell_type": "code",
   "execution_count": null,
   "metadata": {},
   "outputs": [],
   "source": [
    "# plot the histogram\n",
    "bins = np.linspace(-5,5,11)\n",
    "hist = np.histogram(X, bins=bins, density=True)[0]\n",
    "\n",
    "binsp = 0.5*(bins[1:] + bins[:-1])\n",
    "plt.plot(binsp, hist, 'ko')\n",
    "\n",
    "# plot the pdf, shifted and scaled using (loc, std) from the fit\n",
    "bins2 = np.linspace(-5,5,51)\n",
    "pdf = stats.norm.pdf(bins2, loc, std)\n",
    "plt.plot(bins2, pdf, 'r-')\n",
    "plt.vlines(loc, 0, 0.5, linestyles='--', colors='gray', alpha=0.5)\n",
    "plt.ylim([0, 0.45])"
   ]
  },
  {
   "cell_type": "markdown",
   "metadata": {},
   "source": [
    "## Other distribution functions\n",
    "\n",
    "The normal distribution is not the only distribution. Consider the gamma distribtion:\n",
    "\n",
    "https://docs.scipy.org/doc/scipy/reference/generated/scipy.stats.gamma.html"
   ]
  },
  {
   "cell_type": "markdown",
   "metadata": {},
   "source": [
    "The pdf of the gamma distribution"
   ]
  },
  {
   "cell_type": "code",
   "execution_count": null,
   "metadata": {},
   "outputs": [],
   "source": [
    "x = np.linspace(0,10,101)\n",
    "plt.plot(x, stats.gamma.pdf(x, a=2), 'k-')"
   ]
  },
  {
   "cell_type": "markdown",
   "metadata": {},
   "source": [
    "We can draw random samples that has gamma distribution"
   ]
  },
  {
   "cell_type": "code",
   "execution_count": null,
   "metadata": {},
   "outputs": [],
   "source": [
    "N=1000\n",
    "X = np.random.gamma(2, 2, size=N)"
   ]
  },
  {
   "cell_type": "code",
   "execution_count": null,
   "metadata": {},
   "outputs": [],
   "source": [
    "plt.figure(figsize=(10,3))\n",
    "plt.plot(X, 'ko', markersize=2)\n",
    "plt.ylim([-2,20])\n",
    "plt.xlim([0,N])\n",
    "plt.hlines(0, 0, N, color='red', linestyles='--')\n",
    "plt.xlabel('sample ID')\n",
    "plt.ylabel('value')"
   ]
  },
  {
   "cell_type": "markdown",
   "metadata": {},
   "source": [
    "Observe the the data is all positive but clustered towards $y=0$.\n",
    "\n",
    "Now we can compute the histogram:"
   ]
  },
  {
   "cell_type": "code",
   "execution_count": null,
   "metadata": {},
   "outputs": [],
   "source": [
    "# bin edges\n",
    "bins = np.linspace(0, 20, 21)\n",
    "bins"
   ]
  },
  {
   "cell_type": "code",
   "execution_count": null,
   "metadata": {},
   "outputs": [],
   "source": [
    "hist = np.histogram(X, bins=bins, density=True)[0]\n",
    "\n",
    "binsp = 0.5*(bins[1:] + bins[:-1])\n",
    "plt.plot(binsp, hist, 'ko', label='samples')\n",
    "x = np.linspace(0,20,101)\n",
    "\n",
    "def gamma_distribution(x, scale=2, shape=2):\n",
    "    import scipy.special as sps  \n",
    "    return x**(shape-1)*(np.exp(-x/scale) / (sps.gamma(shape)*scale**shape))\n",
    "\n",
    "plt.plot(x, gamma_distribution(x,2,2), 'r--', label='gamma distribution')\n",
    "plt.legend()"
   ]
  },
  {
   "cell_type": "markdown",
   "metadata": {},
   "source": [
    "Another way to plot the histogram:"
   ]
  },
  {
   "cell_type": "code",
   "execution_count": null,
   "metadata": {},
   "outputs": [],
   "source": [
    "bins = np.linspace(0, 20, 21)\n",
    "c, b, ignored = plt.hist(X, bins, density=True)\n",
    "plt.plot(x, gamma_distribution(x,2,2), 'r--', label='gamma distribution')\n",
    "plt.xlim([0,20])"
   ]
  },
  {
   "cell_type": "code",
   "execution_count": null,
   "metadata": {},
   "outputs": [],
   "source": []
  }
 ],
 "metadata": {
  "kernelspec": {
   "display_name": "Python 3",
   "language": "python",
   "name": "python3"
  },
  "language_info": {
   "codemirror_mode": {
    "name": "ipython",
    "version": 3
   },
   "file_extension": ".py",
   "mimetype": "text/x-python",
   "name": "python",
   "nbconvert_exporter": "python",
   "pygments_lexer": "ipython3",
   "version": "3.7.6"
  }
 },
 "nbformat": 4,
 "nbformat_minor": 4
}
