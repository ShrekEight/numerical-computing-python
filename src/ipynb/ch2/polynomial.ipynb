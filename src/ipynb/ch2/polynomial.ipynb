{
 "cells": [
  {
   "cell_type": "markdown",
   "metadata": {},
   "source": [
    "# Polynomial"
   ]
  },
  {
   "cell_type": "markdown",
   "metadata": {},
   "source": [
    "## Polynomial basics"
   ]
  },
  {
   "cell_type": "code",
   "execution_count": 1,
   "metadata": {},
   "outputs": [],
   "source": [
    "%matplotlib inline\n",
    "import numpy as np\n",
    "from numpy.polynomial import Polynomial as P\n",
    "import matplotlib.pyplot as plt"
   ]
  },
  {
   "cell_type": "code",
   "execution_count": 2,
   "metadata": {},
   "outputs": [
    {
     "data": {
      "text/latex": [
       "$x \\mapsto \\text{1.0} + \\text{2.0}\\,x + \\text{3.0}\\,x^{2}$"
      ],
      "text/plain": [
       "Polynomial([1., 2., 3.], domain=[-1,  1], window=[-1,  1])"
      ]
     },
     "execution_count": 2,
     "metadata": {},
     "output_type": "execute_result"
    }
   ],
   "source": [
    "p = P([1,2,3])\n",
    "p"
   ]
  },
  {
   "cell_type": "code",
   "execution_count": 11,
   "metadata": {},
   "outputs": [],
   "source": [
    "x = np.linspace(-5, 5)"
   ]
  },
  {
   "cell_type": "code",
   "execution_count": 12,
   "metadata": {},
   "outputs": [
    {
     "data": {
      "text/plain": [
       "array([-5.        , -4.79591837, -4.59183673, -4.3877551 , -4.18367347,\n",
       "       -3.97959184, -3.7755102 , -3.57142857, -3.36734694, -3.16326531,\n",
       "       -2.95918367, -2.75510204, -2.55102041, -2.34693878, -2.14285714,\n",
       "       -1.93877551, -1.73469388, -1.53061224, -1.32653061, -1.12244898,\n",
       "       -0.91836735, -0.71428571, -0.51020408, -0.30612245, -0.10204082,\n",
       "        0.10204082,  0.30612245,  0.51020408,  0.71428571,  0.91836735,\n",
       "        1.12244898,  1.32653061,  1.53061224,  1.73469388,  1.93877551,\n",
       "        2.14285714,  2.34693878,  2.55102041,  2.75510204,  2.95918367,\n",
       "        3.16326531,  3.36734694,  3.57142857,  3.7755102 ,  3.97959184,\n",
       "        4.18367347,  4.3877551 ,  4.59183673,  4.79591837,  5.        ])"
      ]
     },
     "execution_count": 12,
     "metadata": {},
     "output_type": "execute_result"
    }
   ],
   "source": [
    "x"
   ]
  },
  {
   "cell_type": "code",
   "execution_count": 4,
   "metadata": {
    "scrolled": false
   },
   "outputs": [
    {
     "data": {
      "text/plain": [
       "[<matplotlib.lines.Line2D at 0x7fa0a0e09748>]"
      ]
     },
     "execution_count": 4,
     "metadata": {},
     "output_type": "execute_result"
    },
    {
     "data": {
      "image/png": "[encoded data removed]",
      "text/plain": [
       "<Figure size 432x288 with 1 Axes>"
      ]
     },
     "metadata": {
      "needs_background": "light"
     },
     "output_type": "display_data"
    }
   ],
   "source": [
    "plt.plot(x, p(x))"
   ]
  },
  {
   "cell_type": "markdown",
   "metadata": {},
   "source": [
    "Integrating the polynomial"
   ]
  },
  {
   "cell_type": "code",
   "execution_count": 16,
   "metadata": {},
   "outputs": [
    {
     "data": {
      "text/latex": [
       "$x \\mapsto \\text{1.0} + \\text{2.0}\\,x + \\text{3.0}\\,x^{2}$"
      ],
      "text/plain": [
       "Polynomial([1., 2., 3.], domain=[-1,  1], window=[-1,  1])"
      ]
     },
     "execution_count": 16,
     "metadata": {},
     "output_type": "execute_result"
    }
   ],
   "source": [
    "p"
   ]
  },
  {
   "cell_type": "code",
   "execution_count": 18,
   "metadata": {},
   "outputs": [
    {
     "data": {
      "text/latex": [
       "$x \\mapsto \\color{LightGray}{\\text{0.0}} + \\text{1.0}\\,x + \\text{1.0}\\,x^{2} + \\text{1.0}\\,x^{3}$"
      ],
      "text/plain": [
       "Polynomial([0., 1., 1., 1.], domain=[-1.,  1.], window=[-1.,  1.])"
      ]
     },
     "execution_count": 18,
     "metadata": {},
     "output_type": "execute_result"
    }
   ],
   "source": [
    "p_int = p.integ()\n",
    "p_int"
   ]
  },
  {
   "cell_type": "markdown",
   "metadata": {},
   "source": [
    "Differentiate the polynomial"
   ]
  },
  {
   "cell_type": "code",
   "execution_count": 6,
   "metadata": {},
   "outputs": [
    {
     "data": {
      "text/latex": [
       "$x \\mapsto \\text{2.0} + \\text{6.0}\\,x$"
      ],
      "text/plain": [
       "Polynomial([2., 6.], domain=[-1.,  1.], window=[-1.,  1.])"
      ]
     },
     "execution_count": 6,
     "metadata": {},
     "output_type": "execute_result"
    }
   ],
   "source": [
    "p.deriv(1)"
   ]
  },
  {
   "cell_type": "markdown",
   "metadata": {},
   "source": [
    "## Fitting polynomial"
   ]
  },
  {
   "cell_type": "code",
   "execution_count": 7,
   "metadata": {},
   "outputs": [
    {
     "data": {
      "text/plain": [
       "[<matplotlib.lines.Line2D at 0x7fa0a0d9deb8>]"
      ]
     },
     "execution_count": 7,
     "metadata": {},
     "output_type": "execute_result"
    },
    {
     "data": {
      "image/png": "[encoded data removed]",
      "text/plain": [
       "<Figure size 432x288 with 1 Axes>"
      ]
     },
     "metadata": {
      "needs_background": "light"
     },
     "output_type": "display_data"
    }
   ],
   "source": [
    "x = np.linspace(0, 2*np.pi, 100)\n",
    "y = np.sin(x) + np.random.normal(scale=.1, size=x.shape)\n",
    "plt.plot(x,y,'o')"
   ]
  },
  {
   "cell_type": "code",
   "execution_count": 8,
   "metadata": {},
   "outputs": [
    {
     "data": {
      "text/plain": [
       "[<matplotlib.lines.Line2D at 0x7fa0a0507ba8>]"
      ]
     },
     "execution_count": 8,
     "metadata": {},
     "output_type": "execute_result"
    },
    {
     "data": {
      "image/png": "[encoded data removed]",
      "text/plain": [
       "<Figure size 432x288 with 1 Axes>"
      ]
     },
     "metadata": {
      "needs_background": "light"
     },
     "output_type": "display_data"
    }
   ],
   "source": [
    "p1 = P.fit(x,y,1)\n",
    "p2 = P.fit(x,y,2)\n",
    "p3 = P.fit(x,y,3)\n",
    "plt.plot(x, p1(x), '--')\n",
    "plt.plot(x, p2(x), 'b-')\n",
    "plt.plot(x, p3(x), 'r-')\n",
    "plt.plot(x, y, 'ko')"
   ]
  },
  {
   "cell_type": "code",
   "execution_count": 9,
   "metadata": {},
   "outputs": [
    {
     "data": {
      "text/latex": [
       "$x \\mapsto \\text{1.0} + \\text{2.0}\\,x + \\text{3.0}\\,x^{2}$"
      ],
      "text/plain": [
       "Polynomial([1., 2., 3.], domain=[-1,  1], window=[-1,  1])"
      ]
     },
     "execution_count": 9,
     "metadata": {},
     "output_type": "execute_result"
    }
   ],
   "source": [
    "p"
   ]
  },
  {
   "cell_type": "code",
   "execution_count": null,
   "metadata": {},
   "outputs": [],
   "source": []
  }
 ],
 "metadata": {
  "kernelspec": {
   "display_name": "Python 3",
   "language": "python",
   "name": "python3"
  },
  "language_info": {
   "codemirror_mode": {
    "name": "ipython",
    "version": 3
   },
   "file_extension": ".py",
   "mimetype": "text/x-python",
   "name": "python",
   "nbconvert_exporter": "python",
   "pygments_lexer": "ipython3",
   "version": "3.7.3"
  }
 },
 "nbformat": 4,
 "nbformat_minor": 2
}
