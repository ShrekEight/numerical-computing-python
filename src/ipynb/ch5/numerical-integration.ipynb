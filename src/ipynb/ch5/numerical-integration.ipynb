{
 "cells": [
  {
   "cell_type": "markdown",
   "metadata": {},
   "source": [
    "# Numerical integration\n",
    "\n",
    "\"area under a curve\""
   ]
  },
  {
   "cell_type": "code",
   "execution_count": 1,
   "metadata": {},
   "outputs": [],
   "source": [
    "%matplotlib inline\n",
    "import numpy as np\n",
    "import scipy\n",
    "import matplotlib.pyplot as plt"
   ]
  },
  {
   "cell_type": "code",
   "execution_count": 2,
   "metadata": {},
   "outputs": [],
   "source": [
    "x = np.array([0, 1.25, 2, 2.75, 4.2, 5], dtype=np.float64)\n",
    "y = np.array([0.5, 0.65, 0.8, 0.75, 0.4, 0.35], dtype=np.float64)"
   ]
  },
  {
   "cell_type": "code",
   "execution_count": 3,
   "metadata": {},
   "outputs": [
    {
     "data": {
      "text/plain": [
       "[<matplotlib.lines.Line2D at 0x7f0d24e72588>]"
      ]
     },
     "execution_count": 3,
     "metadata": {},
     "output_type": "execute_result"
    },
    {
     "data": {
      "image/png": "[encoded data removed]",
      "text/plain": [
       "<Figure size 432x288 with 1 Axes>"
      ]
     },
     "metadata": {
      "needs_background": "light"
     },
     "output_type": "display_data"
    }
   ],
   "source": [
    "plt.ylim((0, 1))\n",
    "plt.xlim((-0.1, 5.1))\n",
    "\n",
    "# plot vertical lines\n",
    "for xp,yp in zip(x,y):\n",
    "    x1 = [xp, xp]\n",
    "    y1 = [0,yp]\n",
    "    plt.plot(x1,y1,'r--')\n",
    "\n",
    "# plot the data\n",
    "plt.plot(x,y, 'k-o')"
   ]
  },
  {
   "cell_type": "code",
   "execution_count": 4,
   "metadata": {},
   "outputs": [
    {
     "name": "stdout",
     "output_type": "stream",
     "text": [
      "area in x=[0.0,1.25] is 0.7188\n",
      "area in x=[1.25,2.0] is 0.5438\n",
      "area in x=[2.0,2.75] is 0.5813\n",
      "area in x=[2.75,4.2] is 0.8337\n",
      "area in x=[4.2,5.0] is 0.3000\n",
      "total area = 2.9775\n"
     ]
    }
   ],
   "source": [
    "# area under the curve\n",
    "\n",
    "area = 0.\n",
    "for i in range(x.shape[0]-1):\n",
    "    dx = x[i+1] - x[i]\n",
    "    a = 0.5 * dx * (y[i] + y[i+1])\n",
    "    print('area in x=[{},{}] is {:.4f}'.format(x[i],x[i+1],a))\n",
    "    area += a\n",
    "print('total area = {}'.format(area))"
   ]
  },
  {
   "cell_type": "code",
   "execution_count": 5,
   "metadata": {},
   "outputs": [
    {
     "name": "stdout",
     "output_type": "stream",
     "text": [
      "total area = 2.9775\n"
     ]
    }
   ],
   "source": [
    "# vectorized version\n",
    "\n",
    "dx = x[1:] - x[0:-1]\n",
    "ym = (y[1:] + y[0:-1])*0.5\n",
    "area = np.sum(dx * ym)\n",
    "print('total area = {}'.format(area))"
   ]
  },
  {
   "cell_type": "code",
   "execution_count": 6,
   "metadata": {},
   "outputs": [
    {
     "data": {
      "text/plain": [
       "2.9775"
      ]
     },
     "execution_count": 6,
     "metadata": {},
     "output_type": "execute_result"
    }
   ],
   "source": [
    "# using scipy's trapezoidal rule\n",
    "\n",
    "from scipy import integrate\n",
    "\n",
    "integrate.trapz(y, x)"
   ]
  },
  {
   "cell_type": "code",
   "execution_count": 7,
   "metadata": {},
   "outputs": [
    {
     "data": {
      "text/plain": [
       "<matplotlib.legend.Legend at 0x7f0d23700908>"
      ]
     },
     "execution_count": 7,
     "metadata": {},
     "output_type": "execute_result"
    },
    {
     "data": {
      "image/png": "[encoded data removed]",
      "text/plain": [
       "<Figure size 432x288 with 1 Axes>"
      ]
     },
     "metadata": {
      "needs_background": "light"
     },
     "output_type": "display_data"
    }
   ],
   "source": [
    "# integrate the interpolation function\n",
    "\n",
    "from scipy import interpolate\n",
    "f1 = interpolate.interp1d(x, y, kind='linear')\n",
    "f2 = interpolate.interp1d(x, y, kind='quadratic')\n",
    "plt.plot(x, y, 'ko')\n",
    "xp = np.linspace(x[0], x[-1], 100)\n",
    "plt.plot(xp, f1(xp), 'b--', label='linear')\n",
    "plt.plot(xp, f2(xp), 'r-', label='quadratic')\n",
    "plt.legend(frameon=False)"
   ]
  },
  {
   "cell_type": "code",
   "execution_count": 8,
   "metadata": {},
   "outputs": [
    {
     "name": "stdout",
     "output_type": "stream",
     "text": [
      "total area of f1 = 2.9775\n",
      "total area of f2 = 2.9605\n"
     ]
    }
   ],
   "source": [
    "a1 = integrate.quad(f1,x[0],x[-1])[0]\n",
    "a2 = integrate.quad(f2,x[0],x[-1])[0]\n",
    "print('total area of f1 = {:.4f}'.format(a1))\n",
    "print('total area of f2 = {:.4f}'.format(a2))"
   ]
  },
  {
   "cell_type": "code",
   "execution_count": null,
   "metadata": {},
   "outputs": [],
   "source": []
  }
 ],
 "metadata": {
  "kernelspec": {
   "display_name": "Python 3",
   "language": "python",
   "name": "python3"
  },
  "language_info": {
   "codemirror_mode": {
    "name": "ipython",
    "version": 3
   },
   "file_extension": ".py",
   "mimetype": "text/x-python",
   "name": "python",
   "nbconvert_exporter": "python",
   "pygments_lexer": "ipython3",
   "version": "3.7.3"
  }
 },
 "nbformat": 4,
 "nbformat_minor": 2
}
