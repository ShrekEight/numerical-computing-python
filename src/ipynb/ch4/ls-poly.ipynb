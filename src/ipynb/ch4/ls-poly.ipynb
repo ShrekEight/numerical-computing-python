{
 "cells": [
  {
   "cell_type": "markdown",
   "metadata": {},
   "source": [
    "# Least squares polynomial fitting"
   ]
  },
  {
   "cell_type": "code",
   "execution_count": 9,
   "metadata": {},
   "outputs": [],
   "source": [
    "%matplotlib inline\n",
    "import h5py\n",
    "import numpy as np\n",
    "import matplotlib.pyplot as plt\n",
    "import scipy.sparse.linalg as sla"
   ]
  },
  {
   "cell_type": "code",
   "execution_count": 5,
   "metadata": {},
   "outputs": [],
   "source": [
    "d = h5py.File('polynomial-ls-data.h5')\n",
    "X = d['x'][:]\n",
    "Y = d['y'][:]\n",
    "d.close()"
   ]
  },
  {
   "cell_type": "code",
   "execution_count": 6,
   "metadata": {},
   "outputs": [
    {
     "data": {
      "text/plain": [
       "[<matplotlib.lines.Line2D at 0x7fde13bd6b00>]"
      ]
     },
     "execution_count": 6,
     "metadata": {},
     "output_type": "execute_result"
    },
    {
     "data": {
      "image/png": "[encoded data removed]",
      "text/plain": [
       "<Figure size 432x288 with 1 Axes>"
      ]
     },
     "metadata": {
      "needs_background": "light"
     },
     "output_type": "display_data"
    }
   ],
   "source": [
    "plt.plot(X,Y,'o')"
   ]
  },
  {
   "cell_type": "code",
   "execution_count": 14,
   "metadata": {},
   "outputs": [
    {
     "data": {
      "text/plain": [
       "array([[ 2.25000000e+00, -1.50000000e+00,  1.00000000e+00],\n",
       "       [ 2.16000918e+00, -1.46969697e+00,  1.00000000e+00],\n",
       "       [ 2.07185491e+00, -1.43939394e+00,  1.00000000e+00],\n",
       "       [ 1.98553719e+00, -1.40909091e+00,  1.00000000e+00],\n",
       "       [ 1.90105601e+00, -1.37878788e+00,  1.00000000e+00],\n",
       "       [ 1.81841139e+00, -1.34848485e+00,  1.00000000e+00],\n",
       "       [ 1.73760331e+00, -1.31818182e+00,  1.00000000e+00],\n",
       "       [ 1.65863177e+00, -1.28787879e+00,  1.00000000e+00],\n",
       "       [ 1.58149679e+00, -1.25757576e+00,  1.00000000e+00],\n",
       "       [ 1.50619835e+00, -1.22727273e+00,  1.00000000e+00],\n",
       "       [ 1.43273646e+00, -1.19696970e+00,  1.00000000e+00],\n",
       "       [ 1.36111111e+00, -1.16666667e+00,  1.00000000e+00],\n",
       "       [ 1.29132231e+00, -1.13636364e+00,  1.00000000e+00],\n",
       "       [ 1.22337006e+00, -1.10606061e+00,  1.00000000e+00],\n",
       "       [ 1.15725436e+00, -1.07575758e+00,  1.00000000e+00],\n",
       "       [ 1.09297521e+00, -1.04545455e+00,  1.00000000e+00],\n",
       "       [ 1.03053260e+00, -1.01515152e+00,  1.00000000e+00],\n",
       "       [ 9.69926538e-01, -9.84848485e-01,  1.00000000e+00],\n",
       "       [ 9.11157025e-01, -9.54545455e-01,  1.00000000e+00],\n",
       "       [ 8.54224059e-01, -9.24242424e-01,  1.00000000e+00],\n",
       "       [ 7.99127640e-01, -8.93939394e-01,  1.00000000e+00],\n",
       "       [ 7.45867769e-01, -8.63636364e-01,  1.00000000e+00],\n",
       "       [ 6.94444444e-01, -8.33333333e-01,  1.00000000e+00],\n",
       "       [ 6.44857668e-01, -8.03030303e-01,  1.00000000e+00],\n",
       "       [ 5.97107438e-01, -7.72727273e-01,  1.00000000e+00],\n",
       "       [ 5.51193756e-01, -7.42424242e-01,  1.00000000e+00],\n",
       "       [ 5.07116621e-01, -7.12121212e-01,  1.00000000e+00],\n",
       "       [ 4.64876033e-01, -6.81818182e-01,  1.00000000e+00],\n",
       "       [ 4.24471993e-01, -6.51515152e-01,  1.00000000e+00],\n",
       "       [ 3.85904500e-01, -6.21212121e-01,  1.00000000e+00],\n",
       "       [ 3.49173554e-01, -5.90909091e-01,  1.00000000e+00],\n",
       "       [ 3.14279155e-01, -5.60606061e-01,  1.00000000e+00],\n",
       "       [ 2.81221304e-01, -5.30303030e-01,  1.00000000e+00],\n",
       "       [ 2.50000000e-01, -5.00000000e-01,  1.00000000e+00],\n",
       "       [ 2.20615243e-01, -4.69696970e-01,  1.00000000e+00],\n",
       "       [ 1.93067034e-01, -4.39393939e-01,  1.00000000e+00],\n",
       "       [ 1.67355372e-01, -4.09090909e-01,  1.00000000e+00],\n",
       "       [ 1.43480257e-01, -3.78787879e-01,  1.00000000e+00],\n",
       "       [ 1.21441690e-01, -3.48484848e-01,  1.00000000e+00],\n",
       "       [ 1.01239669e-01, -3.18181818e-01,  1.00000000e+00],\n",
       "       [ 8.28741965e-02, -2.87878788e-01,  1.00000000e+00],\n",
       "       [ 6.63452709e-02, -2.57575758e-01,  1.00000000e+00],\n",
       "       [ 5.16528926e-02, -2.27272727e-01,  1.00000000e+00],\n",
       "       [ 3.87970615e-02, -1.96969697e-01,  1.00000000e+00],\n",
       "       [ 2.77777778e-02, -1.66666667e-01,  1.00000000e+00],\n",
       "       [ 1.85950413e-02, -1.36363636e-01,  1.00000000e+00],\n",
       "       [ 1.12488522e-02, -1.06060606e-01,  1.00000000e+00],\n",
       "       [ 5.73921028e-03, -7.57575758e-02,  1.00000000e+00],\n",
       "       [ 2.06611570e-03, -4.54545455e-02,  1.00000000e+00],\n",
       "       [ 2.29568411e-04, -1.51515152e-02,  1.00000000e+00],\n",
       "       [ 2.29568411e-04,  1.51515152e-02,  1.00000000e+00],\n",
       "       [ 2.06611570e-03,  4.54545455e-02,  1.00000000e+00],\n",
       "       [ 5.73921028e-03,  7.57575758e-02,  1.00000000e+00],\n",
       "       [ 1.12488522e-02,  1.06060606e-01,  1.00000000e+00],\n",
       "       [ 1.85950413e-02,  1.36363636e-01,  1.00000000e+00],\n",
       "       [ 2.77777778e-02,  1.66666667e-01,  1.00000000e+00],\n",
       "       [ 3.87970615e-02,  1.96969697e-01,  1.00000000e+00],\n",
       "       [ 5.16528926e-02,  2.27272727e-01,  1.00000000e+00],\n",
       "       [ 6.63452709e-02,  2.57575758e-01,  1.00000000e+00],\n",
       "       [ 8.28741965e-02,  2.87878788e-01,  1.00000000e+00],\n",
       "       [ 1.01239669e-01,  3.18181818e-01,  1.00000000e+00],\n",
       "       [ 1.21441690e-01,  3.48484848e-01,  1.00000000e+00],\n",
       "       [ 1.43480257e-01,  3.78787879e-01,  1.00000000e+00],\n",
       "       [ 1.67355372e-01,  4.09090909e-01,  1.00000000e+00],\n",
       "       [ 1.93067034e-01,  4.39393939e-01,  1.00000000e+00],\n",
       "       [ 2.20615243e-01,  4.69696970e-01,  1.00000000e+00],\n",
       "       [ 2.50000000e-01,  5.00000000e-01,  1.00000000e+00],\n",
       "       [ 2.81221304e-01,  5.30303030e-01,  1.00000000e+00],\n",
       "       [ 3.14279155e-01,  5.60606061e-01,  1.00000000e+00],\n",
       "       [ 3.49173554e-01,  5.90909091e-01,  1.00000000e+00],\n",
       "       [ 3.85904500e-01,  6.21212121e-01,  1.00000000e+00],\n",
       "       [ 4.24471993e-01,  6.51515152e-01,  1.00000000e+00],\n",
       "       [ 4.64876033e-01,  6.81818182e-01,  1.00000000e+00],\n",
       "       [ 5.07116621e-01,  7.12121212e-01,  1.00000000e+00],\n",
       "       [ 5.51193756e-01,  7.42424242e-01,  1.00000000e+00],\n",
       "       [ 5.97107438e-01,  7.72727273e-01,  1.00000000e+00],\n",
       "       [ 6.44857668e-01,  8.03030303e-01,  1.00000000e+00],\n",
       "       [ 6.94444444e-01,  8.33333333e-01,  1.00000000e+00],\n",
       "       [ 7.45867769e-01,  8.63636364e-01,  1.00000000e+00],\n",
       "       [ 7.99127640e-01,  8.93939394e-01,  1.00000000e+00],\n",
       "       [ 8.54224059e-01,  9.24242424e-01,  1.00000000e+00],\n",
       "       [ 9.11157025e-01,  9.54545455e-01,  1.00000000e+00],\n",
       "       [ 9.69926538e-01,  9.84848485e-01,  1.00000000e+00],\n",
       "       [ 1.03053260e+00,  1.01515152e+00,  1.00000000e+00],\n",
       "       [ 1.09297521e+00,  1.04545455e+00,  1.00000000e+00],\n",
       "       [ 1.15725436e+00,  1.07575758e+00,  1.00000000e+00],\n",
       "       [ 1.22337006e+00,  1.10606061e+00,  1.00000000e+00],\n",
       "       [ 1.29132231e+00,  1.13636364e+00,  1.00000000e+00],\n",
       "       [ 1.36111111e+00,  1.16666667e+00,  1.00000000e+00],\n",
       "       [ 1.43273646e+00,  1.19696970e+00,  1.00000000e+00],\n",
       "       [ 1.50619835e+00,  1.22727273e+00,  1.00000000e+00],\n",
       "       [ 1.58149679e+00,  1.25757576e+00,  1.00000000e+00],\n",
       "       [ 1.65863177e+00,  1.28787879e+00,  1.00000000e+00],\n",
       "       [ 1.73760331e+00,  1.31818182e+00,  1.00000000e+00],\n",
       "       [ 1.81841139e+00,  1.34848485e+00,  1.00000000e+00],\n",
       "       [ 1.90105601e+00,  1.37878788e+00,  1.00000000e+00],\n",
       "       [ 1.98553719e+00,  1.40909091e+00,  1.00000000e+00],\n",
       "       [ 2.07185491e+00,  1.43939394e+00,  1.00000000e+00],\n",
       "       [ 2.16000918e+00,  1.46969697e+00,  1.00000000e+00],\n",
       "       [ 2.25000000e+00,  1.50000000e+00,  1.00000000e+00]])"
      ]
     },
     "execution_count": 14,
     "metadata": {},
     "output_type": "execute_result"
    }
   ],
   "source": [
    "# form the A matrix\n",
    "\n",
    "N = X.shape\n",
    "A = np.vstack((X**2, X, np.ones(N))).T\n",
    "A"
   ]
  },
  {
   "cell_type": "code",
   "execution_count": 15,
   "metadata": {},
   "outputs": [
    {
     "data": {
      "text/plain": [
       "(100, 3)"
      ]
     },
     "execution_count": 15,
     "metadata": {},
     "output_type": "execute_result"
    }
   ],
   "source": [
    "A.shape"
   ]
  },
  {
   "cell_type": "code",
   "execution_count": 16,
   "metadata": {},
   "outputs": [
    {
     "data": {
      "text/plain": [
       "(100,)"
      ]
     },
     "execution_count": 16,
     "metadata": {},
     "output_type": "execute_result"
    }
   ],
   "source": [
    "Y.shape"
   ]
  },
  {
   "cell_type": "code",
   "execution_count": 18,
   "metadata": {},
   "outputs": [],
   "source": [
    "theta = sla.lsmr(A, Y, damp=0)[0]"
   ]
  },
  {
   "cell_type": "code",
   "execution_count": 21,
   "metadata": {},
   "outputs": [
    {
     "data": {
      "text/plain": [
       "array([ 0.98132098, -0.01954101, -0.00767347])"
      ]
     },
     "execution_count": 21,
     "metadata": {},
     "output_type": "execute_result"
    }
   ],
   "source": [
    "theta"
   ]
  },
  {
   "cell_type": "code",
   "execution_count": 28,
   "metadata": {},
   "outputs": [
    {
     "data": {
      "text/plain": [
       "<matplotlib.legend.Legend at 0x7fde1293a080>"
      ]
     },
     "execution_count": 28,
     "metadata": {},
     "output_type": "execute_result"
    },
    {
     "data": {
      "image/png": "[encoded data removed]",
      "text/plain": [
       "<Figure size 432x288 with 1 Axes>"
      ]
     },
     "metadata": {
      "needs_background": "light"
     },
     "output_type": "display_data"
    }
   ],
   "source": [
    "xp = np.linspace(-2,2,100)\n",
    "def yp(xp,theta):\n",
    "    return theta[0]*xp**2 + theta[1]*xp + theta[2]\n",
    "    \n",
    "plt.plot(xp, yp(xp,theta), 'r-', label='LS fit')\n",
    "plt.plot(X,Y,'bo', label='data')\n",
    "plt.legend()"
   ]
  },
  {
   "cell_type": "code",
   "execution_count": 33,
   "metadata": {},
   "outputs": [
    {
     "data": {
      "application/vnd.jupyter.widget-view+json": {
       "model_id": "c6fbcab50dfa4ecab3755aa68d8fa93c",
       "version_major": 2,
       "version_minor": 0
      },
      "text/plain": [
       "interactive(children=(IntSlider(value=5, description='d', max=10), Output()), _dom_classes=('widget-interact',…"
      ]
     },
     "metadata": {},
     "output_type": "display_data"
    }
   ],
   "source": [
    "from ipywidgets import interactive, fixed\n",
    "def rlq(d, At, Yt):\n",
    "    theta = sla.lsmr(At, Yt, damp=d)[0]\n",
    "    plt.plot(xp, yp(xp,theta), 'r--', label='RLS')\n",
    "    plt.plot(X, Y, 'ko', label='data')\n",
    "    plt.text(-1.5, 0, 'd={}'.format(d))\n",
    "    plt.ylim((-1,3))\n",
    "    plt.legend(loc='lower right')\n",
    "    \n",
    "interactive(rlq, d=(0,10), At=fixed(A), Yt=fixed(Y))"
   ]
  },
  {
   "cell_type": "code",
   "execution_count": null,
   "metadata": {},
   "outputs": [],
   "source": []
  }
 ],
 "metadata": {
  "kernelspec": {
   "display_name": "Python 3",
   "language": "python",
   "name": "python3"
  },
  "language_info": {
   "codemirror_mode": {
    "name": "ipython",
    "version": 3
   },
   "file_extension": ".py",
   "mimetype": "text/x-python",
   "name": "python",
   "nbconvert_exporter": "python",
   "pygments_lexer": "ipython3",
   "version": "3.7.3"
  }
 },
 "nbformat": 4,
 "nbformat_minor": 2
}
