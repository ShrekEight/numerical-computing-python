{
 "cells": [
  {
   "cell_type": "code",
   "execution_count": null,
   "metadata": {},
   "outputs": [],
   "source": [
    "%matplotlib inline"
   ]
  },
  {
   "cell_type": "markdown",
   "metadata": {},
   "source": [
    "# 1D plot"
   ]
  },
  {
   "cell_type": "code",
   "execution_count": null,
   "metadata": {},
   "outputs": [],
   "source": [
    "import numpy as np\n",
    "import matplotlib.pyplot as plt\n",
    "\n",
    "x = np.linspace(0, 3, 20)\n",
    "y = np.linspace(0, 9, 20)\n",
    "plt.plot(x, y)\n",
    "plt.plot(x, y, 'o')"
   ]
  },
  {
   "cell_type": "markdown",
   "metadata": {},
   "source": [
    "Exercise:\n",
    "- Try a different symbol: https://matplotlib.org/2.1.2/api/_as_gen/matplotlib.pyplot.plot.html"
   ]
  },
  {
   "cell_type": "code",
   "execution_count": null,
   "metadata": {},
   "outputs": [],
   "source": [
    "plt.plot(x,y, '*')"
   ]
  },
  {
   "cell_type": "code",
   "execution_count": null,
   "metadata": {},
   "outputs": [],
   "source": [
    "plt.plot(x,y, '--o')"
   ]
  },
  {
   "cell_type": "markdown",
   "metadata": {},
   "source": [
    "# 2D plotting"
   ]
  },
  {
   "cell_type": "code",
   "execution_count": null,
   "metadata": {},
   "outputs": [],
   "source": [
    "import numpy as np\n",
    "import matplotlib.pyplot as plt\n",
    "\n",
    "image = np.random.rand(10, 10)\n",
    "plt.imshow(image, cmap=plt.cm.hot)\n",
    "plt.colorbar()"
   ]
  },
  {
   "cell_type": "markdown",
   "metadata": {},
   "source": [
    "## Exercise\n",
    "\n",
    "Try a different color map\n",
    "\n",
    "'binary', 'gist_yarg', 'gist_gray', 'gray', 'bone', 'pink',\n",
    "'spring', 'summer', 'autumn', 'winter', 'cool', 'Wistia',\n",
    "'hot', 'afmhot', 'gist_heat', 'copper'"
   ]
  },
  {
   "cell_type": "code",
   "execution_count": null,
   "metadata": {},
   "outputs": [],
   "source": [
    "plt.imshow(image, cmap=plt.cm.bone)"
   ]
  },
  {
   "cell_type": "code",
   "execution_count": null,
   "metadata": {},
   "outputs": [],
   "source": [
    "np.random.rand(10, 10)"
   ]
  },
  {
   "cell_type": "markdown",
   "metadata": {},
   "source": [
    "Read the documentation: https://matplotlib.org/api/_as_gen/matplotlib.pyplot.imshow.html"
   ]
  },
  {
   "cell_type": "markdown",
   "metadata": {},
   "source": [
    "# Plotting 2D scalar"
   ]
  },
  {
   "cell_type": "code",
   "execution_count": null,
   "metadata": {},
   "outputs": [],
   "source": [
    "# This example demonstrates index operations\n",
    "\n",
    "import numpy as np\n",
    "import matplotlib.pyplot as plt\n",
    "\n",
    "x, y = np.arange(5), np.arange(5)[:, np.newaxis]\n",
    "distance = np.sqrt(x ** 2 + y ** 2)\n",
    "plt.pcolor(distance) # https://matplotlib.org/api/_as_gen/matplotlib.pyplot.pcolor.html\n",
    "plt.colorbar()"
   ]
  },
  {
   "cell_type": "markdown",
   "metadata": {},
   "source": [
    "Note the structure of x and y"
   ]
  },
  {
   "cell_type": "code",
   "execution_count": null,
   "metadata": {},
   "outputs": [],
   "source": [
    "x, y = np.arange(5), np.arange(5)[:, np.newaxis]"
   ]
  },
  {
   "cell_type": "code",
   "execution_count": null,
   "metadata": {},
   "outputs": [],
   "source": [
    "x.shape"
   ]
  },
  {
   "cell_type": "code",
   "execution_count": null,
   "metadata": {},
   "outputs": [],
   "source": [
    "y"
   ]
  },
  {
   "cell_type": "code",
   "execution_count": null,
   "metadata": {},
   "outputs": [],
   "source": [
    "y.shape"
   ]
  },
  {
   "cell_type": "code",
   "execution_count": null,
   "metadata": {},
   "outputs": [],
   "source": [
    "distance"
   ]
  },
  {
   "cell_type": "markdown",
   "metadata": {},
   "source": [
    "# Polynomial example"
   ]
  },
  {
   "cell_type": "code",
   "execution_count": null,
   "metadata": {},
   "outputs": [],
   "source": [
    "import numpy as np\n",
    "import matplotlib.pyplot as plt\n",
    "\n",
    "np.random.seed()  # put a number to \"fix\" the seed\n",
    "\n",
    "N = 10\n",
    "\n",
    "x = np.linspace(0, 4, N)\n",
    "y = np.cos(x) + 0.3*np.random.rand(N)\n",
    "p = np.poly1d(np.polyfit(x, y, 3))\n",
    "\n",
    "plt.plot(x, y, 'o')      # plot the data points\n",
    "plt.plot(x, p(x), '-')   # plot the curve\n",
    "\n",
    "# use dense grid to look good\n",
    "t = np.linspace(0, 5, 200)   \n",
    "#plt.plot(x, y, 'o', t, p(t), '-')"
   ]
  },
  {
   "cell_type": "markdown",
   "metadata": {},
   "source": [
    "# Chebyshev polynomial example\n",
    "\n",
    "https://numpy.org/doc/stable/reference/generated/numpy.polynomial.chebyshev.Chebyshev.fit.html#numpy.polynomial.chebyshev.Chebyshev.fit"
   ]
  },
  {
   "cell_type": "code",
   "execution_count": null,
   "metadata": {},
   "outputs": [],
   "source": [
    "import numpy as np\n",
    "import matplotlib.pyplot as plt\n",
    "\n",
    "np.random.seed(0)\n",
    "\n",
    "x = np.linspace(-1, 1, 500)\n",
    "y = np.cos(x) + 0.3*np.random.rand(500)\n",
    "p = np.polynomial.Chebyshev.fit(x, y, 40)\n",
    "\n",
    "plt.plot(x, y, 'r.')\n",
    "plt.plot(x, p(x), 'k-', lw=3)"
   ]
  },
  {
   "cell_type": "markdown",
   "metadata": {},
   "source": [
    "# Image loading example\n",
    "\n",
    "Image source: www.desktopbackground.org"
   ]
  },
  {
   "cell_type": "code",
   "execution_count": null,
   "metadata": {},
   "outputs": [],
   "source": [
    "import numpy as np\n",
    "import matplotlib.pyplot as plt\n",
    "\n",
    "plt.figure()\n",
    "img = plt.imread('lion.png')\n",
    "plt.imshow(img)"
   ]
  },
  {
   "cell_type": "code",
   "execution_count": null,
   "metadata": {},
   "outputs": [],
   "source": [
    "# check out the contents of \"img\"\n",
    "\n",
    "img.shape\n",
    "# img"
   ]
  },
  {
   "cell_type": "markdown",
   "metadata": {},
   "source": [
    "This is a (R,G,B,A) image\n",
    "\n",
    "Ref: https://matplotlib.org/api/_as_gen/matplotlib.pyplot.imread.html"
   ]
  },
  {
   "cell_type": "code",
   "execution_count": null,
   "metadata": {},
   "outputs": [],
   "source": [
    "## display just the red channel \n",
    "\n",
    "plt.figure()\n",
    "img_red = img[:, :, 0]\n",
    "plt.imshow(img_red, cmap=plt.cm.gray)"
   ]
  },
  {
   "cell_type": "code",
   "execution_count": null,
   "metadata": {},
   "outputs": [],
   "source": [
    "# lower the resolution\n",
    "\n",
    "plt.figure()\n",
    "img_tiny = img[::25, ::25]\n",
    "plt.imshow(img_tiny, interpolation='nearest')"
   ]
  },
  {
   "cell_type": "code",
   "execution_count": null,
   "metadata": {},
   "outputs": [],
   "source": [
    "# The dimension of the low-res image\n",
    "img_tiny.shape"
   ]
  },
  {
   "cell_type": "markdown",
   "metadata": {},
   "source": [
    "## Exercise\n",
    "\n",
    "Try other interpolation method:\n",
    "\n",
    "'none', 'nearest', 'bilinear', 'bicubic', 'spline16',\n",
    "'spline36', 'hanning', 'hamming', 'hermite', 'kaiser', 'quadric',\n",
    "'catrom', 'gaussian', 'bessel', 'mitchell', 'sinc', 'lanczos'\n",
    "\n",
    "https://matplotlib.org/gallery/images_contours_and_fields/interpolation_methods.html"
   ]
  },
  {
   "cell_type": "code",
   "execution_count": null,
   "metadata": {},
   "outputs": [],
   "source": [
    "plt.imshow(img_tiny, interpolation='spline36')"
   ]
  },
  {
   "cell_type": "markdown",
   "metadata": {},
   "source": [
    "# Mandelbrot example\n",
    "\n",
    "https://en.wikipedia.org/wiki/Mandelbrot_set"
   ]
  },
  {
   "cell_type": "code",
   "execution_count": null,
   "metadata": {},
   "outputs": [],
   "source": [
    "import numpy as np\n",
    "import matplotlib.pyplot as plt\n",
    "from numpy import newaxis\n",
    "\n",
    "def compute_mandelbrot(N_max, some_threshold, nx, ny):\n",
    "    # A grid of c-values\n",
    "    x = np.linspace(-2, 1, nx)\n",
    "    y = np.linspace(-1.5, 1.5, ny)\n",
    "\n",
    "    c = x[:,newaxis] + 1j*y[newaxis,:]\n",
    "\n",
    "    # Mandelbrot iteration\n",
    "\n",
    "    z = c\n",
    "    for j in range(N_max):\n",
    "        z = z**2 + c\n",
    "\n",
    "    mandelbrot_set = (abs(z) < some_threshold)\n",
    "\n",
    "    return mandelbrot_set\n",
    "\n",
    "mandelbrot_set = compute_mandelbrot(50, 50., 301, 201)\n",
    "\n",
    "plt.imshow(mandelbrot_set.T, extent=[-2, 1, -1.5, 1.5])\n",
    "plt.gray()"
   ]
  },
  {
   "cell_type": "code",
   "execution_count": null,
   "metadata": {},
   "outputs": [],
   "source": [
    "mandelbrot_set.dtype"
   ]
  },
  {
   "cell_type": "markdown",
   "metadata": {},
   "source": [
    "# Random walk"
   ]
  },
  {
   "cell_type": "markdown",
   "metadata": {},
   "source": [
    "A random is a step either to the left (-1) or to the right (+1) along a coordinate axis.\n",
    "\n",
    "Generate 3 sets of data, each set has 10 steps of random walk"
   ]
  },
  {
   "cell_type": "code",
   "execution_count": null,
   "metadata": {},
   "outputs": [],
   "source": [
    "import numpy as np\n",
    "import matplotlib.pyplot as plt\n",
    "\n",
    "np.random.randint(0,2, (3,10))"
   ]
  },
  {
   "cell_type": "code",
   "execution_count": null,
   "metadata": {},
   "outputs": [],
   "source": [
    "steps = 2 * np.random.randint(0,1+1,(3,10)) - 1\n",
    "steps.shape"
   ]
  },
  {
   "cell_type": "code",
   "execution_count": null,
   "metadata": {},
   "outputs": [],
   "source": [
    "steps"
   ]
  },
  {
   "cell_type": "code",
   "execution_count": null,
   "metadata": {},
   "outputs": [],
   "source": [
    "positions = np.cumsum(steps,axis=1)\n",
    "positions"
   ]
  },
  {
   "cell_type": "code",
   "execution_count": null,
   "metadata": {},
   "outputs": [],
   "source": [
    "positions.shape"
   ]
  },
  {
   "cell_type": "code",
   "execution_count": null,
   "metadata": {},
   "outputs": [],
   "source": [
    "# distance squared\n",
    "sq_distance = positions ** 2\n",
    "sq_distance"
   ]
  },
  {
   "cell_type": "code",
   "execution_count": null,
   "metadata": {},
   "outputs": [],
   "source": [
    "# average across the data sets\n",
    "mean_sq_distance = np.mean(sq_distance, axis=0)\n",
    "mean_sq_distance"
   ]
  },
  {
   "cell_type": "code",
   "execution_count": null,
   "metadata": {},
   "outputs": [],
   "source": [
    "import numpy as np\n",
    "import matplotlib.pyplot as plt\n",
    "\n",
    "# We create 1000 realizations with 200 steps each\n",
    "n_stories = 1000\n",
    "t_max = 200\n",
    "\n",
    "t = np.arange(t_max)\n",
    "# Steps can be -1 or 1 (note that randint excludes the upper limit)\n",
    "steps = 2 * np.random.randint(0, 1 + 1, (n_stories, t_max)) - 1\n",
    "\n",
    "# The time evolution of the position is obtained by successively\n",
    "# summing up individual steps. This is done for each of the\n",
    "# realizations, i.e. along axis 1.\n",
    "positions = np.cumsum(steps, axis=1)\n",
    "\n",
    "# Determine the time evolution of the mean square distance.\n",
    "sq_distance = positions**2\n",
    "mean_sq_distance = np.mean(sq_distance, axis=0)\n",
    "\n",
    "# compare distance from the origin and theoretically result: sqrt(t)\n",
    "plt.figure(figsize=(12, 7))\n",
    "plt.plot(t, np.sqrt(mean_sq_distance), 'g.', label='mean')\n",
    "plt.plot(t, np.sqrt(t), 'r-', label='analytic')\n",
    "plt.xlabel(r\"$t$\")\n",
    "plt.ylabel(r\"$\\sqrt{\\langle (\\delta x)^2 \\rangle}$\")\n",
    "plt.legend()"
   ]
  },
  {
   "cell_type": "markdown",
   "metadata": {},
   "source": [
    "## Exercise\n",
    "\n",
    "1. Plot the  a few individual realizations on top of the mean\n",
    "2. Plot the positions from origin from a few realizations"
   ]
  },
  {
   "cell_type": "code",
   "execution_count": null,
   "metadata": {},
   "outputs": [],
   "source": [
    "plt.figure(figsize=(12,7))\n",
    "plt.plot(t, np.sqrt(mean_sq_distance), 'g.')\n",
    "for i in range(10):\n",
    "    plt.plot(t, np.sqrt(sq_distance[i]), color='lightgray')\n",
    "plt.ylabel('distance from origin')"
   ]
  },
  {
   "cell_type": "code",
   "execution_count": null,
   "metadata": {},
   "outputs": [],
   "source": [
    "plt.figure(figsize=(12,7))\n",
    "for i in range(10):\n",
    "    plt.plot(t, positions[i], color='black')\n",
    "plt.ylabel('position')"
   ]
  },
  {
   "cell_type": "code",
   "execution_count": null,
   "metadata": {},
   "outputs": [],
   "source": []
  }
 ],
 "metadata": {
  "kernelspec": {
   "display_name": "Python 3",
   "language": "python",
   "name": "python3"
  },
  "language_info": {
   "codemirror_mode": {
    "name": "ipython",
    "version": 3
   },
   "file_extension": ".py",
   "mimetype": "text/x-python",
   "name": "python",
   "nbconvert_exporter": "python",
   "pygments_lexer": "ipython3",
   "version": "3.7.6"
  }
 },
 "nbformat": 4,
 "nbformat_minor": 4
}
