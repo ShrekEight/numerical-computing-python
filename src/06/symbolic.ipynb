{
 "cells": [
  {
   "cell_type": "markdown",
   "metadata": {},
   "source": [
    "# Symbolic mathematics and computation\n",
    "\n",
    "https://docs.sympy.org/"
   ]
  },
  {
   "cell_type": "code",
   "execution_count": 1,
   "metadata": {},
   "outputs": [],
   "source": [
    "%matplotlib inline\n",
    "import sympy as sym\n",
    "import numpy as np\n",
    "import matplotlib.pyplot as plt"
   ]
  },
  {
   "cell_type": "markdown",
   "metadata": {},
   "source": [
    "## An example"
   ]
  },
  {
   "cell_type": "markdown",
   "metadata": {},
   "source": [
    "Consider the computation of $\\frac{1}{2} + \\frac{1}{3}$\n",
    "\n",
    "Doing this manually, we know the answer is $\\frac{5}{6}$.\n",
    "\n",
    "In sympy, Rational is a rational number consisting of an integer numerator and an integer denominator."
   ]
  },
  {
   "cell_type": "code",
   "execution_count": 2,
   "metadata": {},
   "outputs": [],
   "source": [
    "a, b = sym.Rational(1, 2), sym.Rational(1,3)"
   ]
  },
  {
   "cell_type": "code",
   "execution_count": 3,
   "metadata": {},
   "outputs": [
    {
     "data": {
      "text/plain": [
       "(1/2, 1/3)"
      ]
     },
     "execution_count": 3,
     "metadata": {},
     "output_type": "execute_result"
    }
   ],
   "source": [
    "a, b"
   ]
  },
  {
   "cell_type": "code",
   "execution_count": 4,
   "metadata": {},
   "outputs": [
    {
     "data": {
      "text/latex": [
       "$\\displaystyle \\frac{5}{6}$"
      ],
      "text/plain": [
       "5/6"
      ]
     },
     "execution_count": 4,
     "metadata": {},
     "output_type": "execute_result"
    }
   ],
   "source": [
    "a + b"
   ]
  },
  {
   "cell_type": "code",
   "execution_count": 5,
   "metadata": {},
   "outputs": [
    {
     "data": {
      "text/plain": [
       "sympy.core.numbers.Half"
      ]
     },
     "execution_count": 5,
     "metadata": {},
     "output_type": "execute_result"
    }
   ],
   "source": [
    "type(a)"
   ]
  },
  {
   "cell_type": "code",
   "execution_count": 6,
   "metadata": {},
   "outputs": [
    {
     "data": {
      "text/latex": [
       "$\\displaystyle \\frac{1}{4}$"
      ],
      "text/plain": [
       "1/4"
      ]
     },
     "execution_count": 6,
     "metadata": {},
     "output_type": "execute_result"
    }
   ],
   "source": [
    "a**2"
   ]
  },
  {
   "cell_type": "markdown",
   "metadata": {},
   "source": [
    "## Evaluate a formula to a floating number number"
   ]
  },
  {
   "cell_type": "code",
   "execution_count": 7,
   "metadata": {},
   "outputs": [
    {
     "data": {
      "text/plain": [
       "\u001b[0;31mSignature:\u001b[0m\n",
       "\u001b[0msym\u001b[0m\u001b[0;34m.\u001b[0m\u001b[0mpi\u001b[0m\u001b[0;34m.\u001b[0m\u001b[0mevalf\u001b[0m\u001b[0;34m(\u001b[0m\u001b[0;34m\u001b[0m\n",
       "\u001b[0;34m\u001b[0m    \u001b[0mn\u001b[0m\u001b[0;34m=\u001b[0m\u001b[0;36m15\u001b[0m\u001b[0;34m,\u001b[0m\u001b[0;34m\u001b[0m\n",
       "\u001b[0;34m\u001b[0m    \u001b[0msubs\u001b[0m\u001b[0;34m=\u001b[0m\u001b[0;32mNone\u001b[0m\u001b[0;34m,\u001b[0m\u001b[0;34m\u001b[0m\n",
       "\u001b[0;34m\u001b[0m    \u001b[0mmaxn\u001b[0m\u001b[0;34m=\u001b[0m\u001b[0;36m100\u001b[0m\u001b[0;34m,\u001b[0m\u001b[0;34m\u001b[0m\n",
       "\u001b[0;34m\u001b[0m    \u001b[0mchop\u001b[0m\u001b[0;34m=\u001b[0m\u001b[0;32mFalse\u001b[0m\u001b[0;34m,\u001b[0m\u001b[0;34m\u001b[0m\n",
       "\u001b[0;34m\u001b[0m    \u001b[0mstrict\u001b[0m\u001b[0;34m=\u001b[0m\u001b[0;32mFalse\u001b[0m\u001b[0;34m,\u001b[0m\u001b[0;34m\u001b[0m\n",
       "\u001b[0;34m\u001b[0m    \u001b[0mquad\u001b[0m\u001b[0;34m=\u001b[0m\u001b[0;32mNone\u001b[0m\u001b[0;34m,\u001b[0m\u001b[0;34m\u001b[0m\n",
       "\u001b[0;34m\u001b[0m    \u001b[0mverbose\u001b[0m\u001b[0;34m=\u001b[0m\u001b[0;32mFalse\u001b[0m\u001b[0;34m,\u001b[0m\u001b[0;34m\u001b[0m\n",
       "\u001b[0;34m\u001b[0m\u001b[0;34m)\u001b[0m\u001b[0;34m\u001b[0m\u001b[0;34m\u001b[0m\u001b[0m\n",
       "\u001b[0;31mDocstring:\u001b[0m\n",
       "Evaluate the given formula to an accuracy of n digits.\n",
       "Optional keyword arguments:\n",
       "\n",
       "    subs=<dict>\n",
       "        Substitute numerical values for symbols, e.g.\n",
       "        subs={x:3, y:1+pi}. The substitutions must be given as a\n",
       "        dictionary.\n",
       "\n",
       "    maxn=<integer>\n",
       "        Allow a maximum temporary working precision of maxn digits\n",
       "        (default=100)\n",
       "\n",
       "    chop=<bool>\n",
       "        Replace tiny real or imaginary parts in subresults\n",
       "        by exact zeros (default=False)\n",
       "\n",
       "    strict=<bool>\n",
       "        Raise PrecisionExhausted if any subresult fails to evaluate\n",
       "        to full accuracy, given the available maxprec\n",
       "        (default=False)\n",
       "\n",
       "    quad=<str>\n",
       "        Choose algorithm for numerical quadrature. By default,\n",
       "        tanh-sinh quadrature is used. For oscillatory\n",
       "        integrals on an infinite interval, try quad='osc'.\n",
       "\n",
       "    verbose=<bool>\n",
       "        Print debug information (default=False)\n",
       "\n",
       "Notes\n",
       "=====\n",
       "\n",
       "When Floats are naively substituted into an expression, precision errors\n",
       "may adversely affect the result. For example, adding 1e16 (a Float) to 1\n",
       "will truncate to 1e16; if 1e16 is then subtracted, the result will be 0.\n",
       "That is exactly what happens in the following:\n",
       "\n",
       ">>> from sympy.abc import x, y, z\n",
       ">>> values = {x: 1e16, y: 1, z: 1e16}\n",
       ">>> (x + y - z).subs(values)\n",
       "0\n",
       "\n",
       "Using the subs argument for evalf is the accurate way to evaluate such an\n",
       "expression:\n",
       "\n",
       ">>> (x + y - z).evalf(subs=values)\n",
       "1.00000000000000\n",
       "\u001b[0;31mFile:\u001b[0m      ~/sw/anaconda3/2020.02/lib/python3.7/site-packages/sympy/core/evalf.py\n",
       "\u001b[0;31mType:\u001b[0m      method\n"
      ]
     },
     "metadata": {},
     "output_type": "display_data"
    }
   ],
   "source": [
    "sym.pi.evalf?"
   ]
  },
  {
   "cell_type": "code",
   "execution_count": 8,
   "metadata": {},
   "outputs": [
    {
     "data": {
      "text/latex": [
       "$\\displaystyle \\pi$"
      ],
      "text/plain": [
       "pi"
      ]
     },
     "execution_count": 8,
     "metadata": {},
     "output_type": "execute_result"
    }
   ],
   "source": [
    "sym.pi"
   ]
  },
  {
   "cell_type": "code",
   "execution_count": 9,
   "metadata": {},
   "outputs": [
    {
     "data": {
      "text/latex": [
       "$\\displaystyle 3.14159265358979$"
      ],
      "text/plain": [
       "3.14159265358979"
      ]
     },
     "execution_count": 9,
     "metadata": {},
     "output_type": "execute_result"
    }
   ],
   "source": [
    "sym.pi.evalf()"
   ]
  },
  {
   "cell_type": "code",
   "execution_count": 10,
   "metadata": {},
   "outputs": [
    {
     "data": {
      "text/latex": [
       "$\\displaystyle e + \\pi$"
      ],
      "text/plain": [
       "E + pi"
      ]
     },
     "execution_count": 10,
     "metadata": {},
     "output_type": "execute_result"
    }
   ],
   "source": [
    "sym.pi + sym.exp(1)"
   ]
  },
  {
   "cell_type": "code",
   "execution_count": 11,
   "metadata": {},
   "outputs": [
    {
     "data": {
      "text/latex": [
       "$\\displaystyle 5.85987448204884$"
      ],
      "text/plain": [
       "5.85987448204884"
      ]
     },
     "execution_count": 11,
     "metadata": {},
     "output_type": "execute_result"
    }
   ],
   "source": [
    "(sym.pi + sym.exp(1)).evalf()"
   ]
  },
  {
   "cell_type": "code",
   "execution_count": 12,
   "metadata": {},
   "outputs": [
    {
     "data": {
      "text/plain": [
       "5.859874482048838"
      ]
     },
     "execution_count": 12,
     "metadata": {},
     "output_type": "execute_result"
    }
   ],
   "source": [
    "np.pi + np.exp(1)"
   ]
  },
  {
   "cell_type": "markdown",
   "metadata": {},
   "source": [
    "### Example: calculate $\\sqrt{2}$ to 100 decimals"
   ]
  },
  {
   "cell_type": "code",
   "execution_count": 13,
   "metadata": {},
   "outputs": [
    {
     "data": {
      "text/latex": [
       "$\\displaystyle \\sqrt{2}$"
      ],
      "text/plain": [
       "sqrt(2)"
      ]
     },
     "execution_count": 13,
     "metadata": {},
     "output_type": "execute_result"
    }
   ],
   "source": [
    "sym.sqrt(2)"
   ]
  },
  {
   "cell_type": "code",
   "execution_count": 14,
   "metadata": {},
   "outputs": [
    {
     "data": {
      "text/latex": [
       "$\\displaystyle 1.4142135623731$"
      ],
      "text/plain": [
       "1.41421356237310"
      ]
     },
     "execution_count": 14,
     "metadata": {},
     "output_type": "execute_result"
    }
   ],
   "source": [
    "sym.sqrt(2).evalf()"
   ]
  },
  {
   "cell_type": "code",
   "execution_count": 15,
   "metadata": {},
   "outputs": [
    {
     "data": {
      "text/latex": [
       "$\\displaystyle 1.414213562373095048801688724209698078569671875376948073176679737990732478462107038850387534327641573$"
      ],
      "text/plain": [
       "1.414213562373095048801688724209698078569671875376948073176679737990732478462107038850387534327641573"
      ]
     },
     "execution_count": 15,
     "metadata": {},
     "output_type": "execute_result"
    }
   ],
   "source": [
    "sym.sqrt(2).evalf(n=100)"
   ]
  },
  {
   "cell_type": "markdown",
   "metadata": {},
   "source": [
    "## Symbols"
   ]
  },
  {
   "cell_type": "code",
   "execution_count": 16,
   "metadata": {},
   "outputs": [],
   "source": [
    "x = sym.Symbol('x')\n",
    "y = sym.Symbol('y')"
   ]
  },
  {
   "cell_type": "code",
   "execution_count": 17,
   "metadata": {},
   "outputs": [
    {
     "data": {
      "text/plain": [
       "sympy.core.symbol.Symbol"
      ]
     },
     "execution_count": 17,
     "metadata": {},
     "output_type": "execute_result"
    }
   ],
   "source": [
    "type(x)"
   ]
  },
  {
   "cell_type": "code",
   "execution_count": 18,
   "metadata": {},
   "outputs": [
    {
     "data": {
      "text/latex": [
       "$\\displaystyle 2 x$"
      ],
      "text/plain": [
       "2*x"
      ]
     },
     "execution_count": 18,
     "metadata": {},
     "output_type": "execute_result"
    }
   ],
   "source": [
    "x + y + x - y"
   ]
  },
  {
   "cell_type": "code",
   "execution_count": 19,
   "metadata": {},
   "outputs": [
    {
     "data": {
      "text/latex": [
       "$\\displaystyle \\left(x + y\\right)^{2}$"
      ],
      "text/plain": [
       "(x + y)**2"
      ]
     },
     "execution_count": 19,
     "metadata": {},
     "output_type": "execute_result"
    }
   ],
   "source": [
    "(x+y) ** 2"
   ]
  },
  {
   "cell_type": "markdown",
   "metadata": {},
   "source": [
    "Setting the printint format"
   ]
  },
  {
   "cell_type": "code",
   "execution_count": 20,
   "metadata": {},
   "outputs": [],
   "source": [
    "sym.init_printing(use_unicode=False, wrap_line=True)"
   ]
  },
  {
   "cell_type": "markdown",
   "metadata": {},
   "source": [
    "## Algebraic manipulations"
   ]
  },
  {
   "cell_type": "markdown",
   "metadata": {},
   "source": [
    "### Expand"
   ]
  },
  {
   "cell_type": "code",
   "execution_count": 21,
   "metadata": {},
   "outputs": [
    {
     "data": {
      "image/png": "[encoded data removed]",
      "text/latex": [
       "$\\displaystyle x^{3} + 3 x^{2} y + 3 x y^{2} + y^{3}$"
      ],
      "text/plain": [
       " 3      2          2    3\n",
       "x  + 3*x *y + 3*x*y  + y "
      ]
     },
     "execution_count": 21,
     "metadata": {},
     "output_type": "execute_result"
    }
   ],
   "source": [
    "sym.expand((x + y) ** 3)"
   ]
  },
  {
   "cell_type": "code",
   "execution_count": 22,
   "metadata": {},
   "outputs": [
    {
     "data": {
      "image/png": "[encoded data removed]",
      "text/latex": [
       "$\\displaystyle x^{3} + 3 x^{2} y + 3 x y^{2} + y^{3}$"
      ],
      "text/plain": [
       " 3      2          2    3\n",
       "x  + 3*x *y + 3*x*y  + y "
      ]
     },
     "execution_count": 22,
     "metadata": {},
     "output_type": "execute_result"
    }
   ],
   "source": [
    "3 * x * y ** 2 + 3 * y * x ** 2 + x ** 3 + y ** 3"
   ]
  },
  {
   "cell_type": "code",
   "execution_count": 23,
   "metadata": {},
   "outputs": [
    {
     "data": {
      "text/plain": [
       "(sympy.core.symbol.Symbol, sympy.core.symbol.Symbol)"
      ]
     },
     "execution_count": 23,
     "metadata": {},
     "output_type": "execute_result"
    }
   ],
   "source": [
    "type(x), type(y)"
   ]
  },
  {
   "cell_type": "markdown",
   "metadata": {},
   "source": [
    "The same does not work for arbitrary Python variables, e.g."
   ]
  },
  {
   "cell_type": "code",
   "execution_count": 24,
   "metadata": {},
   "outputs": [],
   "source": [
    "# 3 * p * q ** 2 + 3 * q * p ** 2 + p ** 3 + q ** 3"
   ]
  },
  {
   "cell_type": "markdown",
   "metadata": {},
   "source": [
    "### Complex variables"
   ]
  },
  {
   "cell_type": "markdown",
   "metadata": {},
   "source": [
    "Let $x$ and $y$ be complex varilables, i.e.\n",
    "\n",
    "$$ x = Re(x) + i Im(x)$$\n",
    "$$ y = Re(x) + i Im(y)$$\n",
    "\n",
    "where $Re()$ and $Im()$ are the real and imaginary parts of a complex number, respectively.\n",
    "\n",
    "For example,\n",
    "\n",
    "$$ x = 2 + 3 i$$\n",
    "\n",
    "where $i = \\sqrt{-1}$. $Re(x)=2$. $Im(x)=3$."
   ]
  },
  {
   "cell_type": "code",
   "execution_count": 25,
   "metadata": {},
   "outputs": [
    {
     "data": {
      "image/png": "[encoded data removed]",
      "text/latex": [
       "$\\displaystyle \\operatorname{re}{\\left(x\\right)} + \\operatorname{re}{\\left(y\\right)} + i \\operatorname{im}{\\left(x\\right)} + i \\operatorname{im}{\\left(y\\right)}$"
      ],
      "text/plain": [
       "re(x) + re(y) + I*im(x) + I*im(y)"
      ]
     },
     "execution_count": 25,
     "metadata": {},
     "output_type": "execute_result"
    }
   ],
   "source": [
    "sym.expand(x + y, complex=True)"
   ]
  },
  {
   "cell_type": "code",
   "execution_count": 26,
   "metadata": {},
   "outputs": [
    {
     "data": {
      "image/png": "[encoded data removed]",
      "text/latex": [
       "$\\displaystyle i \\left(x + y\\right)$"
      ],
      "text/plain": [
       "I*(x + y)"
      ]
     },
     "execution_count": 26,
     "metadata": {},
     "output_type": "execute_result"
    }
   ],
   "source": [
    "sym.I * (x + y)"
   ]
  },
  {
   "cell_type": "markdown",
   "metadata": {},
   "source": [
    "Example: what is $i * Im(x) + i * Im(y) + Re(x) + Re(y)$:"
   ]
  },
  {
   "cell_type": "code",
   "execution_count": 27,
   "metadata": {},
   "outputs": [
    {
     "data": {
      "image/png": "[encoded data removed]",
      "text/latex": [
       "$\\displaystyle \\operatorname{re}{\\left(x\\right)} + \\operatorname{re}{\\left(y\\right)} + i \\operatorname{im}{\\left(x\\right)} + i \\operatorname{im}{\\left(y\\right)}$"
      ],
      "text/plain": [
       "re(x) + re(y) + I*im(x) + I*im(y)"
      ]
     },
     "execution_count": 27,
     "metadata": {},
     "output_type": "execute_result"
    }
   ],
   "source": [
    "sym.I * sym.im(x) + sym.I * sym.im(y) + sym.re(x) + sym.re(y)"
   ]
  },
  {
   "cell_type": "markdown",
   "metadata": {},
   "source": [
    "### Trigometry\n",
    "\n",
    "$$ \\cos(x+y) = -\\sin(x)\\sin(y) + \\cos(x)\\cos(y) $$"
   ]
  },
  {
   "cell_type": "code",
   "execution_count": 28,
   "metadata": {},
   "outputs": [
    {
     "data": {
      "image/png": "[encoded data removed]",
      "text/latex": [
       "$\\displaystyle - \\sin{\\left(x \\right)} \\sin{\\left(y \\right)} + \\cos{\\left(x \\right)} \\cos{\\left(y \\right)}$"
      ],
      "text/plain": [
       "-sin(x)*sin(y) + cos(x)*cos(y)"
      ]
     },
     "execution_count": 28,
     "metadata": {},
     "output_type": "execute_result"
    }
   ],
   "source": [
    "sym.expand(sym.cos(x + y), trig=True)"
   ]
  },
  {
   "cell_type": "code",
   "execution_count": 29,
   "metadata": {},
   "outputs": [
    {
     "data": {
      "image/png": "[encoded data removed]",
      "text/latex": [
       "$\\displaystyle \\cos{\\left(x + y \\right)}$"
      ],
      "text/plain": [
       "cos(x + y)"
      ]
     },
     "execution_count": 29,
     "metadata": {},
     "output_type": "execute_result"
    }
   ],
   "source": [
    "# The \"trig\" option above was necessary, otherwise:\n",
    "f = sym.expand(sym.cos(x + y))\n",
    "f"
   ]
  },
  {
   "cell_type": "code",
   "execution_count": 30,
   "metadata": {},
   "outputs": [
    {
     "data": {
      "image/png": "[encoded data removed]",
      "text/latex": [
       "$\\displaystyle - \\sin{\\left(x \\right)} \\sin{\\left(y \\right)} + \\cos{\\left(x \\right)} \\cos{\\left(y \\right)}$"
      ],
      "text/plain": [
       "-sin(x)*sin(y) + cos(x)*cos(y)"
      ]
     },
     "execution_count": 30,
     "metadata": {},
     "output_type": "execute_result"
    }
   ],
   "source": [
    "f2 = sym.cos(x) * sym.cos(y) - sym.sin(x) * sym.sin(y)\n",
    "f2"
   ]
  },
  {
   "cell_type": "markdown",
   "metadata": {},
   "source": [
    "#### Example\n",
    "\n",
    "Evalue $\\cos(x+y)$ at $x = \\frac{\\pi}{4}$ and $y=\\frac{\\pi}{4}$. \n",
    "\n",
    "From manual calculation:\n",
    "\n",
    "$\\cos(x+y) = \\cos(\\frac{\\pi}{4} + \\frac{\\pi}{4}) = \\cos(\\frac{\\pi}{2})$"
   ]
  },
  {
   "cell_type": "code",
   "execution_count": 31,
   "metadata": {},
   "outputs": [
    {
     "data": {
      "image/png": "[encoded data removed]",
      "text/latex": [
       "$\\displaystyle 6.12323399573677 \\cdot 10^{-17}$"
      ],
      "text/plain": [
       "6.12323399573677e-17"
      ]
     },
     "execution_count": 31,
     "metadata": {},
     "output_type": "execute_result"
    }
   ],
   "source": [
    "f = sym.expand(sym.cos(x+y))\n",
    "f.evalf(subs={'x': np.pi/4, 'y': np.pi/4})"
   ]
  },
  {
   "cell_type": "code",
   "execution_count": 32,
   "metadata": {},
   "outputs": [
    {
     "data": {
      "image/png": "[encoded data removed]",
      "text/latex": [
       "$\\displaystyle 6.12323399573676588613032966137500146464 \\cdot 10^{-17}$"
      ],
      "text/plain": [
       "6.123233995736765886130329661375001464640e-17"
      ]
     },
     "execution_count": 32,
     "metadata": {},
     "output_type": "execute_result"
    }
   ],
   "source": [
    "f.evalf(subs={'x': np.pi/4, 'y': np.pi/4}, n=40)"
   ]
  },
  {
   "cell_type": "code",
   "execution_count": 33,
   "metadata": {},
   "outputs": [
    {
     "data": {
      "image/png": "[encoded data removed]",
      "text/plain": [
       "<Figure size 432x288 with 1 Axes>"
      ]
     },
     "metadata": {
      "needs_background": "light"
     },
     "output_type": "display_data"
    }
   ],
   "source": [
    "# Recall how cos(x) looks like\n",
    "def plot_cos():\n",
    "    t = np.linspace(0, 2*np.pi, 101)\n",
    "    plt.plot(t, np.cos(t), 'k-')\n",
    "    t0 = [0.5*np.pi]\n",
    "    plt.plot(t0,np.cos(t0), 'ro')\n",
    "    plt.xlim((0, 2*np.pi))\n",
    "    plt.ylim((-1,1))\n",
    "    plt.xticks([0, np.pi/2, np.pi, 2*np.pi], ['0', r'$\\frac{\\pi}{2}$', r'$\\pi$', r'$2\\pi$'])\n",
    "    plt.vlines(0.5*np.pi, -2, 2, colors='gray', linestyles='dashed')\n",
    "    plt.hlines(0, 0, 2*np.pi, colors='gray', linestyles='dashed')\n",
    "    plt.tight_layout()\n",
    "plot_cos()"
   ]
  },
  {
   "cell_type": "markdown",
   "metadata": {},
   "source": [
    "### Simplify"
   ]
  },
  {
   "cell_type": "markdown",
   "metadata": {},
   "source": [
    "Example:\n",
    "\n",
    "$$ \\frac{x + xy }{x} = y+1$$ "
   ]
  },
  {
   "cell_type": "code",
   "execution_count": 34,
   "metadata": {},
   "outputs": [
    {
     "data": {
      "image/png": "[encoded data removed]",
      "text/latex": [
       "$\\displaystyle y + 1$"
      ],
      "text/plain": [
       "y + 1"
      ]
     },
     "execution_count": 34,
     "metadata": {},
     "output_type": "execute_result"
    }
   ],
   "source": [
    "sym.simplify((x + x * y) / x)"
   ]
  },
  {
   "cell_type": "markdown",
   "metadata": {},
   "source": [
    "Example: $$\\frac{x^2 + x^3 y}{x^2} = y+1$$"
   ]
  },
  {
   "cell_type": "code",
   "execution_count": 35,
   "metadata": {},
   "outputs": [
    {
     "data": {
      "image/png": "[encoded data removed]",
      "text/latex": [
       "$\\displaystyle x y + 1$"
      ],
      "text/plain": [
       "x*y + 1"
      ]
     },
     "execution_count": 35,
     "metadata": {},
     "output_type": "execute_result"
    }
   ],
   "source": [
    "sym.simplify((x**2 + x**3 * y) / x**2)"
   ]
  },
  {
   "cell_type": "markdown",
   "metadata": {},
   "source": [
    "Exercises"
   ]
  },
  {
   "cell_type": "markdown",
   "metadata": {},
   "source": [
    "$$(x+y)^6$$"
   ]
  },
  {
   "cell_type": "code",
   "execution_count": 36,
   "metadata": {},
   "outputs": [
    {
     "data": {
      "image/png": "[encoded data removed]",
      "text/latex": [
       "$\\displaystyle x^{6} + 6 x^{5} y + 15 x^{4} y^{2} + 20 x^{3} y^{3} + 15 x^{2} y^{4} + 6 x y^{5} + y^{6}$"
      ],
      "text/plain": [
       " 6      5         4  2       3  3       2  4        5    6\n",
       "x  + 6*x *y + 15*x *y  + 20*x *y  + 15*x *y  + 6*x*y  + y "
      ]
     },
     "execution_count": 36,
     "metadata": {},
     "output_type": "execute_result"
    }
   ],
   "source": [
    "sym.expand((x+y)**6)"
   ]
  },
  {
   "cell_type": "markdown",
   "metadata": {},
   "source": [
    "$$\\frac{\\sin(x) }{\\cos(x)}$$"
   ]
  },
  {
   "cell_type": "code",
   "execution_count": 37,
   "metadata": {},
   "outputs": [
    {
     "data": {
      "image/png": "[encoded data removed]",
      "text/latex": [
       "$\\displaystyle \\tan{\\left(x \\right)}$"
      ],
      "text/plain": [
       "tan(x)"
      ]
     },
     "execution_count": 37,
     "metadata": {},
     "output_type": "execute_result"
    }
   ],
   "source": [
    "sym.simplify(sym.sin(x)/sym.cos(x))"
   ]
  },
  {
   "cell_type": "markdown",
   "metadata": {},
   "source": [
    "## Calculus"
   ]
  },
  {
   "cell_type": "markdown",
   "metadata": {},
   "source": [
    "### limits"
   ]
  },
  {
   "cell_type": "markdown",
   "metadata": {},
   "source": [
    "Example:\n",
    "\n",
    "Consider the limit\n",
    "\n",
    "$$\\lim_{x\\rightarrow 0}\\frac{\\sin(x)}{x}$$\n",
    "\n",
    "To do this by hand, one can apply the L'Hospital's rule [1] to get\n",
    "\n",
    "$$\\lim_{x\\rightarrow 0}\\frac{\\sin(x)}{x} = \\lim_{x\\rightarrow 0} \\cos(x) = \\cos(0) = 1$$\n",
    "\n",
    "[1] https://en.wikipedia.org/wiki/L%27H%C3%B4pital%27s_rule#:~:text=In%20mathematics%2C%20more%20specifically%20calculus,be%20easily%20evaluated%20by%20substitution."
   ]
  },
  {
   "cell_type": "code",
   "execution_count": 38,
   "metadata": {},
   "outputs": [
    {
     "data": {
      "image/png": "[encoded data removed]",
      "text/latex": [
       "$\\displaystyle 1$"
      ],
      "text/plain": [
       "1"
      ]
     },
     "execution_count": 38,
     "metadata": {},
     "output_type": "execute_result"
    }
   ],
   "source": [
    "sym.limit(sym.sin(x) / x, x, 0)"
   ]
  },
  {
   "cell_type": "markdown",
   "metadata": {},
   "source": [
    "### Infinity\n",
    "\n",
    "$\\infty$ is `sympy.oo`"
   ]
  },
  {
   "cell_type": "markdown",
   "metadata": {},
   "source": [
    "Example:\n",
    "\n",
    "$$\\lim_{x\\rightarrow \\infty}\\frac{1}{x} = 0$$"
   ]
  },
  {
   "cell_type": "code",
   "execution_count": 39,
   "metadata": {},
   "outputs": [
    {
     "data": {
      "image/png": "[encoded data removed]",
      "text/latex": [
       "$\\displaystyle 0$"
      ],
      "text/plain": [
       "0"
      ]
     },
     "execution_count": 39,
     "metadata": {},
     "output_type": "execute_result"
    }
   ],
   "source": [
    "sym.limit(1/x, x, sym.oo)"
   ]
  },
  {
   "cell_type": "code",
   "execution_count": 40,
   "metadata": {},
   "outputs": [
    {
     "data": {
      "image/png": "[encoded data removed]",
      "text/latex": [
       "$\\displaystyle \\frac{1}{2}$"
      ],
      "text/plain": [
       "1/2"
      ]
     },
     "execution_count": 40,
     "metadata": {},
     "output_type": "execute_result"
    }
   ],
   "source": [
    "sym.limit(1/x, x, 2)"
   ]
  },
  {
   "cell_type": "code",
   "execution_count": 41,
   "metadata": {},
   "outputs": [
    {
     "data": {
      "text/plain": [
       "sympy.core.numbers.Half"
      ]
     },
     "execution_count": 41,
     "metadata": {},
     "output_type": "execute_result"
    }
   ],
   "source": [
    "f = sym.limit(1/x, x, 2)\n",
    "type(f)"
   ]
  },
  {
   "cell_type": "code",
   "execution_count": 42,
   "metadata": {},
   "outputs": [
    {
     "data": {
      "image/png": "[encoded data removed]",
      "text/latex": [
       "$\\displaystyle 0.5$"
      ],
      "text/plain": [
       "0.500000000000000"
      ]
     },
     "execution_count": 42,
     "metadata": {},
     "output_type": "execute_result"
    }
   ],
   "source": [
    "# to get the numerical value:\n",
    "\n",
    "f.evalf()"
   ]
  },
  {
   "cell_type": "markdown",
   "metadata": {},
   "source": [
    "## Differentiation"
   ]
  },
  {
   "cell_type": "markdown",
   "metadata": {},
   "source": [
    "Example\n",
    "\n",
    "$$\\frac{d}{dx}\\cos(x) = -\\sin(x)$$\n",
    "$$\\frac{d}{dx}\\sin(x) = \\cos(x)$$"
   ]
  },
  {
   "cell_type": "code",
   "execution_count": 43,
   "metadata": {},
   "outputs": [
    {
     "data": {
      "image/png": "[encoded data removed]",
      "text/latex": [
       "$\\displaystyle \\cos{\\left(x \\right)}$"
      ],
      "text/plain": [
       "cos(x)"
      ]
     },
     "execution_count": 43,
     "metadata": {},
     "output_type": "execute_result"
    }
   ],
   "source": [
    "sym.diff(sym.sin(x), x)"
   ]
  },
  {
   "cell_type": "code",
   "execution_count": 44,
   "metadata": {},
   "outputs": [
    {
     "data": {
      "image/png": "[encoded data removed]",
      "text/latex": [
       "$\\displaystyle - \\sin{\\left(x \\right)}$"
      ],
      "text/plain": [
       "-sin(x)"
      ]
     },
     "execution_count": 44,
     "metadata": {},
     "output_type": "execute_result"
    }
   ],
   "source": [
    "sym.diff(sym.cos(x), x)"
   ]
  },
  {
   "cell_type": "markdown",
   "metadata": {},
   "source": [
    "Example\n",
    "\n",
    "$$f = \\log (x ^ 2 + 1) $$\n",
    "$$\\frac{df}{dx} = ?$$"
   ]
  },
  {
   "cell_type": "code",
   "execution_count": 45,
   "metadata": {},
   "outputs": [
    {
     "data": {
      "image/png": "[encoded data removed]",
      "text/latex": [
       "$\\displaystyle \\frac{2 x}{x^{2} + 1}$"
      ],
      "text/plain": [
       " 2*x  \n",
       "------\n",
       " 2    \n",
       "x  + 1"
      ]
     },
     "execution_count": 45,
     "metadata": {},
     "output_type": "execute_result"
    }
   ],
   "source": [
    "sym.diff(sym.log( x**2 + 1), x)"
   ]
  },
  {
   "cell_type": "markdown",
   "metadata": {},
   "source": [
    "Example\n",
    "\n",
    "$$f = \\log (x ^ 2 + y^2 + 1) $$\n",
    "$$\\frac{\\partial f}{\\partial x} = ?$$\n",
    "$$\\frac{\\partial f}{\\partial y} = ?$$"
   ]
  },
  {
   "cell_type": "code",
   "execution_count": 46,
   "metadata": {},
   "outputs": [],
   "source": [
    "f = sym.log(x**2 + y**2 + 1)"
   ]
  },
  {
   "cell_type": "code",
   "execution_count": 47,
   "metadata": {},
   "outputs": [
    {
     "data": {
      "image/png": "[encoded data removed]",
      "text/latex": [
       "$\\displaystyle \\frac{2 x}{x^{2} + y^{2} + 1}$"
      ],
      "text/plain": [
       "    2*x    \n",
       "-----------\n",
       " 2    2    \n",
       "x  + y  + 1"
      ]
     },
     "execution_count": 47,
     "metadata": {},
     "output_type": "execute_result"
    }
   ],
   "source": [
    "sym.diff(f, x)"
   ]
  },
  {
   "cell_type": "code",
   "execution_count": 48,
   "metadata": {},
   "outputs": [
    {
     "data": {
      "image/png": "[encoded data removed]",
      "text/latex": [
       "$\\displaystyle \\frac{2 y}{x^{2} + y^{2} + 1}$"
      ],
      "text/plain": [
       "    2*y    \n",
       "-----------\n",
       " 2    2    \n",
       "x  + y  + 1"
      ]
     },
     "execution_count": 48,
     "metadata": {},
     "output_type": "execute_result"
    }
   ],
   "source": [
    "sym.diff(f, y)"
   ]
  },
  {
   "cell_type": "code",
   "execution_count": 49,
   "metadata": {},
   "outputs": [
    {
     "data": {
      "image/png": "[encoded data removed]",
      "text/latex": [
       "$\\displaystyle - \\frac{4 x^{2}}{\\left(x^{2} + y^{2} + 1\\right)^{2}} + \\frac{2}{x^{2} + y^{2} + 1}$"
      ],
      "text/plain": [
       "          2                   \n",
       "       4*x              2     \n",
       "- -------------- + -----------\n",
       "               2    2    2    \n",
       "  / 2    2    \\    x  + y  + 1\n",
       "  \\x  + y  + 1/               "
      ]
     },
     "execution_count": 49,
     "metadata": {},
     "output_type": "execute_result"
    }
   ],
   "source": [
    "# take derivative again\n",
    "\n",
    "fx = sym.diff(f, x)\n",
    "sym.diff(fx,x)"
   ]
  },
  {
   "cell_type": "markdown",
   "metadata": {},
   "source": [
    "Take higher order derivative"
   ]
  },
  {
   "cell_type": "code",
   "execution_count": 50,
   "metadata": {},
   "outputs": [
    {
     "data": {
      "image/png": "[encoded data removed]",
      "text/latex": [
       "$\\displaystyle \\frac{2 \\left(- \\frac{2 x^{2}}{x^{2} + y^{2} + 1} + 1\\right)}{x^{2} + y^{2} + 1}$"
      ],
      "text/plain": [
       "  /         2       \\\n",
       "  |      2*x        |\n",
       "2*|- ----------- + 1|\n",
       "  |   2    2        |\n",
       "  \\  x  + y  + 1    /\n",
       "---------------------\n",
       "      2    2         \n",
       "     x  + y  + 1     "
      ]
     },
     "execution_count": 50,
     "metadata": {},
     "output_type": "execute_result"
    }
   ],
   "source": [
    "sym.diff(f,x,2)"
   ]
  },
  {
   "cell_type": "markdown",
   "metadata": {},
   "source": [
    "If we also \"simplify\" the results:"
   ]
  },
  {
   "cell_type": "code",
   "execution_count": 51,
   "metadata": {},
   "outputs": [
    {
     "data": {
      "image/png": "[encoded data removed]",
      "text/latex": [
       "$\\displaystyle \\frac{2 \\left(- x^{2} + y^{2} + 1\\right)}{\\left(x^{2} + y^{2} + 1\\right)^{2}}$"
      ],
      "text/plain": [
       "  /   2    2    \\\n",
       "2*\\- x  + y  + 1/\n",
       "-----------------\n",
       "               2 \n",
       "  / 2    2    \\  \n",
       "  \\x  + y  + 1/  "
      ]
     },
     "execution_count": 51,
     "metadata": {},
     "output_type": "execute_result"
    }
   ],
   "source": [
    "sym.diff(fx,x).simplify()"
   ]
  },
  {
   "cell_type": "code",
   "execution_count": 52,
   "metadata": {},
   "outputs": [
    {
     "data": {
      "image/png": "[encoded data removed]",
      "text/latex": [
       "$\\displaystyle \\frac{2 \\left(- x^{2} + y^{2} + 1\\right)}{\\left(x^{2} + y^{2} + 1\\right)^{2}}$"
      ],
      "text/plain": [
       "  /   2    2    \\\n",
       "2*\\- x  + y  + 1/\n",
       "-----------------\n",
       "               2 \n",
       "  / 2    2    \\  \n",
       "  \\x  + y  + 1/  "
      ]
     },
     "execution_count": 52,
     "metadata": {},
     "output_type": "execute_result"
    }
   ],
   "source": [
    "sym.diff(f,x,2).simplify()"
   ]
  },
  {
   "cell_type": "markdown",
   "metadata": {},
   "source": [
    "## Series expansion"
   ]
  },
  {
   "cell_type": "markdown",
   "metadata": {},
   "source": [
    "Example:\n",
    "\n",
    "Series expansion of $\\cos(x)$"
   ]
  },
  {
   "cell_type": "code",
   "execution_count": 53,
   "metadata": {},
   "outputs": [
    {
     "data": {
      "image/png": "[encoded data removed]",
      "text/latex": [
       "$\\displaystyle 1 - \\frac{x^{2}}{2} + \\frac{x^{4}}{24} + O\\left(x^{6}\\right)$"
      ],
      "text/plain": [
       "     2    4        \n",
       "    x    x     / 6\\\n",
       "1 - -- + -- + O\\x /\n",
       "    2    24        "
      ]
     },
     "execution_count": 53,
     "metadata": {},
     "output_type": "execute_result"
    }
   ],
   "source": [
    "sym.series(sym.cos(x), x)"
   ]
  },
  {
   "cell_type": "markdown",
   "metadata": {},
   "source": [
    "## Evaluating the symbolic expressions"
   ]
  },
  {
   "cell_type": "markdown",
   "metadata": {},
   "source": [
    "We already know how to use `evalf()` to evaluate an expression at a point.\n",
    "\n",
    "Consider evaluating the following formula at $x=17$ and $y=42$:"
   ]
  },
  {
   "cell_type": "code",
   "execution_count": 54,
   "metadata": {},
   "outputs": [
    {
     "data": {
      "image/png": "[encoded data removed]",
      "text/latex": [
       "$\\displaystyle 3 x^{2} + \\log{\\left(x^{2} + y^{2} + 1 \\right)}$"
      ],
      "text/plain": [
       "   2      / 2    2    \\\n",
       "3*x  + log\\x  + y  + 1/"
      ]
     },
     "execution_count": 54,
     "metadata": {},
     "output_type": "execute_result"
    }
   ],
   "source": [
    "x, y = sym.symbols('x y')\n",
    "f = 3*x**2 + sym.log(x**2 + y**2 + 1)\n",
    "f"
   ]
  },
  {
   "cell_type": "markdown",
   "metadata": {},
   "source": [
    "One way to do this is using `evalf()`:"
   ]
  },
  {
   "cell_type": "code",
   "execution_count": 55,
   "metadata": {},
   "outputs": [
    {
     "name": "stdout",
     "output_type": "stream",
     "text": [
      "148 µs ± 598 ns per loop (mean ± std. dev. of 7 runs, 10000 loops each)\n"
     ]
    }
   ],
   "source": [
    "%timeit f.subs({x: 17, y: 42}).evalf()"
   ]
  },
  {
   "cell_type": "markdown",
   "metadata": {},
   "source": [
    "Use `sympy.lamdify`:"
   ]
  },
  {
   "cell_type": "code",
   "execution_count": 56,
   "metadata": {},
   "outputs": [
    {
     "data": {
      "image/png": "[encoded data removed]",
      "text/latex": [
       "$\\displaystyle 874.6275443904885$"
      ],
      "text/plain": [
       "874.6275443904885"
      ]
     },
     "execution_count": 56,
     "metadata": {},
     "output_type": "execute_result"
    }
   ],
   "source": [
    "g = sym.lambdify([x,y], f, modules=['math'])\n",
    "g(17, 42)"
   ]
  },
  {
   "cell_type": "markdown",
   "metadata": {},
   "source": [
    "It is significantly faster than the `evalf()` method:"
   ]
  },
  {
   "cell_type": "code",
   "execution_count": 57,
   "metadata": {},
   "outputs": [
    {
     "name": "stdout",
     "output_type": "stream",
     "text": [
      "814 ns ± 6.68 ns per loop (mean ± std. dev. of 7 runs, 1000000 loops each)\n"
     ]
    }
   ],
   "source": [
    "%timeit g(17,42)"
   ]
  },
  {
   "cell_type": "markdown",
   "metadata": {},
   "source": [
    "#### Example:\n",
    "\n",
    "Plot the first and second derivates of $f$:\n",
    "\n",
    "$$ f(x) = \\exp(\\frac{-(x+c)^2}{\\sigma^2})$$"
   ]
  },
  {
   "cell_type": "code",
   "execution_count": 58,
   "metadata": {},
   "outputs": [
    {
     "data": {
      "image/png": "[encoded data removed]",
      "text/latex": [
       "$\\displaystyle \\left( x, \\  c, \\  \\sigma\\right)$"
      ],
      "text/plain": [
       "(x, c, sigma)"
      ]
     },
     "execution_count": 58,
     "metadata": {},
     "output_type": "execute_result"
    }
   ],
   "source": [
    "x = sym.Symbol('x')\n",
    "c = sym.Symbol('c')\n",
    "s = sym.Symbol('sigma')\n",
    "x, c, s"
   ]
  },
  {
   "cell_type": "code",
   "execution_count": 59,
   "metadata": {},
   "outputs": [
    {
     "data": {
      "image/png": "[encoded data removed]",
      "text/latex": [
       "$\\displaystyle e^{- \\frac{\\left(c + x\\right)^{2}}{\\sigma^{2}}}$"
      ],
      "text/plain": [
       "         2 \n",
       " -(c + x)  \n",
       " ----------\n",
       "        2  \n",
       "   sigma   \n",
       "e          "
      ]
     },
     "execution_count": 59,
     "metadata": {},
     "output_type": "execute_result"
    }
   ],
   "source": [
    "f = sym.exp(-(x+c)**2/s**2)\n",
    "f"
   ]
  },
  {
   "cell_type": "code",
   "execution_count": 60,
   "metadata": {},
   "outputs": [
    {
     "data": {
      "image/png": "[encoded data removed]",
      "text/latex": [
       "$\\displaystyle - \\frac{\\left(2 c + 2 x\\right) e^{- \\frac{\\left(c + x\\right)^{2}}{\\sigma^{2}}}}{\\sigma^{2}}$"
      ],
      "text/plain": [
       "                      2  \n",
       "              -(c + x)   \n",
       "              ---------- \n",
       "                     2   \n",
       "                sigma    \n",
       "-(2*c + 2*x)*e           \n",
       "-------------------------\n",
       "               2         \n",
       "          sigma          "
      ]
     },
     "execution_count": 60,
     "metadata": {},
     "output_type": "execute_result"
    }
   ],
   "source": [
    "# derivative of f\n",
    "f1 = sym.diff(f, x)\n",
    "f1"
   ]
  },
  {
   "cell_type": "code",
   "execution_count": 61,
   "metadata": {},
   "outputs": [
    {
     "data": {
      "image/png": "[encoded data removed]",
      "text/latex": [
       "$\\displaystyle \\frac{2 \\left(-1 + \\frac{2 \\left(c + x\\right)^{2}}{\\sigma^{2}}\\right) e^{- \\frac{\\left(c + x\\right)^{2}}{\\sigma^{2}}}}{\\sigma^{2}}$"
      ],
      "text/plain": [
       "                             2 \n",
       "                     -(c + x)  \n",
       "                     ----------\n",
       "  /              2\\         2  \n",
       "  |     2*(c + x) |    sigma   \n",
       "2*|-1 + ----------|*e          \n",
       "  |            2  |            \n",
       "  \\       sigma   /            \n",
       "-------------------------------\n",
       "                  2            \n",
       "             sigma             "
      ]
     },
     "execution_count": 61,
     "metadata": {},
     "output_type": "execute_result"
    }
   ],
   "source": [
    "f2 = sym.diff(f, x, 2)\n",
    "f2"
   ]
  },
  {
   "cell_type": "code",
   "execution_count": 62,
   "metadata": {},
   "outputs": [],
   "source": [
    "# make a function\n",
    "func  = sym.lambdify([x, c, s], f )\n",
    "func1 = sym.lambdify([x, c, s], f1)\n",
    "func2 = sym.lambdify([x, c, s], f2)"
   ]
  },
  {
   "cell_type": "code",
   "execution_count": 63,
   "metadata": {},
   "outputs": [
    {
     "data": {
      "text/plain": [
       "<matplotlib.legend.Legend at 0x7f5ea0eba450>"
      ]
     },
     "execution_count": 63,
     "metadata": {},
     "output_type": "execute_result"
    },
    {
     "data": {
      "image/png": "[encoded data removed]",
      "text/plain": [
       "<Figure size 432x288 with 1 Axes>"
      ]
     },
     "metadata": {
      "needs_background": "light"
     },
     "output_type": "display_data"
    }
   ],
   "source": [
    "cc = 0.5\n",
    "ss = 1.0\n",
    "t = np.linspace(-3, 3, 101)\n",
    "plt.plot(t, func(t, cc,ss), 'b-', label=r'$f$')\n",
    "plt.plot(t, func1(t,cc,ss), 'r-', label=r\"$f'$\")\n",
    "plt.plot(t, func2(t,cc,ss), 'g-', label=r\"$f''$\")\n",
    "plt.legend(fontsize=20, frameon=False)"
   ]
  },
  {
   "cell_type": "markdown",
   "metadata": {},
   "source": [
    "## Integratioin"
   ]
  },
  {
   "cell_type": "markdown",
   "metadata": {},
   "source": [
    "An example\n",
    "\n",
    "$$f(x) = x^2 + x + 1$$\n",
    "\n",
    "$$\\int f(x)dx = \\frac{x^3}{3} + \\frac{x^2}{2} + x + c$$"
   ]
  },
  {
   "cell_type": "code",
   "execution_count": 64,
   "metadata": {},
   "outputs": [
    {
     "data": {
      "image/png": "[encoded data removed]",
      "text/latex": [
       "$\\displaystyle x^{2} + x + 1$"
      ],
      "text/plain": [
       " 2        \n",
       "x  + x + 1"
      ]
     },
     "execution_count": 64,
     "metadata": {},
     "output_type": "execute_result"
    }
   ],
   "source": [
    "x = sym.Symbol('x')\n",
    "f = x**2 + x + 1\n",
    "f"
   ]
  },
  {
   "cell_type": "code",
   "execution_count": 65,
   "metadata": {},
   "outputs": [
    {
     "data": {
      "image/png": "[encoded data removed]",
      "text/latex": [
       "$\\displaystyle \\frac{x^{3}}{3} + \\frac{x^{2}}{2} + x$"
      ],
      "text/plain": [
       " 3    2    \n",
       "x    x     \n",
       "-- + -- + x\n",
       "3    2     "
      ]
     },
     "execution_count": 65,
     "metadata": {},
     "output_type": "execute_result"
    }
   ],
   "source": [
    "sym.integrate(f)"
   ]
  },
  {
   "cell_type": "code",
   "execution_count": 66,
   "metadata": {},
   "outputs": [
    {
     "data": {
      "image/png": "[encoded data removed]",
      "text/latex": [
       "$\\displaystyle \\frac{x^{4}}{12} + \\frac{x^{3}}{6} + \\frac{x^{2}}{2}$"
      ],
      "text/plain": [
       " 4    3    2\n",
       "x    x    x \n",
       "-- + -- + --\n",
       "12   6    2 "
      ]
     },
     "execution_count": 66,
     "metadata": {},
     "output_type": "execute_result"
    }
   ],
   "source": [
    "# integreate f twice\n",
    "fi = sym.integrate(f)\n",
    "sym.integrate(fi)"
   ]
  },
  {
   "cell_type": "code",
   "execution_count": 67,
   "metadata": {},
   "outputs": [
    {
     "data": {
      "image/png": "[encoded data removed]",
      "text/latex": [
       "$\\displaystyle - \\cos{\\left(x \\right)}$"
      ],
      "text/plain": [
       "-cos(x)"
      ]
     },
     "execution_count": 67,
     "metadata": {},
     "output_type": "execute_result"
    }
   ],
   "source": [
    "# integrate of sin(x)\n",
    "\n",
    "sym.integrate(sym.sin(x), x)"
   ]
  },
  {
   "cell_type": "markdown",
   "metadata": {},
   "source": [
    "### Integration over an interval\n",
    "\n",
    "Consider\n",
    "\n",
    "$$ \\int_{0}^{\\pi/2} \\cos(x) dx $$\n",
    "\n",
    "Analytically, the integration is:\n",
    "\n",
    "$$ \\sin(\\pi/2) - \\sin(0) = 1 $$"
   ]
  },
  {
   "cell_type": "code",
   "execution_count": 68,
   "metadata": {},
   "outputs": [
    {
     "data": {
      "image/png": "[encoded data removed]",
      "text/latex": [
       "$\\displaystyle \\left( x, \\  \\cos{\\left(x \\right)}\\right)$"
      ],
      "text/plain": [
       "(x, cos(x))"
      ]
     },
     "execution_count": 68,
     "metadata": {},
     "output_type": "execute_result"
    }
   ],
   "source": [
    "x = sym.Symbol('x')\n",
    "f = sym.cos(x)\n",
    "x, f"
   ]
  },
  {
   "cell_type": "code",
   "execution_count": 69,
   "metadata": {},
   "outputs": [
    {
     "data": {
      "image/png": "[encoded data removed]",
      "text/latex": [
       "$\\displaystyle \\sin{\\left(x \\right)}$"
      ],
      "text/plain": [
       "sin(x)"
      ]
     },
     "execution_count": 69,
     "metadata": {},
     "output_type": "execute_result"
    }
   ],
   "source": [
    "sym.integrate(f, x)"
   ]
  },
  {
   "cell_type": "code",
   "execution_count": 70,
   "metadata": {},
   "outputs": [
    {
     "data": {
      "image/png": "[encoded data removed]",
      "text/latex": [
       "$\\displaystyle 1.0$"
      ],
      "text/plain": [
       "1.00000000000000"
      ]
     },
     "execution_count": 70,
     "metadata": {},
     "output_type": "execute_result"
    }
   ],
   "source": [
    "sym.integrate(f, (x, 0, np.pi/2))"
   ]
  },
  {
   "cell_type": "code",
   "execution_count": 71,
   "metadata": {},
   "outputs": [
    {
     "data": {
      "image/png": "[encoded data removed]",
      "text/latex": [
       "$\\displaystyle \\left( -1, \\  1\\right)$"
      ],
      "text/plain": [
       "(-1, 1)"
      ]
     },
     "execution_count": 71,
     "metadata": {},
     "output_type": "execute_result"
    },
    {
     "data": {
      "image/png": "[encoded data removed]",
      "text/plain": [
       "<Figure size 432x288 with 1 Axes>"
      ]
     },
     "metadata": {
      "needs_background": "light"
     },
     "output_type": "display_data"
    }
   ],
   "source": [
    "t = np.linspace(0, np.pi, 101)\n",
    "t2 = np.linspace(0, np.pi/2, 101)\n",
    "plt.plot(t, np.cos(t), 'k-')\n",
    "plt.fill_between(t2, np.cos(t2), np.zeros(t2.shape[0]), color='green',alpha=0.3)\n",
    "plt.vlines(0, -1, 1)\n",
    "plt.hlines(0, 0, np.pi)\n",
    "plt.xlim((0, np.pi))\n",
    "plt.ylim((-1, 1))"
   ]
  },
  {
   "cell_type": "markdown",
   "metadata": {},
   "source": [
    "### Example\n",
    "\n",
    "Consider\n",
    "\n",
    "$$ f(x) = \\exp(-x)$$\n",
    "\n",
    "$$ g(x) = \\exp(-x^2)$$\n",
    "\n",
    "Analytically, we know (e.g. from Calculus textbooks):\n",
    "\n",
    "$$ \\int f(x)dx = -\\exp(-x)$$\n",
    "\n",
    "$$ \\int g(x)dx = \\frac{\\sqrt{\\pi} erf(x)}{2}$$"
   ]
  },
  {
   "cell_type": "code",
   "execution_count": 72,
   "metadata": {},
   "outputs": [
    {
     "data": {
      "image/png": "[encoded data removed]",
      "text/latex": [
       "$\\displaystyle \\left( e^{- x}, \\  e^{- x^{2}}\\right)$"
      ],
      "text/plain": [
       "         2 \n",
       "  -x   -x  \n",
       "(e  , e   )"
      ]
     },
     "execution_count": 72,
     "metadata": {},
     "output_type": "execute_result"
    }
   ],
   "source": [
    "x = sym.Symbol('x')\n",
    "f = sym.exp(-x)\n",
    "g = sym.exp(-x**2)\n",
    "f, g"
   ]
  },
  {
   "cell_type": "code",
   "execution_count": 73,
   "metadata": {},
   "outputs": [
    {
     "data": {
      "image/png": "[encoded data removed]",
      "text/latex": [
       "$\\displaystyle - e^{- x}$"
      ],
      "text/plain": [
       "  -x\n",
       "-e  "
      ]
     },
     "execution_count": 73,
     "metadata": {},
     "output_type": "execute_result"
    }
   ],
   "source": [
    "fi = sym.integrate(f, x)\n",
    "fi"
   ]
  },
  {
   "cell_type": "code",
   "execution_count": 74,
   "metadata": {},
   "outputs": [
    {
     "data": {
      "image/png": "[encoded data removed]",
      "text/latex": [
       "$\\displaystyle \\frac{\\sqrt{\\pi} \\operatorname{erf}{\\left(x \\right)}}{2}$"
      ],
      "text/plain": [
       "  ____       \n",
       "\\/ pi *erf(x)\n",
       "-------------\n",
       "      2      "
      ]
     },
     "execution_count": 74,
     "metadata": {},
     "output_type": "execute_result"
    }
   ],
   "source": [
    "gi = sym.integrate(g, x)\n",
    "gi"
   ]
  },
  {
   "cell_type": "markdown",
   "metadata": {},
   "source": [
    "where $erf(x)$ is the error function. See https://en.wikipedia.org/wiki/Error_function"
   ]
  },
  {
   "cell_type": "code",
   "execution_count": 75,
   "metadata": {},
   "outputs": [],
   "source": [
    "ffunc  = sym.lambdify([x], f)\n",
    "gfunc  = sym.lambdify([x], g)\n",
    "gifunc = sym.lambdify([x], gi)\n",
    "fifunc = sym.lambdify([x], fi)"
   ]
  },
  {
   "cell_type": "code",
   "execution_count": 76,
   "metadata": {},
   "outputs": [
    {
     "data": {
      "text/plain": [
       "<matplotlib.legend.Legend at 0x7f5ea0a767d0>"
      ]
     },
     "execution_count": 76,
     "metadata": {},
     "output_type": "execute_result"
    },
    {
     "data": {
      "image/png": "[encoded data removed]",
      "text/plain": [
       "<Figure size 720x360 with 2 Axes>"
      ]
     },
     "metadata": {
      "needs_background": "light"
     },
     "output_type": "display_data"
    }
   ],
   "source": [
    "t = np.linspace(-3, 3, 101)\n",
    "plt.figure(figsize=(10,5))\n",
    "plt.subplot(1,2,1)\n",
    "plt.plot(t, ffunc(t), 'b-', label=r'$f$')\n",
    "plt.plot(t, fifunc(t), 'b--', label=r'$\\int f dx$')\n",
    "plt.legend()\n",
    "plt.subplot(1,2,2)\n",
    "plt.plot(t, gfunc(t), 'r-', label=r'$g$')\n",
    "plt.plot(t, gifunc(t), 'r--', label=r'$\\int g dx$')\n",
    "plt.legend()"
   ]
  },
  {
   "cell_type": "markdown",
   "metadata": {},
   "source": [
    "Exercises\n",
    "\n",
    "1. What is $\\int_{-\\infty}^{\\infty} \\exp(-x^2) dx$?\n",
    "2. What is $\\int_{0}^{\\infty} \\exp(-x) dx$?"
   ]
  },
  {
   "cell_type": "markdown",
   "metadata": {},
   "source": [
    "## Solving equations\n",
    "\n",
    "Example\n",
    "\n",
    "Find the solution of $$x^4 = x$$\n",
    "\n",
    "Or equivalently, the solution of $f(x)=0$ where $f(x) = x^4 - x$."
   ]
  },
  {
   "cell_type": "markdown",
   "metadata": {},
   "source": [
    "Graphically, this is the intersecton of two curves $y=x$ and $y=x^4$:"
   ]
  },
  {
   "cell_type": "code",
   "execution_count": 77,
   "metadata": {},
   "outputs": [
    {
     "data": {
      "text/plain": [
       "<matplotlib.legend.Legend at 0x7f5ea09ec8d0>"
      ]
     },
     "execution_count": 77,
     "metadata": {},
     "output_type": "execute_result"
    },
    {
     "data": {
      "image/png": "[encoded data removed]",
      "text/plain": [
       "<Figure size 432x288 with 1 Axes>"
      ]
     },
     "metadata": {
      "needs_background": "light"
     },
     "output_type": "display_data"
    }
   ],
   "source": [
    "t = np.linspace(-1, 1.5, 101)\n",
    "plt.plot(t, t, 'r-', label=r'$x$')\n",
    "plt.plot(t, t**4, 'b-', label=r'$x^4$')\n",
    "plt.legend(fontsize=16, frameon=False)"
   ]
  },
  {
   "cell_type": "code",
   "execution_count": 78,
   "metadata": {},
   "outputs": [
    {
     "data": {
      "image/png": "[encoded data removed]",
      "text/latex": [
       "$\\displaystyle \\left\\{0, 1, - \\frac{1}{2} - \\frac{\\sqrt{3} i}{2}, - \\frac{1}{2} + \\frac{\\sqrt{3} i}{2}\\right\\}$"
      ],
      "text/plain": [
       "               ___            ___   \n",
       "         1   \\/ 3 *I    1   \\/ 3 *I \n",
       "{0, 1, - - - -------, - - + -------}\n",
       "         2      2       2      2    "
      ]
     },
     "execution_count": 78,
     "metadata": {},
     "output_type": "execute_result"
    }
   ],
   "source": [
    "x = sym.Symbol('x')\n",
    "f = x**4 - x\n",
    "sym.solveset(f, x)"
   ]
  },
  {
   "cell_type": "code",
   "execution_count": 79,
   "metadata": {},
   "outputs": [
    {
     "data": {
      "image/png": "[encoded data removed]",
      "text/latex": [
       "$\\displaystyle \\left\\{0, 1\\right\\}$"
      ],
      "text/plain": [
       "{0, 1}"
      ]
     },
     "execution_count": 79,
     "metadata": {},
     "output_type": "execute_result"
    }
   ],
   "source": [
    "# If we are only interested in the real domain\n",
    "\n",
    "xsol = sym.solveset(f, x, domain=sym.Reals)\n",
    "xsol"
   ]
  },
  {
   "cell_type": "code",
   "execution_count": 80,
   "metadata": {},
   "outputs": [],
   "source": [
    "xlist = np.array([x.evalf() for x in xsol])"
   ]
  },
  {
   "cell_type": "code",
   "execution_count": 81,
   "metadata": {},
   "outputs": [
    {
     "data": {
      "text/plain": [
       "<matplotlib.legend.Legend at 0x7f5ea0bbe110>"
      ]
     },
     "execution_count": 81,
     "metadata": {},
     "output_type": "execute_result"
    },
    {
     "data": {
      "image/png": "[encoded data removed]",
      "text/plain": [
       "<Figure size 432x288 with 1 Axes>"
      ]
     },
     "metadata": {
      "needs_background": "light"
     },
     "output_type": "display_data"
    }
   ],
   "source": [
    "plt.plot(t, t, 'r-', label=r'$x$')\n",
    "plt.plot(t, t**4, 'b-', label=r'$x^4$')\n",
    "plt.plot(xlist, xlist, 'ko', label='intersection')\n",
    "plt.legend(fontsize=16, frameon=False)"
   ]
  },
  {
   "cell_type": "markdown",
   "metadata": {},
   "source": [
    "## Solving systems of equations"
   ]
  },
  {
   "cell_type": "markdown",
   "metadata": {},
   "source": [
    "Consider\n",
    "\n",
    "$$ x + 5y = 2 $$\n",
    "$$ -3x + 6y = 16$$"
   ]
  },
  {
   "cell_type": "code",
   "execution_count": 82,
   "metadata": {},
   "outputs": [],
   "source": [
    "x = sym.Symbol('x')\n",
    "y = sym.Symbol('y')\n",
    "sol = sym.solve((x + 5*y - 2, -3*x + 6*y -16), (x,y))"
   ]
  },
  {
   "cell_type": "code",
   "execution_count": 83,
   "metadata": {},
   "outputs": [
    {
     "data": {
      "image/png": "[encoded data removed]",
      "text/latex": [
       "$\\displaystyle \\left\\{ x : - \\frac{68}{21}, \\  y : \\frac{22}{21}\\right\\}$"
      ],
      "text/plain": [
       "    -68      22 \n",
       "{x: ----, y: --}\n",
       "     21      21 "
      ]
     },
     "execution_count": 83,
     "metadata": {},
     "output_type": "execute_result"
    }
   ],
   "source": [
    "sol"
   ]
  },
  {
   "cell_type": "code",
   "execution_count": 84,
   "metadata": {},
   "outputs": [
    {
     "data": {
      "image/png": "[encoded data removed]",
      "text/latex": [
       "$\\displaystyle - \\frac{68}{21}$"
      ],
      "text/plain": [
       "-68 \n",
       "----\n",
       " 21 "
      ]
     },
     "execution_count": 84,
     "metadata": {},
     "output_type": "execute_result"
    }
   ],
   "source": [
    "sol[x]"
   ]
  },
  {
   "cell_type": "code",
   "execution_count": 85,
   "metadata": {},
   "outputs": [
    {
     "data": {
      "image/png": "[encoded data removed]",
      "text/latex": [
       "$\\displaystyle \\frac{22}{21}$"
      ],
      "text/plain": [
       "22\n",
       "--\n",
       "21"
      ]
     },
     "execution_count": 85,
     "metadata": {},
     "output_type": "execute_result"
    }
   ],
   "source": [
    "sol[y]"
   ]
  },
  {
   "cell_type": "code",
   "execution_count": 86,
   "metadata": {},
   "outputs": [
    {
     "data": {
      "text/plain": [
       "sympy.core.numbers.Rational"
      ]
     },
     "execution_count": 86,
     "metadata": {},
     "output_type": "execute_result"
    }
   ],
   "source": [
    "type(sol[x])"
   ]
  },
  {
   "cell_type": "code",
   "execution_count": 87,
   "metadata": {},
   "outputs": [
    {
     "data": {
      "image/png": "[encoded data removed]",
      "text/latex": [
       "$\\displaystyle -3.23809523809524$"
      ],
      "text/plain": [
       "-3.23809523809524"
      ]
     },
     "execution_count": 87,
     "metadata": {},
     "output_type": "execute_result"
    }
   ],
   "source": [
    "sol[x].evalf()"
   ]
  },
  {
   "cell_type": "code",
   "execution_count": 88,
   "metadata": {},
   "outputs": [
    {
     "data": {
      "text/plain": [
       "array([-3.23809524,  1.04761905])"
      ]
     },
     "execution_count": 88,
     "metadata": {},
     "output_type": "execute_result"
    }
   ],
   "source": [
    "solf = np.array([sol[t].evalf() for t in sol], dtype='float')\n",
    "solf"
   ]
  },
  {
   "cell_type": "markdown",
   "metadata": {},
   "source": [
    "Graphically, this can be intepreted as:"
   ]
  },
  {
   "cell_type": "code",
   "execution_count": 89,
   "metadata": {},
   "outputs": [
    {
     "data": {
      "text/plain": [
       "<matplotlib.legend.Legend at 0x7f5ea0890850>"
      ]
     },
     "execution_count": 89,
     "metadata": {},
     "output_type": "execute_result"
    },
    {
     "data": {
      "image/png": "[encoded data removed]",
      "text/plain": [
       "<Figure size 432x288 with 1 Axes>"
      ]
     },
     "metadata": {
      "needs_background": "light"
     },
     "output_type": "display_data"
    }
   ],
   "source": [
    "t = np.linspace(-5, 0, 101)\n",
    "plt.plot(t, (2-t)/5, 'r-', label='eqn 1')\n",
    "plt.plot(t, (3*t+16)/6, 'b-', label='eqn 2')\n",
    "plt.plot([solf[0]], [solf[1]], 'ko', label='sol')\n",
    "plt.legend()"
   ]
  },
  {
   "cell_type": "markdown",
   "metadata": {},
   "source": [
    "#### Exercise:\n",
    "\n",
    "Solve the system of equations:\n",
    "\n",
    "$$ x + y = 2$$\n",
    "$$ 2x + y = 0$$"
   ]
  },
  {
   "cell_type": "markdown",
   "metadata": {},
   "source": [
    "## Linear algebra (symbolic)"
   ]
  },
  {
   "cell_type": "code",
   "execution_count": 90,
   "metadata": {},
   "outputs": [
    {
     "data": {
      "image/png": "[encoded data removed]",
      "text/latex": [
       "$\\displaystyle \\left[\\begin{matrix}1 & 0\\\\0 & 1\\end{matrix}\\right]$"
      ],
      "text/plain": [
       "[1  0]\n",
       "[    ]\n",
       "[0  1]"
      ]
     },
     "execution_count": 90,
     "metadata": {},
     "output_type": "execute_result"
    }
   ],
   "source": [
    "A = sym.Matrix([[1,0], [0,1]])\n",
    "A"
   ]
  },
  {
   "cell_type": "code",
   "execution_count": 91,
   "metadata": {},
   "outputs": [
    {
     "data": {
      "image/png": "[encoded data removed]",
      "text/latex": [
       "$\\displaystyle \\left[\\begin{matrix}2 & 0\\\\0 & 2\\end{matrix}\\right]$"
      ],
      "text/plain": [
       "[2  0]\n",
       "[    ]\n",
       "[0  2]"
      ]
     },
     "execution_count": 91,
     "metadata": {},
     "output_type": "execute_result"
    }
   ],
   "source": [
    "A * 2"
   ]
  },
  {
   "cell_type": "code",
   "execution_count": 92,
   "metadata": {},
   "outputs": [
    {
     "data": {
      "image/png": "[encoded data removed]",
      "text/latex": [
       "$\\displaystyle \\left[\\begin{matrix}1 & x\\\\y & 1\\end{matrix}\\right]$"
      ],
      "text/plain": [
       "[1  x]\n",
       "[    ]\n",
       "[y  1]"
      ]
     },
     "execution_count": 92,
     "metadata": {},
     "output_type": "execute_result"
    }
   ],
   "source": [
    "x = sym.Symbol('x')\n",
    "y = sym.Symbol('y')\n",
    "A = sym.Matrix([[1, x], [y, 1]])\n",
    "A"
   ]
  },
  {
   "cell_type": "code",
   "execution_count": 93,
   "metadata": {},
   "outputs": [
    {
     "data": {
      "image/png": "[encoded data removed]",
      "text/latex": [
       "$\\displaystyle \\left[\\begin{matrix}x y + 1 & 2 x\\\\2 y & x y + 1\\end{matrix}\\right]$"
      ],
      "text/plain": [
       "[x*y + 1    2*x  ]\n",
       "[                ]\n",
       "[  2*y    x*y + 1]"
      ]
     },
     "execution_count": 93,
     "metadata": {},
     "output_type": "execute_result"
    }
   ],
   "source": [
    "Asq = A**2\n",
    "Asq"
   ]
  },
  {
   "cell_type": "code",
   "execution_count": 94,
   "metadata": {},
   "outputs": [
    {
     "data": {
      "image/png": "[encoded data removed]",
      "text/latex": [
       "$\\displaystyle \\left[\\begin{matrix}3.0 & 4.0\\\\2.0 & 3.0\\end{matrix}\\right]$"
      ],
      "text/plain": [
       "[3.0  4.0]\n",
       "[        ]\n",
       "[2.0  3.0]"
      ]
     },
     "execution_count": 94,
     "metadata": {},
     "output_type": "execute_result"
    }
   ],
   "source": [
    "Asq.evalf(subs={'x': 2, 'y':1})"
   ]
  },
  {
   "cell_type": "code",
   "execution_count": 95,
   "metadata": {},
   "outputs": [
    {
     "data": {
      "image/png": "[encoded data removed]",
      "text/latex": [
       "$\\displaystyle \\left[\\begin{matrix}x & 1\\\\1 & y\\end{matrix}\\right]$"
      ],
      "text/plain": [
       "[x  1]\n",
       "[    ]\n",
       "[1  y]"
      ]
     },
     "execution_count": 95,
     "metadata": {},
     "output_type": "execute_result"
    }
   ],
   "source": [
    "B = sym.Matrix([[x, 1], [1, y]])\n",
    "B"
   ]
  },
  {
   "cell_type": "code",
   "execution_count": 96,
   "metadata": {},
   "outputs": [
    {
     "data": {
      "image/png": "[encoded data removed]",
      "text/latex": [
       "$\\displaystyle \\left[\\begin{matrix}2 x & x y + 1\\\\x y + 1 & 2 y\\end{matrix}\\right]$"
      ],
      "text/plain": [
       "[  2*x    x*y + 1]\n",
       "[                ]\n",
       "[x*y + 1    2*y  ]"
      ]
     },
     "execution_count": 96,
     "metadata": {},
     "output_type": "execute_result"
    }
   ],
   "source": [
    "A * B"
   ]
  },
  {
   "cell_type": "code",
   "execution_count": 97,
   "metadata": {},
   "outputs": [
    {
     "data": {
      "image/png": "[encoded data removed]",
      "text/latex": [
       "$\\displaystyle \\left[\\begin{matrix}\\frac{1}{- x y + 1} & - \\frac{x}{- x y + 1}\\\\- \\frac{y}{- x y + 1} & \\frac{1}{- x y + 1}\\end{matrix}\\right]$"
      ],
      "text/plain": [
       "[   1        -x    ]\n",
       "[--------  --------]\n",
       "[-x*y + 1  -x*y + 1]\n",
       "[                  ]\n",
       "[  -y         1    ]\n",
       "[--------  --------]\n",
       "[-x*y + 1  -x*y + 1]"
      ]
     },
     "execution_count": 97,
     "metadata": {},
     "output_type": "execute_result"
    }
   ],
   "source": [
    "A.inv()"
   ]
  },
  {
   "cell_type": "code",
   "execution_count": 98,
   "metadata": {},
   "outputs": [
    {
     "data": {
      "image/png": "[encoded data removed]",
      "text/latex": [
       "$\\displaystyle \\left[\\begin{matrix}- \\frac{x y}{- x y + 1} + \\frac{1}{- x y + 1} & 0\\\\0 & - \\frac{x y}{- x y + 1} + \\frac{1}{- x y + 1}\\end{matrix}\\right]$"
      ],
      "text/plain": [
       "[    x*y         1                           ]\n",
       "[- -------- + --------            0          ]\n",
       "[  -x*y + 1   -x*y + 1                       ]\n",
       "[                                            ]\n",
       "[                           x*y         1    ]\n",
       "[          0            - -------- + --------]\n",
       "[                         -x*y + 1   -x*y + 1]"
      ]
     },
     "execution_count": 98,
     "metadata": {},
     "output_type": "execute_result"
    }
   ],
   "source": [
    "AA = A * A.inv()\n",
    "AA"
   ]
  },
  {
   "cell_type": "code",
   "execution_count": 99,
   "metadata": {},
   "outputs": [
    {
     "data": {
      "text/plain": [
       "matrix([[-x*y/(-x*y + 1) + 1/(-x*y + 1), 0],\n",
       "        [0, -x*y/(-x*y + 1) + 1/(-x*y + 1)]], dtype=object)"
      ]
     },
     "execution_count": 99,
     "metadata": {},
     "output_type": "execute_result"
    }
   ],
   "source": [
    "np.matrix(AA)"
   ]
  },
  {
   "cell_type": "markdown",
   "metadata": {},
   "source": [
    "## Differential equations\n",
    "\n",
    "Consider the differential equations:\n",
    "\n",
    "$$ \\frac{dy}{dt} = - \\lambda y$$\n",
    "\n",
    "subject to the initial condition $y(0)=3$ and $\\lambda=1.78$."
   ]
  },
  {
   "cell_type": "markdown",
   "metadata": {},
   "source": [
    "### Solve symbolically"
   ]
  },
  {
   "cell_type": "code",
   "execution_count": 100,
   "metadata": {},
   "outputs": [
    {
     "data": {
      "image/png": "[encoded data removed]",
      "text/latex": [
       "$\\displaystyle \\frac{d}{d t} y{\\left(t \\right)} = - \\lambda y{\\left(t \\right)}$"
      ],
      "text/plain": [
       "d                      \n",
       "--(y(t)) = -lambda*y(t)\n",
       "dt                     "
      ]
     },
     "execution_count": 100,
     "metadata": {},
     "output_type": "execute_result"
    }
   ],
   "source": [
    "# set up the equation\n",
    "\n",
    "t, l = sym.symbols('t lambda')\n",
    "y = sym.Function('y')(t)\n",
    "dydt = y.diff(t)\n",
    "eqn = sym.Eq(dydt, -l*y)\n",
    "eqn"
   ]
  },
  {
   "cell_type": "code",
   "execution_count": 101,
   "metadata": {
    "jupyter": {
     "source_hidden": true
    }
   },
   "outputs": [
    {
     "data": {
      "image/png": "[encoded data removed]",
      "text/latex": [
       "$\\displaystyle y{\\left(t \\right)} = C_{1} e^{- \\lambda t}$"
      ],
      "text/plain": [
       "           -lambda*t\n",
       "y(t) = C1*e         "
      ]
     },
     "execution_count": 101,
     "metadata": {},
     "output_type": "execute_result"
    }
   ],
   "source": [
    "sym.dsolve(eqn)"
   ]
  },
  {
   "cell_type": "markdown",
   "metadata": {},
   "source": [
    "The initial condition $y(0)=3$ gives: $C_1 = 3$. So the analytical solution is $y(t)=3\\exp(-\\lambda t)$."
   ]
  },
  {
   "cell_type": "markdown",
   "metadata": {},
   "source": [
    "### Solve numerically\n"
   ]
  },
  {
   "cell_type": "code",
   "execution_count": 102,
   "metadata": {},
   "outputs": [],
   "source": [
    "from scipy import integrate\n",
    "\n",
    "def rhs(y, t, const):\n",
    "    return -const * y\n",
    "\n",
    "y0 = 3\n",
    "params = (1.78,)\n",
    "t = np.linspace(0, 3, 21)\n",
    "sol = integrate.odeint(rhs, y0, t, args=params)[:,0]\n",
    "\n",
    "# the analytic solution\n",
    "def analytical(t, const):\n",
    "    return 3*np.exp(-const * t);\n",
    "\n",
    "ya = analytical(t, params[0])"
   ]
  },
  {
   "cell_type": "code",
   "execution_count": 103,
   "metadata": {},
   "outputs": [
    {
     "data": {
      "text/plain": [
       "[<matplotlib.lines.Line2D at 0x7f5e9ff90c50>]"
      ]
     },
     "execution_count": 103,
     "metadata": {},
     "output_type": "execute_result"
    },
    {
     "data": {
      "image/png": "[encoded data removed]",
      "text/plain": [
       "<Figure size 720x360 with 2 Axes>"
      ]
     },
     "metadata": {
      "needs_background": "light"
     },
     "output_type": "display_data"
    }
   ],
   "source": [
    "plt.figure(figsize=(10,5))\n",
    "plt.subplot(1,2,1)\n",
    "plt.title('solution')\n",
    "plt.plot(t, sol, 'ko', markersize=5, label='numerical solution')\n",
    "plt.plot(t, analytical(t, params[0]), 'r-', label='analytical solution')\n",
    "plt.legend(frameon=False)\n",
    "\n",
    "plt.subplot(1,2,2)\n",
    "plt.title('error')\n",
    "plt.plot(t, sol-ya, 'ko-') # note the range"
   ]
  },
  {
   "cell_type": "markdown",
   "metadata": {},
   "source": [
    "#### Exammple\n",
    "\n",
    "Consider the Van der Pol oscillator, which is the base of some models in biology and  seismology:\n",
    "\n",
    "$$ y'' - \\mu (1-y^2) y' + y = 0 $$\n",
    "\n",
    "This second order differential equation can be transformed into a system of first order equations:\n",
    "\n",
    "$$ y_0' = y_1 $$\n",
    "$$ y_1' = \\mu (1-y_0^2)y_1 - y_0 $$"
   ]
  },
  {
   "cell_type": "markdown",
   "metadata": {},
   "source": [
    "#### Solve symbolically"
   ]
  },
  {
   "cell_type": "code",
   "execution_count": 104,
   "metadata": {},
   "outputs": [],
   "source": [
    "y = y0, y1 = sym.symbols('y0 y1')"
   ]
  },
  {
   "cell_type": "code",
   "execution_count": 105,
   "metadata": {},
   "outputs": [
    {
     "data": {
      "image/png": "[encoded data removed]",
      "text/latex": [
       "$\\displaystyle \\left( y_{0}, \\  y_{1}\\right)$"
      ],
      "text/plain": [
       "(y0, y1)"
      ]
     },
     "execution_count": 105,
     "metadata": {},
     "output_type": "execute_result"
    }
   ],
   "source": [
    "y"
   ]
  },
  {
   "cell_type": "code",
   "execution_count": 106,
   "metadata": {},
   "outputs": [
    {
     "data": {
      "image/png": "[encoded data removed]",
      "text/latex": [
       "$\\displaystyle \\mu$"
      ],
      "text/plain": [
       "mu"
      ]
     },
     "execution_count": 106,
     "metadata": {},
     "output_type": "execute_result"
    }
   ],
   "source": [
    "mu = sym.symbols('mu')\n",
    "mu"
   ]
  },
  {
   "cell_type": "code",
   "execution_count": 107,
   "metadata": {},
   "outputs": [],
   "source": [
    "def rhs(y, t, mu):\n",
    "    return [\n",
    "        y[1],\n",
    "        mu*(1-y[0]**2)*y[1] - y[0]\n",
    "    ]"
   ]
  },
  {
   "cell_type": "code",
   "execution_count": 108,
   "metadata": {},
   "outputs": [
    {
     "data": {
      "image/png": "[encoded data removed]",
      "text/latex": [
       "$\\displaystyle \\left[\\begin{matrix}y_{1}\\\\\\mu y_{1} \\left(1 - y_{0}^{2}\\right) - y_{0}\\end{matrix}\\right]$"
      ],
      "text/plain": [
       "[         y1         ]\n",
       "[                    ]\n",
       "[      /      2\\     ]\n",
       "[mu*y1*\\1 - y0 / - y0]"
      ]
     },
     "execution_count": 108,
     "metadata": {},
     "output_type": "execute_result"
    }
   ],
   "source": [
    "R = sym.Matrix(rhs(y, None, mu))\n",
    "R"
   ]
  },
  {
   "cell_type": "markdown",
   "metadata": {},
   "source": [
    "In `integrate.odeint()`, there is a option `Dfun` that define the Jacobian of the right-hand-side of the ODE:\n",
    "\n",
    "```\n",
    "Dfun : callable(y, t, ...) or callable(t, y, ...)\n",
    "    Gradient (Jacobian) of `func`.\n",
    "    If the signature is ``callable(t, y, ...)``, then the argument\n",
    "    `tfirst` must be set ``True``.\n",
    "```"
   ]
  },
  {
   "cell_type": "markdown",
   "metadata": {},
   "source": [
    "Jacobian is the matrix:\n",
    "$$\n",
    "J = \n",
    "\\begin{bmatrix}\n",
    "\\frac{\\partial R_o}{\\partial y_0} & \\frac{\\partial R_o}{\\partial y_1} \\\\\n",
    "\\frac{\\partial R_1}{\\partial y_0} & \\frac{\\partial R_1}{\\partial y_1}\n",
    "\\end\n",
    "{bmatrix}$$"
   ]
  },
  {
   "cell_type": "code",
   "execution_count": 109,
   "metadata": {},
   "outputs": [
    {
     "data": {
      "image/png": "[encoded data removed]",
      "text/latex": [
       "$\\displaystyle \\left[\\begin{matrix}0 & 1\\\\- 2 \\mu y_{0} y_{1} - 1 & \\mu \\left(1 - y_{0}^{2}\\right)\\end{matrix}\\right]$"
      ],
      "text/plain": [
       "[       0              1      ]\n",
       "[                             ]\n",
       "[                    /      2\\]\n",
       "[-2*mu*y0*y1 - 1  mu*\\1 - y0 /]"
      ]
     },
     "execution_count": 109,
     "metadata": {},
     "output_type": "execute_result"
    }
   ],
   "source": [
    "J = R.jacobian(y)\n",
    "J"
   ]
  },
  {
   "cell_type": "code",
   "execution_count": 110,
   "metadata": {},
   "outputs": [],
   "source": [
    "def J_func(y, t, mu):\n",
    "    return np.array([\n",
    "        [0, 1],\n",
    "        [-1-2*mu*y[0]*y[1], mu*(1-y[0]**2)] \n",
    "    ])"
   ]
  },
  {
   "cell_type": "code",
   "execution_count": 111,
   "metadata": {},
   "outputs": [],
   "source": [
    "# parameters\n",
    "y_init, params = [1, 0], (17,)\n",
    "t = np.linspace(0, 200, 1024)"
   ]
  },
  {
   "cell_type": "code",
   "execution_count": 112,
   "metadata": {},
   "outputs": [],
   "source": [
    "# depends on odeint's default (finite difference approximatation of Jacobians)\n",
    "sol_F, info_F = integrate.odeint(rhs, y_init, t, params, full_output=True)"
   ]
  },
  {
   "cell_type": "code",
   "execution_count": 113,
   "metadata": {},
   "outputs": [],
   "source": [
    "# Use analytic Jacobians\n",
    "sol_J, info_J = integrate.odeint(rhs, y_init, t, params, Dfun=J_func, full_output=True)"
   ]
  },
  {
   "cell_type": "code",
   "execution_count": 114,
   "metadata": {},
   "outputs": [
    {
     "data": {
      "text/plain": [
       "(9113, 206)"
      ]
     },
     "execution_count": 114,
     "metadata": {},
     "output_type": "execute_result"
    }
   ],
   "source": [
    "info_F['nfe'][-1], info_F['nje'][-1]"
   ]
  },
  {
   "cell_type": "code",
   "execution_count": 115,
   "metadata": {},
   "outputs": [
    {
     "data": {
      "text/plain": [
       "(8693, 218)"
      ]
     },
     "execution_count": 115,
     "metadata": {},
     "output_type": "execute_result"
    }
   ],
   "source": [
    "info_J['nfe'][-1], info_J['nje'][-1]"
   ]
  },
  {
   "cell_type": "code",
   "execution_count": 116,
   "metadata": {},
   "outputs": [
    {
     "data": {
      "text/plain": [
       "\u001b[0;31mSignature:\u001b[0m\n",
       "\u001b[0mintegrate\u001b[0m\u001b[0;34m.\u001b[0m\u001b[0modeint\u001b[0m\u001b[0;34m(\u001b[0m\u001b[0;34m\u001b[0m\n",
       "\u001b[0;34m\u001b[0m    \u001b[0mfunc\u001b[0m\u001b[0;34m,\u001b[0m\u001b[0;34m\u001b[0m\n",
       "\u001b[0;34m\u001b[0m    \u001b[0my0\u001b[0m\u001b[0;34m,\u001b[0m\u001b[0;34m\u001b[0m\n",
       "\u001b[0;34m\u001b[0m    \u001b[0mt\u001b[0m\u001b[0;34m,\u001b[0m\u001b[0;34m\u001b[0m\n",
       "\u001b[0;34m\u001b[0m    \u001b[0margs\u001b[0m\u001b[0;34m=\u001b[0m\u001b[0;34m(\u001b[0m\u001b[0;34m)\u001b[0m\u001b[0;34m,\u001b[0m\u001b[0;34m\u001b[0m\n",
       "\u001b[0;34m\u001b[0m    \u001b[0mDfun\u001b[0m\u001b[0;34m=\u001b[0m\u001b[0;32mNone\u001b[0m\u001b[0;34m,\u001b[0m\u001b[0;34m\u001b[0m\n",
       "\u001b[0;34m\u001b[0m    \u001b[0mcol_deriv\u001b[0m\u001b[0;34m=\u001b[0m\u001b[0;36m0\u001b[0m\u001b[0;34m,\u001b[0m\u001b[0;34m\u001b[0m\n",
       "\u001b[0;34m\u001b[0m    \u001b[0mfull_output\u001b[0m\u001b[0;34m=\u001b[0m\u001b[0;36m0\u001b[0m\u001b[0;34m,\u001b[0m\u001b[0;34m\u001b[0m\n",
       "\u001b[0;34m\u001b[0m    \u001b[0mml\u001b[0m\u001b[0;34m=\u001b[0m\u001b[0;32mNone\u001b[0m\u001b[0;34m,\u001b[0m\u001b[0;34m\u001b[0m\n",
       "\u001b[0;34m\u001b[0m    \u001b[0mmu\u001b[0m\u001b[0;34m=\u001b[0m\u001b[0;32mNone\u001b[0m\u001b[0;34m,\u001b[0m\u001b[0;34m\u001b[0m\n",
       "\u001b[0;34m\u001b[0m    \u001b[0mrtol\u001b[0m\u001b[0;34m=\u001b[0m\u001b[0;32mNone\u001b[0m\u001b[0;34m,\u001b[0m\u001b[0;34m\u001b[0m\n",
       "\u001b[0;34m\u001b[0m    \u001b[0matol\u001b[0m\u001b[0;34m=\u001b[0m\u001b[0;32mNone\u001b[0m\u001b[0;34m,\u001b[0m\u001b[0;34m\u001b[0m\n",
       "\u001b[0;34m\u001b[0m    \u001b[0mtcrit\u001b[0m\u001b[0;34m=\u001b[0m\u001b[0;32mNone\u001b[0m\u001b[0;34m,\u001b[0m\u001b[0;34m\u001b[0m\n",
       "\u001b[0;34m\u001b[0m    \u001b[0mh0\u001b[0m\u001b[0;34m=\u001b[0m\u001b[0;36m0.0\u001b[0m\u001b[0;34m,\u001b[0m\u001b[0;34m\u001b[0m\n",
       "\u001b[0;34m\u001b[0m    \u001b[0mhmax\u001b[0m\u001b[0;34m=\u001b[0m\u001b[0;36m0.0\u001b[0m\u001b[0;34m,\u001b[0m\u001b[0;34m\u001b[0m\n",
       "\u001b[0;34m\u001b[0m    \u001b[0mhmin\u001b[0m\u001b[0;34m=\u001b[0m\u001b[0;36m0.0\u001b[0m\u001b[0;34m,\u001b[0m\u001b[0;34m\u001b[0m\n",
       "\u001b[0;34m\u001b[0m    \u001b[0mixpr\u001b[0m\u001b[0;34m=\u001b[0m\u001b[0;36m0\u001b[0m\u001b[0;34m,\u001b[0m\u001b[0;34m\u001b[0m\n",
       "\u001b[0;34m\u001b[0m    \u001b[0mmxstep\u001b[0m\u001b[0;34m=\u001b[0m\u001b[0;36m0\u001b[0m\u001b[0;34m,\u001b[0m\u001b[0;34m\u001b[0m\n",
       "\u001b[0;34m\u001b[0m    \u001b[0mmxhnil\u001b[0m\u001b[0;34m=\u001b[0m\u001b[0;36m0\u001b[0m\u001b[0;34m,\u001b[0m\u001b[0;34m\u001b[0m\n",
       "\u001b[0;34m\u001b[0m    \u001b[0mmxordn\u001b[0m\u001b[0;34m=\u001b[0m\u001b[0;36m12\u001b[0m\u001b[0;34m,\u001b[0m\u001b[0;34m\u001b[0m\n",
       "\u001b[0;34m\u001b[0m    \u001b[0mmxords\u001b[0m\u001b[0;34m=\u001b[0m\u001b[0;36m5\u001b[0m\u001b[0;34m,\u001b[0m\u001b[0;34m\u001b[0m\n",
       "\u001b[0;34m\u001b[0m    \u001b[0mprintmessg\u001b[0m\u001b[0;34m=\u001b[0m\u001b[0;36m0\u001b[0m\u001b[0;34m,\u001b[0m\u001b[0;34m\u001b[0m\n",
       "\u001b[0;34m\u001b[0m    \u001b[0mtfirst\u001b[0m\u001b[0;34m=\u001b[0m\u001b[0;32mFalse\u001b[0m\u001b[0;34m,\u001b[0m\u001b[0;34m\u001b[0m\n",
       "\u001b[0;34m\u001b[0m\u001b[0;34m)\u001b[0m\u001b[0;34m\u001b[0m\u001b[0;34m\u001b[0m\u001b[0m\n",
       "\u001b[0;31mDocstring:\u001b[0m\n",
       "Integrate a system of ordinary differential equations.\n",
       "\n",
       ".. note:: For new code, use `scipy.integrate.solve_ivp` to solve a\n",
       "          differential equation.\n",
       "\n",
       "Solve a system of ordinary differential equations using lsoda from the\n",
       "FORTRAN library odepack.\n",
       "\n",
       "Solves the initial value problem for stiff or non-stiff systems\n",
       "of first order ode-s::\n",
       "\n",
       "    dy/dt = func(y, t, ...)  [or func(t, y, ...)]\n",
       "\n",
       "where y can be a vector.\n",
       "\n",
       ".. note:: By default, the required order of the first two arguments of\n",
       "          `func` are in the opposite order of the arguments in the system\n",
       "          definition function used by the `scipy.integrate.ode` class and\n",
       "          the function `scipy.integrate.solve_ivp`.  To use a function with\n",
       "          the signature ``func(t, y, ...)``, the argument `tfirst` must be\n",
       "          set to ``True``.\n",
       "\n",
       "Parameters\n",
       "----------\n",
       "func : callable(y, t, ...) or callable(t, y, ...)\n",
       "    Computes the derivative of y at t.\n",
       "    If the signature is ``callable(t, y, ...)``, then the argument\n",
       "    `tfirst` must be set ``True``.\n",
       "y0 : array\n",
       "    Initial condition on y (can be a vector).\n",
       "t : array\n",
       "    A sequence of time points for which to solve for y.  The initial\n",
       "    value point should be the first element of this sequence.\n",
       "    This sequence must be monotonically increasing or monotonically\n",
       "    decreasing; repeated values are allowed.\n",
       "args : tuple, optional\n",
       "    Extra arguments to pass to function.\n",
       "Dfun : callable(y, t, ...) or callable(t, y, ...)\n",
       "    Gradient (Jacobian) of `func`.\n",
       "    If the signature is ``callable(t, y, ...)``, then the argument\n",
       "    `tfirst` must be set ``True``.\n",
       "col_deriv : bool, optional\n",
       "    True if `Dfun` defines derivatives down columns (faster),\n",
       "    otherwise `Dfun` should define derivatives across rows.\n",
       "full_output : bool, optional\n",
       "    True if to return a dictionary of optional outputs as the second output\n",
       "printmessg : bool, optional\n",
       "    Whether to print the convergence message\n",
       "tfirst: bool, optional\n",
       "    If True, the first two arguments of `func` (and `Dfun`, if given)\n",
       "    must ``t, y`` instead of the default ``y, t``.\n",
       "\n",
       "    .. versionadded:: 1.1.0\n",
       "\n",
       "Returns\n",
       "-------\n",
       "y : array, shape (len(t), len(y0))\n",
       "    Array containing the value of y for each desired time in t,\n",
       "    with the initial value `y0` in the first row.\n",
       "infodict : dict, only returned if full_output == True\n",
       "    Dictionary containing additional output information\n",
       "\n",
       "    =======  ============================================================\n",
       "    key      meaning\n",
       "    =======  ============================================================\n",
       "    'hu'     vector of step sizes successfully used for each time step.\n",
       "    'tcur'   vector with the value of t reached for each time step.\n",
       "             (will always be at least as large as the input times).\n",
       "    'tolsf'  vector of tolerance scale factors, greater than 1.0,\n",
       "             computed when a request for too much accuracy was detected.\n",
       "    'tsw'    value of t at the time of the last method switch\n",
       "             (given for each time step)\n",
       "    'nst'    cumulative number of time steps\n",
       "    'nfe'    cumulative number of function evaluations for each time step\n",
       "    'nje'    cumulative number of jacobian evaluations for each time step\n",
       "    'nqu'    a vector of method orders for each successful step.\n",
       "    'imxer'  index of the component of largest magnitude in the\n",
       "             weighted local error vector (e / ewt) on an error return, -1\n",
       "             otherwise.\n",
       "    'lenrw'  the length of the double work array required.\n",
       "    'leniw'  the length of integer work array required.\n",
       "    'mused'  a vector of method indicators for each successful time step:\n",
       "             1: adams (nonstiff), 2: bdf (stiff)\n",
       "    =======  ============================================================\n",
       "\n",
       "Other Parameters\n",
       "----------------\n",
       "ml, mu : int, optional\n",
       "    If either of these are not None or non-negative, then the\n",
       "    Jacobian is assumed to be banded.  These give the number of\n",
       "    lower and upper non-zero diagonals in this banded matrix.\n",
       "    For the banded case, `Dfun` should return a matrix whose\n",
       "    rows contain the non-zero bands (starting with the lowest diagonal).\n",
       "    Thus, the return matrix `jac` from `Dfun` should have shape\n",
       "    ``(ml + mu + 1, len(y0))`` when ``ml >=0`` or ``mu >=0``.\n",
       "    The data in `jac` must be stored such that ``jac[i - j + mu, j]``\n",
       "    holds the derivative of the `i`th equation with respect to the `j`th\n",
       "    state variable.  If `col_deriv` is True, the transpose of this\n",
       "    `jac` must be returned.\n",
       "rtol, atol : float, optional\n",
       "    The input parameters `rtol` and `atol` determine the error\n",
       "    control performed by the solver.  The solver will control the\n",
       "    vector, e, of estimated local errors in y, according to an\n",
       "    inequality of the form ``max-norm of (e / ewt) <= 1``,\n",
       "    where ewt is a vector of positive error weights computed as\n",
       "    ``ewt = rtol * abs(y) + atol``.\n",
       "    rtol and atol can be either vectors the same length as y or scalars.\n",
       "    Defaults to 1.49012e-8.\n",
       "tcrit : ndarray, optional\n",
       "    Vector of critical points (e.g. singularities) where integration\n",
       "    care should be taken.\n",
       "h0 : float, (0: solver-determined), optional\n",
       "    The step size to be attempted on the first step.\n",
       "hmax : float, (0: solver-determined), optional\n",
       "    The maximum absolute step size allowed.\n",
       "hmin : float, (0: solver-determined), optional\n",
       "    The minimum absolute step size allowed.\n",
       "ixpr : bool, optional\n",
       "    Whether to generate extra printing at method switches.\n",
       "mxstep : int, (0: solver-determined), optional\n",
       "    Maximum number of (internally defined) steps allowed for each\n",
       "    integration point in t.\n",
       "mxhnil : int, (0: solver-determined), optional\n",
       "    Maximum number of messages printed.\n",
       "mxordn : int, (0: solver-determined), optional\n",
       "    Maximum order to be allowed for the non-stiff (Adams) method.\n",
       "mxords : int, (0: solver-determined), optional\n",
       "    Maximum order to be allowed for the stiff (BDF) method.\n",
       "\n",
       "See Also\n",
       "--------\n",
       "solve_ivp : Solve an initial value problem for a system of ODEs.\n",
       "ode : a more object-oriented integrator based on VODE.\n",
       "quad : for finding the area under a curve.\n",
       "\n",
       "Examples\n",
       "--------\n",
       "The second order differential equation for the angle `theta` of a\n",
       "pendulum acted on by gravity with friction can be written::\n",
       "\n",
       "    theta''(t) + b*theta'(t) + c*sin(theta(t)) = 0\n",
       "\n",
       "where `b` and `c` are positive constants, and a prime (') denotes a\n",
       "derivative.  To solve this equation with `odeint`, we must first convert\n",
       "it to a system of first order equations.  By defining the angular\n",
       "velocity ``omega(t) = theta'(t)``, we obtain the system::\n",
       "\n",
       "    theta'(t) = omega(t)\n",
       "    omega'(t) = -b*omega(t) - c*sin(theta(t))\n",
       "\n",
       "Let `y` be the vector [`theta`, `omega`].  We implement this system\n",
       "in python as:\n",
       "\n",
       ">>> def pend(y, t, b, c):\n",
       "...     theta, omega = y\n",
       "...     dydt = [omega, -b*omega - c*np.sin(theta)]\n",
       "...     return dydt\n",
       "...\n",
       "\n",
       "We assume the constants are `b` = 0.25 and `c` = 5.0:\n",
       "\n",
       ">>> b = 0.25\n",
       ">>> c = 5.0\n",
       "\n",
       "For initial conditions, we assume the pendulum is nearly vertical\n",
       "with `theta(0)` = `pi` - 0.1, and is initially at rest, so\n",
       "`omega(0)` = 0.  Then the vector of initial conditions is\n",
       "\n",
       ">>> y0 = [np.pi - 0.1, 0.0]\n",
       "\n",
       "We will generate a solution at 101 evenly spaced samples in the interval\n",
       "0 <= `t` <= 10.  So our array of times is:\n",
       "\n",
       ">>> t = np.linspace(0, 10, 101)\n",
       "\n",
       "Call `odeint` to generate the solution.  To pass the parameters\n",
       "`b` and `c` to `pend`, we give them to `odeint` using the `args`\n",
       "argument.\n",
       "\n",
       ">>> from scipy.integrate import odeint\n",
       ">>> sol = odeint(pend, y0, t, args=(b, c))\n",
       "\n",
       "The solution is an array with shape (101, 2).  The first column\n",
       "is `theta(t)`, and the second is `omega(t)`.  The following code\n",
       "plots both components.\n",
       "\n",
       ">>> import matplotlib.pyplot as plt\n",
       ">>> plt.plot(t, sol[:, 0], 'b', label='theta(t)')\n",
       ">>> plt.plot(t, sol[:, 1], 'g', label='omega(t)')\n",
       ">>> plt.legend(loc='best')\n",
       ">>> plt.xlabel('t')\n",
       ">>> plt.grid()\n",
       ">>> plt.show()\n",
       "\u001b[0;31mFile:\u001b[0m      ~/sw/anaconda3/2020.02/lib/python3.7/site-packages/scipy/integrate/odepack.py\n",
       "\u001b[0;31mType:\u001b[0m      function\n"
      ]
     },
     "metadata": {},
     "output_type": "display_data"
    }
   ],
   "source": [
    "integrate.odeint?"
   ]
  },
  {
   "cell_type": "code",
   "execution_count": null,
   "metadata": {},
   "outputs": [],
   "source": []
  }
 ],
 "metadata": {
  "kernelspec": {
   "display_name": "Python 3",
   "language": "python",
   "name": "python3"
  },
  "language_info": {
   "codemirror_mode": {
    "name": "ipython",
    "version": 3
   },
   "file_extension": ".py",
   "mimetype": "text/x-python",
   "name": "python",
   "nbconvert_exporter": "python",
   "pygments_lexer": "ipython3",
   "version": "3.7.6"
  }
 },
 "nbformat": 4,
 "nbformat_minor": 4
}
