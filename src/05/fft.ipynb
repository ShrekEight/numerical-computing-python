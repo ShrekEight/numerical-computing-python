{
 "cells": [
  {
   "cell_type": "markdown",
   "metadata": {},
   "source": [
    "# Fast Fourier Transform\n",
    "\n",
    "Fourier Transform is an important method to convert data from time domain (time series) into the frequency domain, where the contributions from each frequency is represented by its amplitude. Fast Fourier Transform (FFT) is an algorithm to compute the discrete Fourier Transform efficiently.\n",
    "\n",
    "Consider the following signal:"
   ]
  },
  {
   "cell_type": "code",
   "execution_count": null,
   "metadata": {},
   "outputs": [],
   "source": [
    "%matplotlib inline\n",
    "import numpy as np\n",
    "import matplotlib.pyplot as plt\n",
    "from scipy import fftpack\n",
    "\n",
    "np.random.seed(1234)\n",
    "\n",
    "time_step = 0.02\n",
    "period = 5.\n",
    "\n",
    "t = np.arange(0, 20, time_step)\n",
    "X = (np.sin(2 * np.pi / period * t) + 0.5 * np.random.randn(t.size))\n",
    "\n",
    "plt.figure(figsize=(12, 5))\n",
    "plt.plot(t, X, 'g-', label='Original signal')\n",
    "plt.plot(t, np.sin(2 * np.pi / period * t), 'r-', label='\"main\" signal')\n",
    "plt.xlim([0, 20])\n",
    "plt.legend()"
   ]
  },
  {
   "cell_type": "markdown",
   "metadata": {},
   "source": [
    "This signal is composed of a \"main\" signal (shown in red) of period 5 plus some noise. Suppose we do not know about this main signal, but want to filter out the high-frequency noise from the signal."
   ]
  },
  {
   "cell_type": "code",
   "execution_count": null,
   "metadata": {},
   "outputs": [],
   "source": [
    "# The FFT of the signal\n",
    "sig_fft = fftpack.fft(X)\n",
    "\n",
    "# And the power (sig_fft is of complex dtype)\n",
    "power = np.abs(sig_fft)\n",
    "\n",
    "# The corresponding frequencies\n",
    "sample_freq = fftpack.fftfreq(sig.size, d=time_step)\n",
    "\n",
    "# Plot the FFT power\n",
    "plt.figure(figsize=(8, 5))\n",
    "plt.plot(sample_freq, power)\n",
    "plt.xlabel('Frequency [Hz]')\n",
    "plt.ylabel('plower')\n",
    "\n",
    "# Find the peak frequency: we can focus on only the positive frequencies\n",
    "pos_mask = np.where(sample_freq > 0)\n",
    "freqs = sample_freq[pos_mask]\n",
    "peak_freq = freqs[power[pos_mask].argmax()]\n",
    "\n",
    "# Check that it does indeed correspond to the frequency that we generate\n",
    "# the signal with\n",
    "np.allclose(peak_freq, 1./period)\n",
    "\n",
    "# An inner plot to show the peak frequency\n",
    "axes = plt.axes([0.55, 0.3, 0.3, 0.5])\n",
    "plt.title('Peak frequency')\n",
    "plt.plot(freqs[:8], power[:8], 'ko-')\n",
    "plt.setp(axes, yticks=[])\n",
    "\n",
    "# scipy.signal.find_peaks_cwt can also be used for more advanced\n",
    "# peak detection"
   ]
  },
  {
   "cell_type": "markdown",
   "metadata": {},
   "source": [
    "Now we can remove the high-frequency noise, by setting the magnitudes of other non-essential frequencies to zero in the frequency (FFT'd) domain."
   ]
  },
  {
   "cell_type": "code",
   "execution_count": null,
   "metadata": {},
   "outputs": [],
   "source": [
    "high_freq_fft = sig_fft.copy()\n",
    "\n",
    "print('peak frequency = ', peak_freq)\n",
    "\n",
    "# kill the high frequency components in the frequency domain (set them to zero)\n",
    "high_freq_fft[np.abs(sample_freq) > peak_freq] = 0\n",
    "\n",
    "# transform from frequency domain to time domain\n",
    "filtered_sig = fftpack.ifft(high_freq_fft).real\n",
    "\n",
    "plt.figure(figsize=(12, 5))\n",
    "plt.plot(t, sig, label='Original signal')\n",
    "plt.plot(t, filtered_sig, 'r-', linewidth=3, label='Filtered signal')\n",
    "plt.xlabel('Time [s]')\n",
    "plt.ylabel('Amplitude')\n",
    "\n",
    "plt.legend(loc='best')"
   ]
  },
  {
   "cell_type": "markdown",
   "metadata": {},
   "source": [
    "**Exercise**\n",
    "\n",
    "What if we chop off frequencies higher than `10*peak_freq` (instead of `1*peak_freq`)?"
   ]
  },
  {
   "cell_type": "code",
   "execution_count": null,
   "metadata": {},
   "outputs": [],
   "source": [
    "high_freq_fft = sig_fft.copy()\n",
    "\n",
    "# kill the high frequency components in the frequency domain (set them to zero)\n",
    "high_freq_fft[np.abs(sample_freq) > 10*peak_freq] = 0\n",
    "\n",
    "# transform from frequency domain to time domain\n",
    "filtered_sig = fftpack.ifft(high_freq_fft).real\n",
    "\n",
    "plt.figure(figsize=(12, 5))\n",
    "plt.plot(t, sig, label='Original signal')\n",
    "plt.plot(t, filtered_sig, 'r-', linewidth=3, label='Filtered signal')\n",
    "plt.xlabel('Time [s]')\n",
    "plt.ylabel('Amplitude')\n",
    "\n",
    "plt.legend(loc='best')"
   ]
  },
  {
   "cell_type": "markdown",
   "metadata": {},
   "source": [
    "Observe the the filtered signals contain *some* high frequencies components."
   ]
  },
  {
   "cell_type": "markdown",
   "metadata": {},
   "source": [
    "## Filtering image using FFT\n",
    "\n",
    "Consider the following image:"
   ]
  },
  {
   "cell_type": "code",
   "execution_count": null,
   "metadata": {},
   "outputs": [],
   "source": [
    "im = plt.imread('moonlanding.png')\n",
    "im.shape, im.dtype"
   ]
  },
  {
   "cell_type": "code",
   "execution_count": null,
   "metadata": {},
   "outputs": [],
   "source": [
    "plt.imshow(im, plt.cm.gray)"
   ]
  },
  {
   "cell_type": "markdown",
   "metadata": {},
   "source": [
    "Now we can take 2-dimensional FFT to transform the image into the frequency domain"
   ]
  },
  {
   "cell_type": "code",
   "execution_count": null,
   "metadata": {},
   "outputs": [],
   "source": [
    "im_fft = fftpack.fft2(im)\n",
    "\n",
    "# Show the results\n",
    "def plot_spectrum(im_fft):\n",
    "    from matplotlib.colors import LogNorm\n",
    "    # A logarithmic colormap\n",
    "    plt.imshow(np.abs(im_fft), norm=LogNorm(vmin=5))\n",
    "    plt.colorbar()\n",
    "\n",
    "plt.figure()\n",
    "plot_spectrum(im_fft)\n",
    "plt.title('Fourier transform')"
   ]
  },
  {
   "cell_type": "markdown",
   "metadata": {},
   "source": [
    "Now we can take out the high-frequency components, similar to the 1D example discussed earlier:"
   ]
  },
  {
   "cell_type": "code",
   "execution_count": null,
   "metadata": {},
   "outputs": [],
   "source": [
    "keep_fraction = 0.1\n",
    "\n",
    "# Call ff a copy of the original transform. Numpy arrays have a copy\n",
    "# method for this purpose.\n",
    "im_fft2 = im_fft.copy()\n",
    "\n",
    "# Set r and c to be the number of rows and columns of the array.\n",
    "r, c = im_fft2.shape\n",
    "\n",
    "# Set to zero all rows with indices between r*keep_fraction and\n",
    "# r*(1-keep_fraction):\n",
    "im_fft2[int(r*keep_fraction):int(r*(1-keep_fraction))] = 0\n",
    "\n",
    "# Similarly with the columns:\n",
    "im_fft2[:, int(c*keep_fraction):int(c*(1-keep_fraction))] = 0\n",
    "\n",
    "plt.figure()\n",
    "plot_spectrum(im_fft2)\n",
    "plt.title('Filtered Spectrum')"
   ]
  },
  {
   "cell_type": "code",
   "execution_count": null,
   "metadata": {},
   "outputs": [],
   "source": [
    "im_new = fftpack.ifft2(im_fft2).real\n",
    "\n",
    "plt.figure()\n",
    "plt.imshow(im_new, plt.cm.gray)\n",
    "plt.title('Reconstructed Image')"
   ]
  },
  {
   "cell_type": "markdown",
   "metadata": {},
   "source": [
    "**Exercise** \n",
    "\n",
    "Can you come up with a new filtering criterion that can produce a better image than the reconstructed image above? Experiment!"
   ]
  },
  {
   "cell_type": "code",
   "execution_count": null,
   "metadata": {},
   "outputs": [],
   "source": []
  }
 ],
 "metadata": {
  "kernelspec": {
   "display_name": "Python 3",
   "language": "python",
   "name": "python3"
  },
  "language_info": {
   "codemirror_mode": {
    "name": "ipython",
    "version": 3
   },
   "file_extension": ".py",
   "mimetype": "text/x-python",
   "name": "python",
   "nbconvert_exporter": "python",
   "pygments_lexer": "ipython3",
   "version": "3.7.6"
  }
 },
 "nbformat": 4,
 "nbformat_minor": 4
}
