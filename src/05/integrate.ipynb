{
 "cells": [
  {
   "cell_type": "markdown",
   "metadata": {},
   "source": [
    "# Numerical integration"
   ]
  },
  {
   "cell_type": "code",
   "execution_count": null,
   "metadata": {},
   "outputs": [],
   "source": [
    "%matplotlib inline\n",
    "import numpy as np\n",
    "import matplotlib.pyplot as plt\n",
    "from scipy import integrate"
   ]
  },
  {
   "cell_type": "markdown",
   "metadata": {},
   "source": [
    "## integrating a function\n",
    "\n",
    "The area under the curve of the function.\n",
    "\n",
    "Consider the function $ \\sin(t)$ in the interval $t \\in [0, \\frac{\\pi}{2}]$. Analytically, we know the area under the curve is the integral\n",
    "\n",
    "$$ \\int_0^{\\pi / 2} \\sin(t) dt = - (\\cos(\\pi/2) - \\cos(0)) = 1$$\n",
    "\n",
    "We will use this result to verify the correctness of numerical integration using `integrate.quad()`.\n",
    "\n",
    "Ref: https://docs.scipy.org/doc/scipy/reference/generated/scipy.integrate.quad.html"
   ]
  },
  {
   "cell_type": "code",
   "execution_count": null,
   "metadata": {},
   "outputs": [],
   "source": [
    "def func(t):\n",
    "    return np.sin(t)\n",
    "\n",
    "t = np.linspace(0, np.pi/2, 101)\n",
    "plt.plot(t, func(t), 'r-')\n",
    "plt.xlim([0, np.pi/2])\n",
    "plt.ylim([0, 1.2])\n",
    "plt.xlabel('t')\n",
    "plt.ylabel('f(t)')"
   ]
  },
  {
   "cell_type": "code",
   "execution_count": null,
   "metadata": {},
   "outputs": [],
   "source": [
    "res = integrate.quad(func, 0, np.pi/2, full_output=1)"
   ]
  },
  {
   "cell_type": "code",
   "execution_count": null,
   "metadata": {},
   "outputs": [],
   "source": [
    "# y is the result of the integral. err is error.\n",
    "y, err = res[0], res[1]\n",
    "y, err"
   ]
  },
  {
   "cell_type": "markdown",
   "metadata": {},
   "source": [
    "Other results"
   ]
  },
  {
   "cell_type": "code",
   "execution_count": null,
   "metadata": {},
   "outputs": [],
   "source": [
    "#res[2]"
   ]
  },
  {
   "cell_type": "code",
   "execution_count": null,
   "metadata": {},
   "outputs": [],
   "source": [
    "# visualize the area of integration (shaded in green)\n",
    "\n",
    "t1 = np.linspace(0, 2.5*np.pi, 401)\n",
    "t2 = np.linspace(0, np.pi/2, 101)\n",
    "fig, ax = plt.subplots(1,1)\n",
    "ax.fill_between(t2, 0, func(t2), color='green', alpha=0.3)\n",
    "ax.plot(t1, func(t1), 'r-')\n",
    "ax.hlines(0,0,2.5*np.pi, linewidth=1, linestyle='--')\n",
    "plt.xlim([0, 2.2*np.pi])"
   ]
  },
  {
   "cell_type": "markdown",
   "metadata": {},
   "source": [
    "## Integrating differential equations\n",
    "\n",
    "A differential equation describes the rate of change of some dynamics, such as the spread of a disease, the growth of population, etc.\n",
    "\n",
    "### Example 1\n",
    "\n",
    "Consider the differential equation\n",
    "\n",
    "$$ \\frac{dy}{dt} = -2 y $$\n",
    "\n",
    "with the initial condition $y(t=0) = 1$ in the interval $t \\in [0, 4]$.\n",
    "\n",
    "Analytically, we know the exact solution is\n",
    "\n",
    "$$ y(t) = \\exp(-2t) $$\n",
    "\n",
    "We will use this analytical results to verify our numerical computation."
   ]
  },
  {
   "cell_type": "code",
   "execution_count": null,
   "metadata": {},
   "outputs": [],
   "source": [
    "def y_ana(t):\n",
    "    return np.exp(-2*t)\n",
    "\n",
    "def yprime(y, t):\n",
    "    return -2*y\n",
    "\n",
    "t = np.linspace(0, 4, 101)\n",
    "y = integrate.odeint(yprime, y0=1, t=t)"
   ]
  },
  {
   "cell_type": "code",
   "execution_count": null,
   "metadata": {},
   "outputs": [],
   "source": [
    "# plot the solution\n",
    "plt.plot(t, y, 'r-', label='numerical')\n",
    "plt.plot(t[::3], y_ana(t[::3]), 'bo', label='analytical', markersize=5)\n",
    "plt.legend(frameon=False)\n",
    "plt.xlabel('t')\n",
    "plt.ylabel('y')\n",
    "plt.xlim([0,4.1])"
   ]
  },
  {
   "cell_type": "markdown",
   "metadata": {},
   "source": [
    "### Example 2\n",
    "\n",
    "Consider the spring-mass oscillator described in https://en.wikipedia.org/wiki/Harmonic_oscillator#Damped_harmonic_oscillator\n",
    "\n",
    "The differential equation is \n",
    "\n",
    "$$\n",
    "y'' + 2  \\varepsilon \\omega_0 y' + \\omega_0^2 y = 0\n",
    "$$\n",
    "\n",
    "with $\\omega_0^2 = k/m$ with $k$ the spring constant, $m$ the mass and $\\varepsilon = c/(2 m \\omega_0)$ with $c$ the damping coefficient: $m = 0.5 kg$, $k = 4 N/m$, $c = 0.4 N s/m$. The initial condition is: $y(0)=1$ and $y'(0)=0$. Physically, $y''$ is the acceleration, $y'$ is the velocity, and $y$ is the position. Notationwise, \n",
    "\n",
    "$$y'' = \\frac{d^2 y}{dt^2}, y' = \\frac{d y}{dt}$$\n",
    "\n",
    "We can now implement this in Python."
   ]
  },
  {
   "cell_type": "code",
   "execution_count": null,
   "metadata": {},
   "outputs": [],
   "source": [
    "mass = 0.5      # kg\n",
    "kspring = 4     # N/m\n",
    "cviscous = 0.4  # N s/m"
   ]
  },
  {
   "cell_type": "markdown",
   "metadata": {},
   "source": [
    "$\\varepsilon$ and $\\omega_o$ can be computed as:"
   ]
  },
  {
   "cell_type": "code",
   "execution_count": null,
   "metadata": {},
   "outputs": [],
   "source": [
    "eps = cviscous / (2 * mass * np.sqrt(kspring/mass))\n",
    "omega = np.sqrt(kspring / mass)"
   ]
  },
  {
   "cell_type": "code",
   "execution_count": null,
   "metadata": {},
   "outputs": [],
   "source": [
    "eps, omega"
   ]
  },
  {
   "cell_type": "markdown",
   "metadata": {},
   "source": [
    "Note that $\\varepsilon$ is less than 1; the system is underdamped (see the reference above).m"
   ]
  },
  {
   "cell_type": "markdown",
   "metadata": {},
   "source": [
    "We rewrite the 2nd order differential equation into a system of first-order differential equations\n",
    "\n",
    "$$\n",
    "y_1' = y_2 \\\\\n",
    "y_2' = -2 \\varepsilon \\omega_o y_2 - \\omega_o^2 y_1\n",
    "$$\n",
    "where $y = y_1$ and $y' = y_2$.\n",
    "\n",
    "The initial condition can be written as $y_1=1$ and $y_2=0$:"
   ]
  },
  {
   "cell_type": "code",
   "execution_count": null,
   "metadata": {},
   "outputs": [],
   "source": [
    "# y[0] is y1, y[1] is y2\n",
    "def rhs(y, t, eps, omega):\n",
    "    return (y[1], -2*eps*omega*y[1] - omega**2 * y[0])"
   ]
  },
  {
   "cell_type": "code",
   "execution_count": null,
   "metadata": {},
   "outputs": [],
   "source": [
    "t = np.linspace(0, 10, 101)\n",
    "yinit = (0,1)\n",
    "y = integrate.odeint(rhs,yinit,t,args=(eps, omega))"
   ]
  },
  {
   "cell_type": "code",
   "execution_count": null,
   "metadata": {},
   "outputs": [],
   "source": [
    "# plot the solution\n",
    "\n",
    "plt.plot(t, y[:,0], 'b-', label='y (position)')\n",
    "plt.plot(t, y[:,1], 'r-', label=\"y' (velocity)\")\n",
    "plt.xlim([0,10])\n",
    "plt.xlabel('t')\n",
    "plt.ylabel(\"y, y'\")\n",
    "plt.legend()"
   ]
  },
  {
   "cell_type": "markdown",
   "metadata": {},
   "source": [
    "**Exercise**\n",
    "\n",
    "1. Why does the initial condition $y(0)=0, y'(0)=1$ corresponds to `yinit=(0,1)`? Does it match the curves in the plot at $t=0$?\n",
    "2. Use a different initial condition $y(0)=2$ and $y'(0)=2$ and repeat the calculation. Plot the solution."
   ]
  },
  {
   "cell_type": "markdown",
   "metadata": {},
   "source": [
    "## Example 3: disease transmission\n",
    "\n",
    "Consider the SEIR model discussed previously:\n",
    "\n",
    "$$\n",
    "\\frac{dS}{dt} = -\\frac{\\beta S I}{N} \\\\\n",
    "\\frac{dE}{dt} = \\frac{\\beta SI}{N} - \\sigma E \\\\\n",
    "\\frac{dI}{dt} = \\sigma E - \\gamma I \\\\\n",
    "\\frac{dR}{dt} = \\gamma I \\\\\n",
    "N = S + E + I + R\n",
    "$$\n",
    "\n",
    "where\n",
    "$\\beta$ is the infection rate, $\\sigma$ the incubation rate, and $\\gamma$ the recover rate.\n",
    "\n",
    "Ref: https://en.wikipedia.org/wiki/Compartmental_models_in_epidemiology#The_SEIR_model"
   ]
  },
  {
   "cell_type": "code",
   "execution_count": null,
   "metadata": {},
   "outputs": [],
   "source": [
    "from scipy import integrate\n",
    "\n",
    "def rhs_seir(z, t, beta, sigma, gamma):\n",
    "    \"\"\"\n",
    "    Reference https://www.idmod.org/docs/hiv/model-seir.html\n",
    "    \"\"\"\n",
    "    S, E, I, R = z\n",
    "    N = S + E + I + R\n",
    "    dSdt = -beta*S*I/N\n",
    "    dEdt = beta*S*I/N - sigma*E\n",
    "    dIdt = sigma*E - gamma*I\n",
    "    dRdt = gamma*I\n",
    "    return [dSdt, dEdt, dIdt, dRdt]"
   ]
  },
  {
   "cell_type": "code",
   "execution_count": null,
   "metadata": {},
   "outputs": [],
   "source": [
    "def ode_solver(t, initial_conditions, params):\n",
    "    initE, initI, initR, initN = initial_conditions\n",
    "    beta, sigma, gamma = params\n",
    "    initS = initN - (initE + initI + initR)\n",
    "    res = integrate.odeint(rhs_seir, [initS, initE, initI, initR], t, args=(beta, sigma, gamma))\n",
    "    return res"
   ]
  },
  {
   "cell_type": "markdown",
   "metadata": {},
   "source": [
    "We assume the following parameters:"
   ]
  },
  {
   "cell_type": "code",
   "execution_count": null,
   "metadata": {},
   "outputs": [],
   "source": [
    "t = np.linspace(0, 150, 300)\n",
    "initE = 0\n",
    "initI = 1\n",
    "initR = 0\n",
    "initN = 300000000     # total population\n",
    "ic = [initE, initI, initR, initN]\n",
    "beta = 1.38      # infection rate\n",
    "sigma = 0.19     # incubation rate\n",
    "gamma = 0.34     # recovery rate\n",
    "params = [beta, sigma, gamma]\n",
    "res = ode_solver(t, ic, params)"
   ]
  },
  {
   "cell_type": "code",
   "execution_count": null,
   "metadata": {},
   "outputs": [],
   "source": [
    "res.shape"
   ]
  },
  {
   "cell_type": "code",
   "execution_count": null,
   "metadata": {},
   "outputs": [],
   "source": [
    "S, E, I, R = res[:,0], res[:,1], res[:,2], res[:,3]"
   ]
  },
  {
   "cell_type": "code",
   "execution_count": null,
   "metadata": {},
   "outputs": [],
   "source": [
    "plt.figure(figsize=(12,6))\n",
    "plt.plot(t, S, 'g-', label='S, Susceptible')\n",
    "plt.plot(t, E, 'b-', label='E, Exposed')\n",
    "plt.plot(t, I, 'r-', label='I, Infected')\n",
    "plt.plot(t, R, 'k--', label='R, Recovered')\n",
    "plt.ylabel('population')\n",
    "plt.xlabel('days')\n",
    "plt.legend(fontsize=16, frameon=False)\n",
    "plt.xlim([t[0], t[-1]])"
   ]
  },
  {
   "cell_type": "markdown",
   "metadata": {},
   "source": [
    "**Exercise**\n",
    "\n",
    "1. What is the infected population if `initE = initI = initR = 0`?\n",
    "2. Try different values of `beta`, `sigma` and `gamma`, and see how the peaks of `S`, `E`, `I`, `R` move? Does the trend follow your intuition?"
   ]
  },
  {
   "cell_type": "code",
   "execution_count": null,
   "metadata": {},
   "outputs": [],
   "source": []
  },
  {
   "cell_type": "code",
   "execution_count": null,
   "metadata": {},
   "outputs": [],
   "source": []
  }
 ],
 "metadata": {
  "kernelspec": {
   "display_name": "Python 3",
   "language": "python",
   "name": "python3"
  },
  "language_info": {
   "codemirror_mode": {
    "name": "ipython",
    "version": 3
   },
   "file_extension": ".py",
   "mimetype": "text/x-python",
   "name": "python",
   "nbconvert_exporter": "python",
   "pygments_lexer": "ipython3",
   "version": "3.7.6"
  }
 },
 "nbformat": 4,
 "nbformat_minor": 4
}
