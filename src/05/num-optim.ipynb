{
 "cells": [
  {
   "cell_type": "markdown",
   "metadata": {},
   "source": [
    "# Numerical optimization"
   ]
  },
  {
   "cell_type": "code",
   "execution_count": null,
   "metadata": {},
   "outputs": [],
   "source": [
    "%matplotlib inline\n",
    "import numpy as np\n",
    "import matplotlib.pyplot as plt\n",
    "\n",
    "from scipy import optimize"
   ]
  },
  {
   "cell_type": "markdown",
   "metadata": {},
   "source": [
    "## Example 1\n",
    "\n",
    "Consider the minimization of the function\n",
    "\n",
    "$$ f(x) = \\exp[ (x-0.7)^2 ] $$\n",
    "\n",
    "Analytically, we know the minimimum of $f$ is at $x=0.7$. To verify, we can plot $f(x)$ to see:"
   ]
  },
  {
   "cell_type": "code",
   "execution_count": null,
   "metadata": {},
   "outputs": [],
   "source": [
    "def f(x):\n",
    "    return -np.exp(-(x - 0.7)**2)"
   ]
  },
  {
   "cell_type": "code",
   "execution_count": null,
   "metadata": {},
   "outputs": [],
   "source": [
    "x=np.linspace(0.4, 1.0, 101)\n",
    "plt.plot(x, f(x), 'r-')\n",
    "plt.plot([0.7],f(0.7), 'ko')"
   ]
  },
  {
   "cell_type": "code",
   "execution_count": null,
   "metadata": {},
   "outputs": [],
   "source": [
    "# Use minimizer to get the minimum point\n",
    "\n",
    "result = optimize.minimize_scalar(f)"
   ]
  },
  {
   "cell_type": "code",
   "execution_count": null,
   "metadata": {},
   "outputs": [],
   "source": [
    "# always check the documentation\n",
    "#optimize.minimize_scalar?"
   ]
  },
  {
   "cell_type": "code",
   "execution_count": null,
   "metadata": {},
   "outputs": [],
   "source": [
    "result.success"
   ]
  },
  {
   "cell_type": "code",
   "execution_count": null,
   "metadata": {},
   "outputs": [],
   "source": [
    "result.x"
   ]
  },
  {
   "cell_type": "markdown",
   "metadata": {},
   "source": [
    "## Example 2\n",
    "\n",
    "Consider another function\n",
    "\n",
    "$$ f(x) = (x-x_0)^2 + \\varepsilon \\exp[ -5*(x-0.5-x_o)^2 ] $$\n",
    "\n",
    "where $\\varepsilon$ is 0 or 1. When $\\varepsilon=0$, $f(x)$ is convex. When $\\varepsilon=1$, $f(x)$ is non-convex."
   ]
  },
  {
   "cell_type": "code",
   "execution_count": null,
   "metadata": {},
   "outputs": [],
   "source": [
    "import numpy as np\n",
    "import matplotlib.pyplot as plt\n",
    "from scipy import optimize\n",
    "\n",
    "x = np.linspace(-1, 3, 100)\n",
    "x_0 = np.exp(-1)\n",
    "\n",
    "def f(x):\n",
    "    return (x - x_0)**2 + epsilon*np.exp(-5*(x - .5 - x_0)**2)"
   ]
  },
  {
   "cell_type": "code",
   "execution_count": null,
   "metadata": {},
   "outputs": [],
   "source": [
    "for epsilon in (0,1):\n",
    "    plt.figure(figsize=(3, 2.5))\n",
    "    plt.axes([0, 0, 1, 1])\n",
    "    plt.plot(x, f(x),'k-')\n",
    "    plt.text(0, 5, r'$\\varepsilon=$' + '{}'.format(epsilon),size=16)\n",
    "    plt.ylabel(r'$f(x)$')\n",
    "    plt.xlabel(r'$x$')"
   ]
  },
  {
   "cell_type": "markdown",
   "metadata": {},
   "source": [
    "We will use the following functions from numpy:\n",
    "- finfo(): https://numpy.org/doc/stable/reference/generated/numpy.finfo.html\n",
    "\n",
    "For example:"
   ]
  },
  {
   "cell_type": "code",
   "execution_count": null,
   "metadata": {},
   "outputs": [],
   "source": [
    "# For 64-bit binary floats in the IEEE-754 standard, eps = 2**-52, approx. 2e-16, i.e.\n",
    "np.finfo(1.).eps"
   ]
  },
  {
   "cell_type": "code",
   "execution_count": null,
   "metadata": {},
   "outputs": [],
   "source": [
    "for epsilon in (0, 1):\n",
    "    plt.figure(figsize=(8, 3))\n",
    "    plt.axes([0, 0, 1, 1])\n",
    "\n",
    "    # A convex function\n",
    "    plt.subplot(1,2,1)\n",
    "    plt.text(0, 5, r'$\\varepsilon=$' + '{}'.format(epsilon),size=16)\n",
    "    plt.plot(x, f(x), color='lightgray', linewidth=2)\n",
    "    \n",
    "\n",
    "    # Apply brent method. To have access to the iteration, do this in an\n",
    "    # artificial way: allow the algorithm to iter only once\n",
    "    all_x = list()\n",
    "    all_y = list()\n",
    "    for iter in range(30):\n",
    "        result = optimize.minimize_scalar(f, bracket=(-5, 2.9, 4.5), method=\"Brent\",\n",
    "                    options={\"maxiter\": iter}, tol=np.finfo(1.).eps)\n",
    "        if result.success:\n",
    "            print('Converged at ', iter, ', x=', result.x)\n",
    "            break\n",
    "\n",
    "        this_x = result.x\n",
    "        all_x.append(this_x)\n",
    "        all_y.append(f(this_x))\n",
    "        if iter < 6:\n",
    "            # print iteration number near [this_x,f(this_x)]\n",
    "            plt.text(this_x - .05*np.sign(this_x) - .05,\n",
    "                    f(this_x) + 1.2*(.3 - iter % 2), iter + 1,\n",
    "                    size=12)\n",
    "\n",
    "    plt.plot(all_x[:10], all_y[:10], 'k+', markersize=12, markeredgewidth=2)\n",
    "\n",
    "    plt.plot(all_x[-1], all_y[-1], 'rx', markersize=12)\n",
    "    plt.axis('off')\n",
    "    plt.ylim(ymin=-1, ymax=8)\n",
    "\n",
    "    #plt.figure(figsize=(4, 3))\n",
    "    plt.subplot(1,2,2)\n",
    "    # error = (current value) - (final value)\n",
    "    plt.semilogy(np.abs(all_y - all_y[-1]), '--ko', linewidth=2)\n",
    "    plt.ylabel('Error on f(x)')\n",
    "    plt.xlabel('Iteration')\n",
    "    plt.tight_layout()"
   ]
  },
  {
   "cell_type": "markdown",
   "metadata": {},
   "source": [
    "## Nonlinear least squares\n",
    "\n",
    "https://docs.scipy.org/doc/scipy/reference/generated/scipy.optimize.curve_fit.html#scipy.optimize.curve_fit"
   ]
  },
  {
   "cell_type": "markdown",
   "metadata": {},
   "source": [
    "Consider the function"
   ]
  },
  {
   "cell_type": "code",
   "execution_count": null,
   "metadata": {},
   "outputs": [],
   "source": [
    "def f(t, omega, phi):\n",
    "    return np.cos(omega * t + phi)"
   ]
  },
  {
   "cell_type": "code",
   "execution_count": null,
   "metadata": {},
   "outputs": [],
   "source": [
    "N = 101\n",
    "x = np.linspace(0, 3, N)\n",
    "omega = 1.5\n",
    "phi = 1"
   ]
  },
  {
   "cell_type": "code",
   "execution_count": null,
   "metadata": {},
   "outputs": [],
   "source": [
    "y = f(x, omega, phi) + .1*np.random.normal(size=len(x))\n",
    "plt.figure()\n",
    "plt.plot(x,y,'rx')"
   ]
  },
  {
   "cell_type": "code",
   "execution_count": null,
   "metadata": {},
   "outputs": [],
   "source": [
    "res = optimize.curve_fit(f, x, y)   "
   ]
  },
  {
   "cell_type": "code",
   "execution_count": null,
   "metadata": {},
   "outputs": [],
   "source": [
    "omega, phi = res[0]"
   ]
  },
  {
   "cell_type": "code",
   "execution_count": null,
   "metadata": {},
   "outputs": [],
   "source": [
    "plt.plot(x,f(x,omega,phi),'k-')\n",
    "plt.plot(x,y,'r+')"
   ]
  },
  {
   "cell_type": "markdown",
   "metadata": {},
   "source": [
    "Consider a different omega value\n",
    "\n",
    "### omega = 2"
   ]
  },
  {
   "cell_type": "code",
   "execution_count": null,
   "metadata": {},
   "outputs": [],
   "source": [
    "omega = 2\n",
    "phi = 1\n",
    "y = f(x, omega, phi) + .1*np.random.normal(size=len(x))\n",
    "plt.figure()\n",
    "plt.plot(x,y,'rx')"
   ]
  },
  {
   "cell_type": "code",
   "execution_count": null,
   "metadata": {},
   "outputs": [],
   "source": [
    "res = optimize.curve_fit(f, x, y)   \n",
    "omega, phi = res[0]\n",
    "plt.figure()\n",
    "plt.plot(x,f(x,omega,phi),'k-')\n",
    "plt.plot(x,y,'r+')"
   ]
  },
  {
   "cell_type": "code",
   "execution_count": null,
   "metadata": {},
   "outputs": [],
   "source": [
    "res"
   ]
  },
  {
   "cell_type": "markdown",
   "metadata": {},
   "source": [
    "### omega = 3"
   ]
  },
  {
   "cell_type": "code",
   "execution_count": null,
   "metadata": {},
   "outputs": [],
   "source": [
    "omega = 3\n",
    "phi = 1\n",
    "y = f(x, omega, phi) + .1*np.random.normal(size=len(x))\n",
    "res = optimize.curve_fit(f, x, y)   \n",
    "omega, phi = res[0]\n",
    "plt.figure()\n",
    "plt.plot(x,f(x,omega,phi),'k-')\n",
    "plt.plot(x,y,'r+')"
   ]
  },
  {
   "cell_type": "code",
   "execution_count": null,
   "metadata": {},
   "outputs": [],
   "source": [
    "res"
   ]
  },
  {
   "cell_type": "code",
   "execution_count": null,
   "metadata": {},
   "outputs": [],
   "source": [
    "# If we specify the right bounds...\n",
    "\n",
    "res = optimize.curve_fit(f, x, y, bounds = ([0,1],[2,2]))   \n",
    "#res = optimize.curve_fit(f, x, y, bounds = ([2,1],[4,2]))   \n",
    "omega, phi = res[0]\n",
    "plt.figure()\n",
    "plt.plot(x,f(x,omega,phi),'k-')\n",
    "plt.plot(x,y,'r+')"
   ]
  },
  {
   "cell_type": "code",
   "execution_count": null,
   "metadata": {},
   "outputs": [],
   "source": [
    "res"
   ]
  },
  {
   "cell_type": "markdown",
   "metadata": {},
   "source": [
    "## Constrained optimization\n",
    "\n",
    "### Example 1\n",
    "\n",
    "Consider the two-dimensional function\n",
    "\n",
    "$$ f(x_0, x_1) = \\sqrt{ (x_0-3)^2 + (x_1 - 2)^2 } $$\n",
    "\n",
    "subjecto to the constrains of\n",
    "\n",
    "$$ -1.5 \\leq x_0 \\leq 1.5$$\n",
    "$$ -1.5 \\leq x_1 \\leq 1.5$$\n",
    "\n",
    "**Note 1**  Without the constraints the $f(x_0,x_1)$ would occur at $x_0=3$ and $x_1=2$.\n",
    "\n",
    "**Note 2** The derivatives (or gradient) of $f$ with respect to $x_0$ and $x_1$ are (Exercise: verify this!)\n",
    "\n",
    "$$ \\frac{\\partial f}{\\partial x_0} = \\frac{x_0 - 3}{f}$$\n",
    "$$ \\frac{\\partial f}{\\partial x_1} = \\frac{x_1 - 2}{f}$$\n",
    "\n",
    "See the function `f_prime(x)` below."
   ]
  },
  {
   "cell_type": "code",
   "execution_count": null,
   "metadata": {},
   "outputs": [],
   "source": [
    "def f(x):\n",
    "   return np.sqrt((x[0] - 3)**2 + (x[1] - 2)**2)"
   ]
  },
  {
   "cell_type": "code",
   "execution_count": null,
   "metadata": {},
   "outputs": [],
   "source": [
    "res = optimize.minimize(f, np.array([0, 0]), bounds=((-1.5, 1.5), (-1.5, 1.5))) \n",
    "res"
   ]
  },
  {
   "cell_type": "code",
   "execution_count": null,
   "metadata": {},
   "outputs": [],
   "source": [
    "x, y = np.mgrid[-2.9:5.8:.05, -2.5:5:.05]\n",
    "x = x.T\n",
    "y = y.T\n",
    "\n",
    "for i in (1, 2):\n",
    "    # Create 2 figure: only the second one will have the optimization\n",
    "    # path\n",
    "    plt.figure(i, figsize=(3, 2.5))\n",
    "    plt.clf()                           # clear the current figure\n",
    "    plt.axes([0, 0, 1, 1])\n",
    "\n",
    "    contours = plt.contour(np.sqrt((x - 3)**2 + (y - 2)**2),\n",
    "                        extent=[-3, 6, -2.5, 5],\n",
    "                        cmap=plt.cm.gnuplot)\n",
    "    plt.clabel(contours,\n",
    "            inline=1,\n",
    "            fmt='%1.1f',\n",
    "            fontsize=14)\n",
    "    plt.plot([-1.5, -1.5,  1.5,  1.5, -1.5],\n",
    "            [-1.5,  1.5,  1.5, -1.5, -1.5], 'k', linewidth=2)\n",
    "    plt.fill_between([ -1.5,  1.5],\n",
    "                    [ -1.5, -1.5],\n",
    "                    [  1.5,  1.5],\n",
    "                    color='.8')\n",
    "    plt.axvline(0, color='k')\n",
    "    plt.axhline(0, color='k')\n",
    "\n",
    "    plt.text(-.9, 4.4, '$x_2$', size=20)\n",
    "    plt.text(5.6, -.6, '$x_1$', size=20)\n",
    "    plt.axis('equal')\n",
    "    plt.axis('off')\n",
    "\n",
    "# And now plot the optimization path\n",
    "accumulator = list()\n",
    "\n",
    "def f(x):\n",
    "    # Store the list of function calls\n",
    "    accumulator.append(x)\n",
    "    return np.sqrt((x[0] - 3)**2 + (x[1] - 2)**2)\n",
    "\n",
    "\n",
    "# We don't use the gradient, as with the gradient, L-BFGS is too fast,\n",
    "# and finds the optimum without showing us a pretty path\n",
    "def f_prime(x):\n",
    "    r = np.sqrt((x[0] - 3)**2 + (x[0] - 2)**2)\n",
    "    return np.array(((x[0] - 3)/r, (x[0] - 2)/r))\n",
    "\n",
    "optimize.minimize(f, np.array([0, 0]), method=\"L-BFGS-B\",\n",
    "                     bounds=((-1.5, 1.5), (-1.5, 1.5)))\n",
    "\n",
    "accumulated = np.array(accumulator)\n",
    "plt.plot(accumulated[:, 0], accumulated[:, 1])"
   ]
  },
  {
   "cell_type": "code",
   "execution_count": null,
   "metadata": {},
   "outputs": [],
   "source": [
    "# accumulated has the search paths\n",
    "accumulated"
   ]
  },
  {
   "cell_type": "markdown",
   "metadata": {},
   "source": [
    "### Example 2\n",
    "\n",
    "Consider the function\n",
    "\n",
    "$$ f(x_0, x_1) = \\sqrt{ (x_0-3)^2 + (x_1 - 2)^2 } $$\n",
    "\n",
    "subject to the constrains: $g(x_0, x_1) \\geq 0$ where\n",
    "\n",
    "$$ g(x_0, x_1) = 1.5 - ( \\left| x_0 \\right| + \\left| x_1 \\right|)$$.\n",
    "\n",
    "$g \\geq 0$ is the shaded region plotted below. (Quiz: why?)"
   ]
  },
  {
   "cell_type": "code",
   "execution_count": null,
   "metadata": {},
   "outputs": [],
   "source": [
    "# Plot the geometry of g\n",
    "\n",
    "plt.figure()\n",
    "plt.plot([-1.5,    0,  1.5,    0, -1.5],\n",
    "        [   0,  1.5,    0, -1.5,    0], 'k', linewidth=2)\n",
    "plt.fill_between([ -1.5,    0,  1.5],\n",
    "                [    0, -1.5,    0],\n",
    "                [    0,  1.5,    0],\n",
    "                color='.8')\n",
    "plt.axvline(0, color='k', linewidth=1)\n",
    "plt.axhline(0, color='k', linewidth=1)\n",
    "plt.text(0, 1.7, '$x_2$', size=16)\n",
    "plt.text(1.7,0, '$x_1$', size=16)\n",
    "plt.axis('off')"
   ]
  },
  {
   "cell_type": "markdown",
   "metadata": {},
   "source": [
    "`fill_between()`: https://matplotlib.org/3.2.2/api/_as_gen/matplotlib.pyplot.fill_between.html"
   ]
  },
  {
   "cell_type": "markdown",
   "metadata": {},
   "source": [
    "#### Preparation\n",
    "\n",
    "Some of the tricks we will use in the code further below:"
   ]
  },
  {
   "cell_type": "code",
   "execution_count": null,
   "metadata": {},
   "outputs": [],
   "source": [
    "x, y = np.mgrid[-2.03:4.2:.04, -1.6:3.2:.04]\n",
    "x = x.T\n",
    "y = y.T\n",
    "x"
   ]
  },
  {
   "cell_type": "code",
   "execution_count": null,
   "metadata": {},
   "outputs": [],
   "source": [
    "# This function ensures that the result is an numpy array\n",
    "np.atleast_1d(1.5 - np.sum(np.abs(x)))"
   ]
  },
  {
   "cell_type": "code",
   "execution_count": null,
   "metadata": {},
   "outputs": [],
   "source": [
    "# otherwise\n",
    "1.5 - np.sum(np.abs(x))"
   ]
  },
  {
   "cell_type": "code",
   "execution_count": null,
   "metadata": {},
   "outputs": [],
   "source": [
    "import numpy as np\n",
    "import matplotlib.pyplot as plt\n",
    "from scipy import optimize\n",
    "\n",
    "x, y = np.mgrid[-2.03:4.2:.04, -1.6:3.2:.04]\n",
    "x = x.T\n",
    "y = y.T\n",
    "\n",
    "plt.figure(1, figsize=(8, 5))\n",
    "plt.clf()\n",
    "plt.axes([0, 0, 1, 1])\n",
    "\n",
    "contours = plt.contour(np.sqrt((x - 3)**2 + (y - 2)**2),\n",
    "                    extent=[-2.03, 4.2, -1.6, 3.2],\n",
    "                    cmap=plt.cm.gnuplot)\n",
    "plt.clabel(contours,\n",
    "        inline=1,\n",
    "        fmt='%1.1f',\n",
    "        fontsize=14)\n",
    "plt.plot([-1.5,    0,  1.5,    0, -1.5],\n",
    "        [   0,  1.5,    0, -1.5,    0], 'k', linewidth=2)\n",
    "plt.fill_between([ -1.5,    0,  1.5],\n",
    "                [    0, -1.5,    0],\n",
    "                [    0,  1.5,    0],\n",
    "                color='.8')\n",
    "plt.axvline(0, color='k')\n",
    "plt.axhline(0, color='k')\n",
    "\n",
    "plt.text(-.9, 2.8, '$x_2$', size=20)\n",
    "plt.text(3.6, -.6, '$x_1$', size=20)\n",
    "plt.axis('tight')\n",
    "plt.axis('off')\n",
    "\n",
    "# And now plot the optimization path\n",
    "accumulator = list()\n",
    "\n",
    "def f(x):\n",
    "    # Store the list of function calls\n",
    "    accumulator.append(x)\n",
    "    return np.sqrt((x[0] - 3)**2 + (x[1] - 2)**2)\n",
    "\n",
    "\n",
    "def constraint(x):\n",
    "    return np.atleast_1d(1.5 - np.sum(np.abs(x)))\n",
    "\n",
    "optimize.minimize(f, np.array([0, 0]), method=\"SLSQP\",\n",
    "                     constraints={\"fun\": constraint, \"type\": \"ineq\"})\n",
    "\n",
    "accumulated = np.array(accumulator)\n",
    "plt.plot(accumulated[:, 0], accumulated[:, 1])"
   ]
  },
  {
   "cell_type": "code",
   "execution_count": null,
   "metadata": {},
   "outputs": [],
   "source": [
    "accumulated"
   ]
  },
  {
   "cell_type": "code",
   "execution_count": null,
   "metadata": {},
   "outputs": [],
   "source": []
  }
 ],
 "metadata": {
  "kernelspec": {
   "display_name": "Python 3",
   "language": "python",
   "name": "python3"
  },
  "language_info": {
   "codemirror_mode": {
    "name": "ipython",
    "version": 3
   },
   "file_extension": ".py",
   "mimetype": "text/x-python",
   "name": "python",
   "nbconvert_exporter": "python",
   "pygments_lexer": "ipython3",
   "version": "3.7.6"
  }
 },
 "nbformat": 4,
 "nbformat_minor": 4
}
